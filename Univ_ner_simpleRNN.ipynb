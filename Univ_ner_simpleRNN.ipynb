{
  "cells": [
    {
      "cell_type": "markdown",
      "source": [
        "## Data preprocessing"
      ],
      "metadata": {
        "id": "8cx0VLN1hL0C"
      }
    },
    {
      "cell_type": "code",
      "source": [
        "print(\"Hi TA's. Please consider our request to look at both this notebook and a second notebook with the code for our second model which we presented in our final ppt.\")\n",
        "print(\"We thought we could share only one notebook in the code. So adding the link here\")\n",
        "print(\"https://colab.research.google.com/drive/1sO60kX-EE-67Qdg27-4hLkcUlK2v6Qdk?usp=sharing\")"
      ],
      "metadata": {
        "colab": {
          "base_uri": "https://localhost:8080/"
        },
        "id": "telVO2trPFO_",
        "outputId": "de2c51ee-4c2f-43ad-e461-09fb153c42dd"
      },
      "execution_count": null,
      "outputs": [
        {
          "output_type": "stream",
          "name": "stdout",
          "text": [
            "Hi TA's. Please consider our request to look at both this notebook and a second notebook with the code for our second model which we presented in our final ppt.\n",
            "We thought we could share only one notebook in the code. So adding the link here\n",
            "https://colab.research.google.com/drive/1sO60kX-EE-67Qdg27-4hLkcUlK2v6Qdk?usp=sharing\n"
          ]
        }
      ]
    },
    {
      "cell_type": "code",
      "execution_count": null,
      "metadata": {
        "id": "9pUpQ3gNNydz"
      },
      "outputs": [],
      "source": [
        "import json\n",
        "import pandas as pd\n",
        "import matplotlib.pyplot as plt\n",
        "plt.style.use(\"ggplot\")"
      ]
    },
    {
      "cell_type": "code",
      "execution_count": null,
      "metadata": {
        "id": "WjKwkP0-1pF_"
      },
      "outputs": [],
      "source": [
        "df = pd.DataFrame([],columns=['bibcode', 'label_studio_id', 'ner_ids', 'ner_tags', 'section',\n",
        "       'tokens', 'unique_id'])"
      ]
    },
    {
      "cell_type": "code",
      "execution_count": null,
      "metadata": {
        "id": "35K2ep3qOgfK"
      },
      "outputs": [],
      "source": [
        "with open(\"/content/WIESP2022-NER-TRAINING.jsonl\", 'r') as f:\n",
        "    wiesp_dev_json = [json.loads(l) for l in list(f)]"
      ]
    },
    {
      "cell_type": "code",
      "execution_count": null,
      "metadata": {
        "id": "o25yq6Pa6Yp_"
      },
      "outputs": [],
      "source": [
        "for i in wiesp_dev_json:\n",
        "  df=df.append(pd.DataFrame(i))"
      ]
    },
    {
      "cell_type": "code",
      "execution_count": null,
      "metadata": {
        "colab": {
          "base_uri": "https://localhost:8080/",
          "height": 206
        },
        "id": "SZf89RRhOqY6",
        "outputId": "00643b56-7185-42a8-e2d1-cc02d321b9ad"
      },
      "outputs": [
        {
          "output_type": "execute_result",
          "data": {
            "text/plain": [
              "               bibcode label_studio_id ner_ids ner_tags   section      tokens  \\\n",
              "0  2019MNRAS.486.5558S             487      62        O  fulltext      Whilst   \n",
              "1  2019MNRAS.486.5558S             487      62        O  fulltext           a   \n",
              "2  2019MNRAS.486.5558S             487      62        O  fulltext  reasonable   \n",
              "3  2019MNRAS.486.5558S             487      62        O  fulltext    harmonic   \n",
              "4  2019MNRAS.486.5558S             487      62        O  fulltext         fit   \n",
              "\n",
              "                          unique_id  \n",
              "0  fulltext_487_2019MNRAS.486.5558S  \n",
              "1  fulltext_487_2019MNRAS.486.5558S  \n",
              "2  fulltext_487_2019MNRAS.486.5558S  \n",
              "3  fulltext_487_2019MNRAS.486.5558S  \n",
              "4  fulltext_487_2019MNRAS.486.5558S  "
            ],
            "text/html": [
              "\n",
              "  <div id=\"df-d3bc1884-fb63-46e4-bea9-c7b343052d0b\">\n",
              "    <div class=\"colab-df-container\">\n",
              "      <div>\n",
              "<style scoped>\n",
              "    .dataframe tbody tr th:only-of-type {\n",
              "        vertical-align: middle;\n",
              "    }\n",
              "\n",
              "    .dataframe tbody tr th {\n",
              "        vertical-align: top;\n",
              "    }\n",
              "\n",
              "    .dataframe thead th {\n",
              "        text-align: right;\n",
              "    }\n",
              "</style>\n",
              "<table border=\"1\" class=\"dataframe\">\n",
              "  <thead>\n",
              "    <tr style=\"text-align: right;\">\n",
              "      <th></th>\n",
              "      <th>bibcode</th>\n",
              "      <th>label_studio_id</th>\n",
              "      <th>ner_ids</th>\n",
              "      <th>ner_tags</th>\n",
              "      <th>section</th>\n",
              "      <th>tokens</th>\n",
              "      <th>unique_id</th>\n",
              "    </tr>\n",
              "  </thead>\n",
              "  <tbody>\n",
              "    <tr>\n",
              "      <th>0</th>\n",
              "      <td>2019MNRAS.486.5558S</td>\n",
              "      <td>487</td>\n",
              "      <td>62</td>\n",
              "      <td>O</td>\n",
              "      <td>fulltext</td>\n",
              "      <td>Whilst</td>\n",
              "      <td>fulltext_487_2019MNRAS.486.5558S</td>\n",
              "    </tr>\n",
              "    <tr>\n",
              "      <th>1</th>\n",
              "      <td>2019MNRAS.486.5558S</td>\n",
              "      <td>487</td>\n",
              "      <td>62</td>\n",
              "      <td>O</td>\n",
              "      <td>fulltext</td>\n",
              "      <td>a</td>\n",
              "      <td>fulltext_487_2019MNRAS.486.5558S</td>\n",
              "    </tr>\n",
              "    <tr>\n",
              "      <th>2</th>\n",
              "      <td>2019MNRAS.486.5558S</td>\n",
              "      <td>487</td>\n",
              "      <td>62</td>\n",
              "      <td>O</td>\n",
              "      <td>fulltext</td>\n",
              "      <td>reasonable</td>\n",
              "      <td>fulltext_487_2019MNRAS.486.5558S</td>\n",
              "    </tr>\n",
              "    <tr>\n",
              "      <th>3</th>\n",
              "      <td>2019MNRAS.486.5558S</td>\n",
              "      <td>487</td>\n",
              "      <td>62</td>\n",
              "      <td>O</td>\n",
              "      <td>fulltext</td>\n",
              "      <td>harmonic</td>\n",
              "      <td>fulltext_487_2019MNRAS.486.5558S</td>\n",
              "    </tr>\n",
              "    <tr>\n",
              "      <th>4</th>\n",
              "      <td>2019MNRAS.486.5558S</td>\n",
              "      <td>487</td>\n",
              "      <td>62</td>\n",
              "      <td>O</td>\n",
              "      <td>fulltext</td>\n",
              "      <td>fit</td>\n",
              "      <td>fulltext_487_2019MNRAS.486.5558S</td>\n",
              "    </tr>\n",
              "  </tbody>\n",
              "</table>\n",
              "</div>\n",
              "      <button class=\"colab-df-convert\" onclick=\"convertToInteractive('df-d3bc1884-fb63-46e4-bea9-c7b343052d0b')\"\n",
              "              title=\"Convert this dataframe to an interactive table.\"\n",
              "              style=\"display:none;\">\n",
              "        \n",
              "  <svg xmlns=\"http://www.w3.org/2000/svg\" height=\"24px\"viewBox=\"0 0 24 24\"\n",
              "       width=\"24px\">\n",
              "    <path d=\"M0 0h24v24H0V0z\" fill=\"none\"/>\n",
              "    <path d=\"M18.56 5.44l.94 2.06.94-2.06 2.06-.94-2.06-.94-.94-2.06-.94 2.06-2.06.94zm-11 1L8.5 8.5l.94-2.06 2.06-.94-2.06-.94L8.5 2.5l-.94 2.06-2.06.94zm10 10l.94 2.06.94-2.06 2.06-.94-2.06-.94-.94-2.06-.94 2.06-2.06.94z\"/><path d=\"M17.41 7.96l-1.37-1.37c-.4-.4-.92-.59-1.43-.59-.52 0-1.04.2-1.43.59L10.3 9.45l-7.72 7.72c-.78.78-.78 2.05 0 2.83L4 21.41c.39.39.9.59 1.41.59.51 0 1.02-.2 1.41-.59l7.78-7.78 2.81-2.81c.8-.78.8-2.07 0-2.86zM5.41 20L4 18.59l7.72-7.72 1.47 1.35L5.41 20z\"/>\n",
              "  </svg>\n",
              "      </button>\n",
              "      \n",
              "  <style>\n",
              "    .colab-df-container {\n",
              "      display:flex;\n",
              "      flex-wrap:wrap;\n",
              "      gap: 12px;\n",
              "    }\n",
              "\n",
              "    .colab-df-convert {\n",
              "      background-color: #E8F0FE;\n",
              "      border: none;\n",
              "      border-radius: 50%;\n",
              "      cursor: pointer;\n",
              "      display: none;\n",
              "      fill: #1967D2;\n",
              "      height: 32px;\n",
              "      padding: 0 0 0 0;\n",
              "      width: 32px;\n",
              "    }\n",
              "\n",
              "    .colab-df-convert:hover {\n",
              "      background-color: #E2EBFA;\n",
              "      box-shadow: 0px 1px 2px rgba(60, 64, 67, 0.3), 0px 1px 3px 1px rgba(60, 64, 67, 0.15);\n",
              "      fill: #174EA6;\n",
              "    }\n",
              "\n",
              "    [theme=dark] .colab-df-convert {\n",
              "      background-color: #3B4455;\n",
              "      fill: #D2E3FC;\n",
              "    }\n",
              "\n",
              "    [theme=dark] .colab-df-convert:hover {\n",
              "      background-color: #434B5C;\n",
              "      box-shadow: 0px 1px 3px 1px rgba(0, 0, 0, 0.15);\n",
              "      filter: drop-shadow(0px 1px 2px rgba(0, 0, 0, 0.3));\n",
              "      fill: #FFFFFF;\n",
              "    }\n",
              "  </style>\n",
              "\n",
              "      <script>\n",
              "        const buttonEl =\n",
              "          document.querySelector('#df-d3bc1884-fb63-46e4-bea9-c7b343052d0b button.colab-df-convert');\n",
              "        buttonEl.style.display =\n",
              "          google.colab.kernel.accessAllowed ? 'block' : 'none';\n",
              "\n",
              "        async function convertToInteractive(key) {\n",
              "          const element = document.querySelector('#df-d3bc1884-fb63-46e4-bea9-c7b343052d0b');\n",
              "          const dataTable =\n",
              "            await google.colab.kernel.invokeFunction('convertToInteractive',\n",
              "                                                     [key], {});\n",
              "          if (!dataTable) return;\n",
              "\n",
              "          const docLinkHtml = 'Like what you see? Visit the ' +\n",
              "            '<a target=\"_blank\" href=https://colab.research.google.com/notebooks/data_table.ipynb>data table notebook</a>'\n",
              "            + ' to learn more about interactive tables.';\n",
              "          element.innerHTML = '';\n",
              "          dataTable['output_type'] = 'display_data';\n",
              "          await google.colab.output.renderOutput(dataTable, element);\n",
              "          const docLink = document.createElement('div');\n",
              "          docLink.innerHTML = docLinkHtml;\n",
              "          element.appendChild(docLink);\n",
              "        }\n",
              "      </script>\n",
              "    </div>\n",
              "  </div>\n",
              "  "
            ]
          },
          "metadata": {},
          "execution_count": 14
        }
      ],
      "source": [
        "df.head()"
      ]
    },
    {
      "cell_type": "code",
      "execution_count": null,
      "metadata": {
        "id": "QBz9Vu2p4XJe"
      },
      "outputs": [],
      "source": [
        "d = dict(df['ner_tags'].value_counts())"
      ]
    },
    {
      "cell_type": "code",
      "source": [
        "%matplotlib inline\n",
        "fig=plt.figure(figsize=(10,5))\n",
        "plt.bar(list(d.keys())[:5],list(d.values())[:5],)\n",
        "plt.show()"
      ],
      "metadata": {
        "colab": {
          "base_uri": "https://localhost:8080/",
          "height": 320
        },
        "id": "hRIefoZkrlH7",
        "outputId": "a65065d1-57be-465c-8c19-0f1575ded533"
      },
      "execution_count": null,
      "outputs": [
        {
          "output_type": "display_data",
          "data": {
            "text/plain": [
              "<Figure size 720x360 with 1 Axes>"
            ],
            "image/png": "[encoded data removed]"
          },
          "metadata": {
            "needs_background": "light"
          }
        }
      ]
    },
    {
      "cell_type": "code",
      "execution_count": null,
      "metadata": {
        "id": "825CdQSI7iHn"
      },
      "outputs": [],
      "source": [
        "sent=list(df['unique_id'].unique())"
      ]
    },
    {
      "cell_type": "code",
      "execution_count": null,
      "metadata": {
        "colab": {
          "base_uri": "https://localhost:8080/"
        },
        "id": "LIC-Y0JfBBP-",
        "outputId": "062897ee-5b80-4297-e11a-27bc1802c757"
      },
      "outputs": [
        {
          "output_type": "stream",
          "name": "stdout",
          "text": [
            "fulltext_487_2019MNRAS.486.5558S\n"
          ]
        }
      ],
      "source": [
        "print(sent[0])"
      ]
    },
    {
      "cell_type": "code",
      "execution_count": null,
      "metadata": {
        "colab": {
          "base_uri": "https://localhost:8080/"
        },
        "id": "eqgW1VfcE0Dn",
        "outputId": "2a944b06-8469-4fe3-b5a0-5675dfc8c401"
      },
      "outputs": [
        {
          "output_type": "execute_result",
          "data": {
            "text/plain": [
              "48992"
            ]
          },
          "metadata": {},
          "execution_count": 19
        }
      ],
      "source": [
        "words = set(list(df['tokens'].values))\n",
        "words.add('PAD')\n",
        "n_words = len(words)\n",
        "n_words"
      ]
    },
    {
      "cell_type": "code",
      "execution_count": null,
      "metadata": {
        "colab": {
          "base_uri": "https://localhost:8080/"
        },
        "id": "giGbMnxl784W",
        "outputId": "ef571304-5c96-4eab-84d6-19e48ff91e21"
      },
      "outputs": [
        {
          "output_type": "execute_result",
          "data": {
            "text/plain": [
              "63"
            ]
          },
          "metadata": {},
          "execution_count": 20
        }
      ],
      "source": [
        "tags = list(set(df[\"ner_tags\"].values))\n",
        "n_tags = len(tags)\n",
        "n_tags"
      ]
    },
    {
      "cell_type": "code",
      "execution_count": null,
      "metadata": {
        "id": "9Zoj4Gh8DY8g"
      },
      "outputs": [],
      "source": [
        "agg_func = lambda s: [(w, t) for w, t in zip(s[\"tokens\"].values.tolist(),s[\"ner_tags\"].values.tolist())]"
      ]
    },
    {
      "cell_type": "code",
      "execution_count": null,
      "metadata": {
        "colab": {
          "base_uri": "https://localhost:8080/",
          "height": 206
        },
        "id": "gq3T0QajDmJl",
        "outputId": "3a9f854d-9ff2-4fe0-b43a-9719d590e670"
      },
      "outputs": [
        {
          "output_type": "execute_result",
          "data": {
            "text/plain": [
              "               bibcode label_studio_id ner_ids ner_tags   section      tokens  \\\n",
              "0  2019MNRAS.486.5558S             487      62        O  fulltext      Whilst   \n",
              "1  2019MNRAS.486.5558S             487      62        O  fulltext           a   \n",
              "2  2019MNRAS.486.5558S             487      62        O  fulltext  reasonable   \n",
              "3  2019MNRAS.486.5558S             487      62        O  fulltext    harmonic   \n",
              "4  2019MNRAS.486.5558S             487      62        O  fulltext         fit   \n",
              "\n",
              "                          unique_id  \n",
              "0  fulltext_487_2019MNRAS.486.5558S  \n",
              "1  fulltext_487_2019MNRAS.486.5558S  \n",
              "2  fulltext_487_2019MNRAS.486.5558S  \n",
              "3  fulltext_487_2019MNRAS.486.5558S  \n",
              "4  fulltext_487_2019MNRAS.486.5558S  "
            ],
            "text/html": [
              "\n",
              "  <div id=\"df-c1da93a8-17bd-4034-8f59-0966b8c1b7d9\">\n",
              "    <div class=\"colab-df-container\">\n",
              "      <div>\n",
              "<style scoped>\n",
              "    .dataframe tbody tr th:only-of-type {\n",
              "        vertical-align: middle;\n",
              "    }\n",
              "\n",
              "    .dataframe tbody tr th {\n",
              "        vertical-align: top;\n",
              "    }\n",
              "\n",
              "    .dataframe thead th {\n",
              "        text-align: right;\n",
              "    }\n",
              "</style>\n",
              "<table border=\"1\" class=\"dataframe\">\n",
              "  <thead>\n",
              "    <tr style=\"text-align: right;\">\n",
              "      <th></th>\n",
              "      <th>bibcode</th>\n",
              "      <th>label_studio_id</th>\n",
              "      <th>ner_ids</th>\n",
              "      <th>ner_tags</th>\n",
              "      <th>section</th>\n",
              "      <th>tokens</th>\n",
              "      <th>unique_id</th>\n",
              "    </tr>\n",
              "  </thead>\n",
              "  <tbody>\n",
              "    <tr>\n",
              "      <th>0</th>\n",
              "      <td>2019MNRAS.486.5558S</td>\n",
              "      <td>487</td>\n",
              "      <td>62</td>\n",
              "      <td>O</td>\n",
              "      <td>fulltext</td>\n",
              "      <td>Whilst</td>\n",
              "      <td>fulltext_487_2019MNRAS.486.5558S</td>\n",
              "    </tr>\n",
              "    <tr>\n",
              "      <th>1</th>\n",
              "      <td>2019MNRAS.486.5558S</td>\n",
              "      <td>487</td>\n",
              "      <td>62</td>\n",
              "      <td>O</td>\n",
              "      <td>fulltext</td>\n",
              "      <td>a</td>\n",
              "      <td>fulltext_487_2019MNRAS.486.5558S</td>\n",
              "    </tr>\n",
              "    <tr>\n",
              "      <th>2</th>\n",
              "      <td>2019MNRAS.486.5558S</td>\n",
              "      <td>487</td>\n",
              "      <td>62</td>\n",
              "      <td>O</td>\n",
              "      <td>fulltext</td>\n",
              "      <td>reasonable</td>\n",
              "      <td>fulltext_487_2019MNRAS.486.5558S</td>\n",
              "    </tr>\n",
              "    <tr>\n",
              "      <th>3</th>\n",
              "      <td>2019MNRAS.486.5558S</td>\n",
              "      <td>487</td>\n",
              "      <td>62</td>\n",
              "      <td>O</td>\n",
              "      <td>fulltext</td>\n",
              "      <td>harmonic</td>\n",
              "      <td>fulltext_487_2019MNRAS.486.5558S</td>\n",
              "    </tr>\n",
              "    <tr>\n",
              "      <th>4</th>\n",
              "      <td>2019MNRAS.486.5558S</td>\n",
              "      <td>487</td>\n",
              "      <td>62</td>\n",
              "      <td>O</td>\n",
              "      <td>fulltext</td>\n",
              "      <td>fit</td>\n",
              "      <td>fulltext_487_2019MNRAS.486.5558S</td>\n",
              "    </tr>\n",
              "  </tbody>\n",
              "</table>\n",
              "</div>\n",
              "      <button class=\"colab-df-convert\" onclick=\"convertToInteractive('df-c1da93a8-17bd-4034-8f59-0966b8c1b7d9')\"\n",
              "              title=\"Convert this dataframe to an interactive table.\"\n",
              "              style=\"display:none;\">\n",
              "        \n",
              "  <svg xmlns=\"http://www.w3.org/2000/svg\" height=\"24px\"viewBox=\"0 0 24 24\"\n",
              "       width=\"24px\">\n",
              "    <path d=\"M0 0h24v24H0V0z\" fill=\"none\"/>\n",
              "    <path d=\"M18.56 5.44l.94 2.06.94-2.06 2.06-.94-2.06-.94-.94-2.06-.94 2.06-2.06.94zm-11 1L8.5 8.5l.94-2.06 2.06-.94-2.06-.94L8.5 2.5l-.94 2.06-2.06.94zm10 10l.94 2.06.94-2.06 2.06-.94-2.06-.94-.94-2.06-.94 2.06-2.06.94z\"/><path d=\"M17.41 7.96l-1.37-1.37c-.4-.4-.92-.59-1.43-.59-.52 0-1.04.2-1.43.59L10.3 9.45l-7.72 7.72c-.78.78-.78 2.05 0 2.83L4 21.41c.39.39.9.59 1.41.59.51 0 1.02-.2 1.41-.59l7.78-7.78 2.81-2.81c.8-.78.8-2.07 0-2.86zM5.41 20L4 18.59l7.72-7.72 1.47 1.35L5.41 20z\"/>\n",
              "  </svg>\n",
              "      </button>\n",
              "      \n",
              "  <style>\n",
              "    .colab-df-container {\n",
              "      display:flex;\n",
              "      flex-wrap:wrap;\n",
              "      gap: 12px;\n",
              "    }\n",
              "\n",
              "    .colab-df-convert {\n",
              "      background-color: #E8F0FE;\n",
              "      border: none;\n",
              "      border-radius: 50%;\n",
              "      cursor: pointer;\n",
              "      display: none;\n",
              "      fill: #1967D2;\n",
              "      height: 32px;\n",
              "      padding: 0 0 0 0;\n",
              "      width: 32px;\n",
              "    }\n",
              "\n",
              "    .colab-df-convert:hover {\n",
              "      background-color: #E2EBFA;\n",
              "      box-shadow: 0px 1px 2px rgba(60, 64, 67, 0.3), 0px 1px 3px 1px rgba(60, 64, 67, 0.15);\n",
              "      fill: #174EA6;\n",
              "    }\n",
              "\n",
              "    [theme=dark] .colab-df-convert {\n",
              "      background-color: #3B4455;\n",
              "      fill: #D2E3FC;\n",
              "    }\n",
              "\n",
              "    [theme=dark] .colab-df-convert:hover {\n",
              "      background-color: #434B5C;\n",
              "      box-shadow: 0px 1px 3px 1px rgba(0, 0, 0, 0.15);\n",
              "      filter: drop-shadow(0px 1px 2px rgba(0, 0, 0, 0.3));\n",
              "      fill: #FFFFFF;\n",
              "    }\n",
              "  </style>\n",
              "\n",
              "      <script>\n",
              "        const buttonEl =\n",
              "          document.querySelector('#df-c1da93a8-17bd-4034-8f59-0966b8c1b7d9 button.colab-df-convert');\n",
              "        buttonEl.style.display =\n",
              "          google.colab.kernel.accessAllowed ? 'block' : 'none';\n",
              "\n",
              "        async function convertToInteractive(key) {\n",
              "          const element = document.querySelector('#df-c1da93a8-17bd-4034-8f59-0966b8c1b7d9');\n",
              "          const dataTable =\n",
              "            await google.colab.kernel.invokeFunction('convertToInteractive',\n",
              "                                                     [key], {});\n",
              "          if (!dataTable) return;\n",
              "\n",
              "          const docLinkHtml = 'Like what you see? Visit the ' +\n",
              "            '<a target=\"_blank\" href=https://colab.research.google.com/notebooks/data_table.ipynb>data table notebook</a>'\n",
              "            + ' to learn more about interactive tables.';\n",
              "          element.innerHTML = '';\n",
              "          dataTable['output_type'] = 'display_data';\n",
              "          await google.colab.output.renderOutput(dataTable, element);\n",
              "          const docLink = document.createElement('div');\n",
              "          docLink.innerHTML = docLinkHtml;\n",
              "          element.appendChild(docLink);\n",
              "        }\n",
              "      </script>\n",
              "    </div>\n",
              "  </div>\n",
              "  "
            ]
          },
          "metadata": {},
          "execution_count": 22
        }
      ],
      "source": [
        "df.head()"
      ]
    },
    {
      "cell_type": "code",
      "execution_count": null,
      "metadata": {
        "id": "z7LNST9-DaTm"
      },
      "outputs": [],
      "source": [
        "sentences = [df.groupby(\"unique_id\").apply(agg_func)[i] for i in sent]"
      ]
    },
    {
      "cell_type": "code",
      "execution_count": null,
      "metadata": {
        "id": "L8F6NaGjD-nH"
      },
      "outputs": [],
      "source": [
        "token_sentences = pd.DataFrame(df[['unique_id','tokens']].groupby('unique_id')['tokens'].apply(list))"
      ]
    },
    {
      "cell_type": "code",
      "source": [
        "ner_tags_sentences = pd.DataFrame(df[['unique_id','ner_tags']].groupby('unique_id')['ner_tags'].apply(list))"
      ],
      "metadata": {
        "id": "U__cP_t3OuRE"
      },
      "execution_count": null,
      "outputs": []
    },
    {
      "cell_type": "code",
      "source": [
        "sentences.head()"
      ],
      "metadata": {
        "colab": {
          "base_uri": "https://localhost:8080/",
          "height": 165
        },
        "id": "l1ixijBINJBC",
        "outputId": "9aa7463e-5819-45af-ac95-0312ace78337"
      },
      "execution_count": null,
      "outputs": [
        {
          "output_type": "error",
          "ename": "AttributeError",
          "evalue": "ignored",
          "traceback": [
            "\u001b[0;31m---------------------------------------------------------------------------\u001b[0m",
            "\u001b[0;31mAttributeError\u001b[0m                            Traceback (most recent call last)",
            "\u001b[0;32m<ipython-input-26-81903f8b7780>\u001b[0m in \u001b[0;36m<module>\u001b[0;34m()\u001b[0m\n\u001b[0;32m----> 1\u001b[0;31m \u001b[0msentences\u001b[0m\u001b[0;34m.\u001b[0m\u001b[0mhead\u001b[0m\u001b[0;34m(\u001b[0m\u001b[0;34m)\u001b[0m\u001b[0;34m\u001b[0m\u001b[0;34m\u001b[0m\u001b[0m\n\u001b[0m",
            "\u001b[0;31mAttributeError\u001b[0m: 'list' object has no attribute 'head'"
          ]
        }
      ]
    },
    {
      "cell_type": "code",
      "execution_count": null,
      "metadata": {
        "id": "LQOtEBXbEMe9",
        "colab": {
          "base_uri": "https://localhost:8080/"
        },
        "outputId": "0ab5c05b-760a-41b4-8842-42abd308c06c"
      },
      "outputs": [
        {
          "output_type": "stream",
          "name": "stdout",
          "text": [
            "biggest sentence has 795 words\n"
          ]
        }
      ],
      "source": [
        "largest_sen = max(len(sen) for sen in sentences)\n",
        "print('biggest sentence has {} words'.format(largest_sen))"
      ]
    },
    {
      "cell_type": "code",
      "execution_count": null,
      "metadata": {
        "id": "NRsVnOUJEN__",
        "colab": {
          "base_uri": "https://localhost:8080/",
          "height": 265
        },
        "outputId": "94b39051-1040-494a-c86b-7d3244b79e1b"
      },
      "outputs": [
        {
          "output_type": "display_data",
          "data": {
            "text/plain": [
              "<Figure size 432x288 with 1 Axes>"
            ],
            "image/png": "[encoded data removed]"
          },
          "metadata": {
            "needs_background": "light"
          }
        }
      ],
      "source": [
        "%matplotlib inline\n",
        "plt.hist([len(sen) for sen in sentences], bins= 50)\n",
        "plt.show()"
      ]
    },
    {
      "cell_type": "code",
      "execution_count": null,
      "metadata": {
        "id": "ceLfx6MhEq1k",
        "colab": {
          "base_uri": "https://localhost:8080/"
        },
        "outputId": "2933c1a6-f947-4af0-fdde-993c3a452617"
      },
      "outputs": [
        {
          "output_type": "stream",
          "name": "stdout",
          "text": [
            "4202\n",
            "17\n"
          ]
        }
      ],
      "source": [
        "words2index = {w:i for i,w in enumerate(words)}\n",
        "tags2index = {t:i for i,t in enumerate(tags)}\n",
        "print(words2index['combine'])\n",
        "print(tags2index['B-Instrument'])"
      ]
    },
    {
      "cell_type": "code",
      "execution_count": null,
      "metadata": {
        "id": "jFJ7IQhgFYW2",
        "colab": {
          "base_uri": "https://localhost:8080/",
          "height": 270
        },
        "outputId": "0232a1a2-5dda-4862-de4d-3c3093129a28"
      },
      "outputs": [
        {
          "output_type": "execute_result",
          "data": {
            "text/plain": [
              "               bibcode label_studio_id ner_ids ner_tags   section      tokens  \\\n",
              "0  2019MNRAS.486.5558S             487      62        O  fulltext      Whilst   \n",
              "1  2019MNRAS.486.5558S             487      62        O  fulltext           a   \n",
              "2  2019MNRAS.486.5558S             487      62        O  fulltext  reasonable   \n",
              "3  2019MNRAS.486.5558S             487      62        O  fulltext    harmonic   \n",
              "4  2019MNRAS.486.5558S             487      62        O  fulltext         fit   \n",
              "\n",
              "                          unique_id  tokens_idx  ner_tags_idx  \n",
              "0  fulltext_487_2019MNRAS.486.5558S       39027            56  \n",
              "1  fulltext_487_2019MNRAS.486.5558S       48470            56  \n",
              "2  fulltext_487_2019MNRAS.486.5558S       34859            56  \n",
              "3  fulltext_487_2019MNRAS.486.5558S       10352            56  \n",
              "4  fulltext_487_2019MNRAS.486.5558S       39788            56  "
            ],
            "text/html": [
              "\n",
              "  <div id=\"df-c54c50e7-5dcd-4423-99ed-7566c0fb1a22\">\n",
              "    <div class=\"colab-df-container\">\n",
              "      <div>\n",
              "<style scoped>\n",
              "    .dataframe tbody tr th:only-of-type {\n",
              "        vertical-align: middle;\n",
              "    }\n",
              "\n",
              "    .dataframe tbody tr th {\n",
              "        vertical-align: top;\n",
              "    }\n",
              "\n",
              "    .dataframe thead th {\n",
              "        text-align: right;\n",
              "    }\n",
              "</style>\n",
              "<table border=\"1\" class=\"dataframe\">\n",
              "  <thead>\n",
              "    <tr style=\"text-align: right;\">\n",
              "      <th></th>\n",
              "      <th>bibcode</th>\n",
              "      <th>label_studio_id</th>\n",
              "      <th>ner_ids</th>\n",
              "      <th>ner_tags</th>\n",
              "      <th>section</th>\n",
              "      <th>tokens</th>\n",
              "      <th>unique_id</th>\n",
              "      <th>tokens_idx</th>\n",
              "      <th>ner_tags_idx</th>\n",
              "    </tr>\n",
              "  </thead>\n",
              "  <tbody>\n",
              "    <tr>\n",
              "      <th>0</th>\n",
              "      <td>2019MNRAS.486.5558S</td>\n",
              "      <td>487</td>\n",
              "      <td>62</td>\n",
              "      <td>O</td>\n",
              "      <td>fulltext</td>\n",
              "      <td>Whilst</td>\n",
              "      <td>fulltext_487_2019MNRAS.486.5558S</td>\n",
              "      <td>39027</td>\n",
              "      <td>56</td>\n",
              "    </tr>\n",
              "    <tr>\n",
              "      <th>1</th>\n",
              "      <td>2019MNRAS.486.5558S</td>\n",
              "      <td>487</td>\n",
              "      <td>62</td>\n",
              "      <td>O</td>\n",
              "      <td>fulltext</td>\n",
              "      <td>a</td>\n",
              "      <td>fulltext_487_2019MNRAS.486.5558S</td>\n",
              "      <td>48470</td>\n",
              "      <td>56</td>\n",
              "    </tr>\n",
              "    <tr>\n",
              "      <th>2</th>\n",
              "      <td>2019MNRAS.486.5558S</td>\n",
              "      <td>487</td>\n",
              "      <td>62</td>\n",
              "      <td>O</td>\n",
              "      <td>fulltext</td>\n",
              "      <td>reasonable</td>\n",
              "      <td>fulltext_487_2019MNRAS.486.5558S</td>\n",
              "      <td>34859</td>\n",
              "      <td>56</td>\n",
              "    </tr>\n",
              "    <tr>\n",
              "      <th>3</th>\n",
              "      <td>2019MNRAS.486.5558S</td>\n",
              "      <td>487</td>\n",
              "      <td>62</td>\n",
              "      <td>O</td>\n",
              "      <td>fulltext</td>\n",
              "      <td>harmonic</td>\n",
              "      <td>fulltext_487_2019MNRAS.486.5558S</td>\n",
              "      <td>10352</td>\n",
              "      <td>56</td>\n",
              "    </tr>\n",
              "    <tr>\n",
              "      <th>4</th>\n",
              "      <td>2019MNRAS.486.5558S</td>\n",
              "      <td>487</td>\n",
              "      <td>62</td>\n",
              "      <td>O</td>\n",
              "      <td>fulltext</td>\n",
              "      <td>fit</td>\n",
              "      <td>fulltext_487_2019MNRAS.486.5558S</td>\n",
              "      <td>39788</td>\n",
              "      <td>56</td>\n",
              "    </tr>\n",
              "  </tbody>\n",
              "</table>\n",
              "</div>\n",
              "      <button class=\"colab-df-convert\" onclick=\"convertToInteractive('df-c54c50e7-5dcd-4423-99ed-7566c0fb1a22')\"\n",
              "              title=\"Convert this dataframe to an interactive table.\"\n",
              "              style=\"display:none;\">\n",
              "        \n",
              "  <svg xmlns=\"http://www.w3.org/2000/svg\" height=\"24px\"viewBox=\"0 0 24 24\"\n",
              "       width=\"24px\">\n",
              "    <path d=\"M0 0h24v24H0V0z\" fill=\"none\"/>\n",
              "    <path d=\"M18.56 5.44l.94 2.06.94-2.06 2.06-.94-2.06-.94-.94-2.06-.94 2.06-2.06.94zm-11 1L8.5 8.5l.94-2.06 2.06-.94-2.06-.94L8.5 2.5l-.94 2.06-2.06.94zm10 10l.94 2.06.94-2.06 2.06-.94-2.06-.94-.94-2.06-.94 2.06-2.06.94z\"/><path d=\"M17.41 7.96l-1.37-1.37c-.4-.4-.92-.59-1.43-.59-.52 0-1.04.2-1.43.59L10.3 9.45l-7.72 7.72c-.78.78-.78 2.05 0 2.83L4 21.41c.39.39.9.59 1.41.59.51 0 1.02-.2 1.41-.59l7.78-7.78 2.81-2.81c.8-.78.8-2.07 0-2.86zM5.41 20L4 18.59l7.72-7.72 1.47 1.35L5.41 20z\"/>\n",
              "  </svg>\n",
              "      </button>\n",
              "      \n",
              "  <style>\n",
              "    .colab-df-container {\n",
              "      display:flex;\n",
              "      flex-wrap:wrap;\n",
              "      gap: 12px;\n",
              "    }\n",
              "\n",
              "    .colab-df-convert {\n",
              "      background-color: #E8F0FE;\n",
              "      border: none;\n",
              "      border-radius: 50%;\n",
              "      cursor: pointer;\n",
              "      display: none;\n",
              "      fill: #1967D2;\n",
              "      height: 32px;\n",
              "      padding: 0 0 0 0;\n",
              "      width: 32px;\n",
              "    }\n",
              "\n",
              "    .colab-df-convert:hover {\n",
              "      background-color: #E2EBFA;\n",
              "      box-shadow: 0px 1px 2px rgba(60, 64, 67, 0.3), 0px 1px 3px 1px rgba(60, 64, 67, 0.15);\n",
              "      fill: #174EA6;\n",
              "    }\n",
              "\n",
              "    [theme=dark] .colab-df-convert {\n",
              "      background-color: #3B4455;\n",
              "      fill: #D2E3FC;\n",
              "    }\n",
              "\n",
              "    [theme=dark] .colab-df-convert:hover {\n",
              "      background-color: #434B5C;\n",
              "      box-shadow: 0px 1px 3px 1px rgba(0, 0, 0, 0.15);\n",
              "      filter: drop-shadow(0px 1px 2px rgba(0, 0, 0, 0.3));\n",
              "      fill: #FFFFFF;\n",
              "    }\n",
              "  </style>\n",
              "\n",
              "      <script>\n",
              "        const buttonEl =\n",
              "          document.querySelector('#df-c54c50e7-5dcd-4423-99ed-7566c0fb1a22 button.colab-df-convert');\n",
              "        buttonEl.style.display =\n",
              "          google.colab.kernel.accessAllowed ? 'block' : 'none';\n",
              "\n",
              "        async function convertToInteractive(key) {\n",
              "          const element = document.querySelector('#df-c54c50e7-5dcd-4423-99ed-7566c0fb1a22');\n",
              "          const dataTable =\n",
              "            await google.colab.kernel.invokeFunction('convertToInteractive',\n",
              "                                                     [key], {});\n",
              "          if (!dataTable) return;\n",
              "\n",
              "          const docLinkHtml = 'Like what you see? Visit the ' +\n",
              "            '<a target=\"_blank\" href=https://colab.research.google.com/notebooks/data_table.ipynb>data table notebook</a>'\n",
              "            + ' to learn more about interactive tables.';\n",
              "          element.innerHTML = '';\n",
              "          dataTable['output_type'] = 'display_data';\n",
              "          await google.colab.output.renderOutput(dataTable, element);\n",
              "          const docLink = document.createElement('div');\n",
              "          docLink.innerHTML = docLinkHtml;\n",
              "          element.appendChild(docLink);\n",
              "        }\n",
              "      </script>\n",
              "    </div>\n",
              "  </div>\n",
              "  "
            ]
          },
          "metadata": {},
          "execution_count": 30
        }
      ],
      "source": [
        "df['tokens_idx'] = df['tokens'].map(words2index)\n",
        "df['ner_tags_idx'] = df['ner_tags'].map(tags2index)\n",
        "df.head()"
      ]
    },
    {
      "cell_type": "code",
      "source": [
        "for w in sentences[:5]:\n",
        "  print(w)"
      ],
      "metadata": {
        "colab": {
          "base_uri": "https://localhost:8080/"
        },
        "id": "vk4HYCnQLUbZ",
        "outputId": "74b72658-4c6d-4f19-e8d2-cf12aee23403"
      },
      "execution_count": null,
      "outputs": [
        {
          "output_type": "stream",
          "name": "stdout",
          "text": [
            "[('Whilst', 'O'), ('a', 'O'), ('reasonable', 'O'), ('harmonic', 'O'), ('fit', 'O'), ('to', 'O'), ('the', 'O'), ('ESPaDOnS', 'B-Instrument'), ('data', 'O'), ('can', 'O'), ('be', 'O'), ('achieved', 'O'), ('using', 'O'), ('this', 'O'), ('period,', 'O'), ('it', 'O'), ('does', 'O'), ('not', 'O'), ('produce', 'O'), ('an', 'O'), ('acceptable', 'O'), ('phasing', 'O'), ('of', 'O'), ('all', 'O'), ('available', 'O'), ('〈', 'O'), ('B', 'O'), ('z', 'O'), ('〉', 'O'), ('measurements.', 'O'), ('Figure', 'O'), ('1.', 'O'), ('Photometric', 'O'), ('(', 'O'), ('top', 'O'), (')', 'O'), ('and', 'O'), ('magnetic', 'O'), ('〈', 'O'), ('B', 'O'), ('z', 'O'), ('〉', 'O'), ('(', 'O'), ('bottom', 'O'), (')', 'O'), ('measurements,', 'O'), ('phased', 'O'), ('with', 'O'), ('periods', 'O'), ('determined', 'O'), ('from', 'O'), ('(left', 'O'), ('to', 'O'), ('right)', 'O'), ('K2', 'B-Mission'), ('photometry,', 'O'), ('all', 'O'), ('〈', 'O'), ('B', 'O'), ('z', 'O'), ('〉', 'O'), ('measurements,', 'O'), ('and', 'O'), ('all', 'O'), ('photometric', 'O'), ('measurements.', 'O'), ('〈', 'O'), ('B', 'O'), ('z', 'O'), ('〉', 'O'), ('measurements', 'O'), ('were', 'O'), ('obtained', 'O'), ('from', 'O'), ('ESPaDOnS', 'B-Instrument'), ('by', 'O'), ('Shultz', 'B-Citation'), ('et', 'I-Citation'), ('al.', 'I-Citation'), ('(', 'I-Citation'), ('2018', 'I-Citation'), (')', 'I-Citation'), ('and', 'O'), ('photopolarimetric', 'O'), ('data', 'O'), ('by', 'O'), ('Borra', 'B-Citation'), ('et', 'I-Citation'), ('al.', 'I-Citation'), ('(', 'I-Citation'), ('1983', 'I-Citation'), (',', 'I-Citation'), ('BLT83)', 'I-Citation'), ('and', 'O'), ('Bohlender', 'B-Citation'), ('et', 'I-Citation'), ('al.', 'I-Citation'), ('(', 'I-Citation'), ('1993', 'I-Citation'), (',', 'I-Citation'), ('BLT93).', 'I-Citation'), ('The', 'O'), ('solid', 'O'), ('and', 'O'), ('dashed', 'O'), ('curves', 'O'), ('show,', 'O'), ('respectively,', 'O'), ('the', 'O'), ('best', 'O'), ('second-order', 'O'), ('harmonic', 'O'), ('fit', 'O'), ('to', 'O'), ('the', 'O'), ('ESPaDOnS', 'B-Instrument'), ('〈', 'O'), ('B', 'O'), ('z', 'O'), ('〉', 'O'), ('data', 'O'), ('and', 'O'), ('the', 'O'), ('1σ', 'O'), ('fit', 'O'), ('uncertainty.', 'O'), ('Photometric', 'O'), ('data', 'O'), ('are', 'O'), ('from', 'O'), ('K2,', 'B-Mission'), ('SMEI,', 'B-Instrument'), ('Hipparcos', 'B-Telescope'), ('(', 'O'), ('H', 'B-Wavelength'), ('p', 'I-Wavelength'), ('),', 'O'), ('and', 'O'), ('Strömgren', 'B-Wavelength'), ('y', 'I-Wavelength'), ('photometry', 'O'), ('published', 'O'), ('by', 'O'), ('Sterken', 'B-Citation'), ('et', 'I-Citation'), ('al.', 'I-Citation'), ('(', 'I-Citation'), ('1995', 'I-Citation'), (',', 'I-Citation'), ('S95),', 'I-Citation'), ('Manfroid', 'B-Citation'), ('et', 'I-Citation'), ('al.', 'I-Citation'), ('(', 'I-Citation'), ('1995', 'I-Citation'), (',', 'I-Citation'), ('M95),', 'I-Citation'), ('and', 'O'), ('Pedersen', 'B-Citation'), ('Thomsen', 'I-Citation'), ('(', 'I-Citation'), ('1977', 'I-Citation'), (',', 'I-Citation'), ('P77).', 'I-Citation'), ('For', 'O'), ('clarity', 'O'), ('the', 'O'), ('K2', 'B-Mission'), ('and', 'O'), ('SMEI', 'B-Instrument'), ('data', 'O'), ('have', 'O'), ('been', 'O'), ('binned', 'O'), ('by', 'O'), ('phase,', 'O'), ('using', 'O'), ('bin', 'O'), ('sizes', 'O'), ('of', 'O'), ('0.01', 'O'), ('cycles.', 'O'), ('The', 'O'), ('mean', 'O'), ('magnitude', 'O'), ('of', 'O'), ('each', 'O'), ('data', 'O'), ('set', 'O'), ('was', 'O'), ('subtracted', 'O'), ('for', 'O'), ('display', 'O'), ('purposes.', 'O'), ('All', 'O'), ('of', 'O'), ('the', 'O'), ('periods', 'O'), ('obtained', 'O'), ('since', 'O'), ('the', 'O'), ('year', 'O'), ('2000', 'O'), ('are', 'O'), ('approximately', 'O'), ('consistent', 'O'), ('with', 'O'), ('one', 'O'), ('another;', 'O'), ('the', 'O'), ('two', 'O'), ('periods', 'O'), ('determined', 'O'), ('using', 'O'), ('photometric', 'O'), ('data', 'O'), ('obtained', 'O'), ('prior', 'O'), ('to', 'O'), ('the', 'O'), ('year', 'O'), ('2000', 'O'), ('are', 'O'), ('also', 'O'), ('consistent', 'O'), ('with', 'O'), ('one', 'O'), ('another.', 'O'), ('At', 'O'), ('the', 'O'), ('same', 'O'), ('time,', 'O'), ('the', 'O'), ('difference', 'O'), ('between', 'O'), ('the', 'O'), ('Bowman', 'B-Citation'), ('et', 'I-Citation'), ('al.', 'I-Citation'), ('(', 'I-Citation'), ('2018', 'I-Citation'), (')', 'I-Citation'), ('and', 'O'), ('Catalano', 'B-Citation'), ('Leone', 'I-Citation'), ('(', 'I-Citation'), ('1996', 'I-Citation'), (')', 'I-Citation'), ('periods,', 'O'), ('0.00015', 'O'), ('d,', 'O'), ('is', 'O'), ('almost', 'O'), ('eight', 'O'), ('times', 'O'), ('larger', 'O'), ('than', 'O'), ('the', 'O'), ('formal', 'O'), ('uncertainty', 'O'), ('in', 'O'), ('the', 'O'), ('Bowman', 'B-Citation'), ('et', 'I-Citation'), ('al.', 'I-Citation'), ('period', 'O'), ('(the', 'O'), ('less', 'O'), ('precise', 'O'), ('of', 'O'), ('the', 'O'), ('two).', 'O'), ('This', 'O'), ('suggests', 'O'), ('that', 'O'), ('the', 'O'), ('period', 'O'), ('may', 'O'), ('have', 'O'), ('changed.', 'O'), ('3.2', 'O'), ('Period', 'O'), ('analysis', 'O'), ('We', 'O'), ('now', 'O'), ('turn', 'O'), ('to', 'O'), ('a', 'O'), ('re-examination', 'O'), ('of', 'O'), ('the', 'O'), ('period', 'O'), ('analysis', 'O'), ('of', 'O'), ('the', 'O'), ('individual', 'O'), ('data', 'O'), ('sets;', 'O'), ('the', 'O'), ('results', 'O'), ('are', 'O'), ('summarized', 'O'), ('in', 'O'), ('Table', 'O'), ('2', 'O'), ('.', 'O'), ('Period', 'O'), ('analysis', 'O'), ('was', 'O'), ('performed', 'O'), ('using', 'O'), ('standard', 'O'), ('Lomb–Scargle', 'B-Model'), ('statistics', 'I-Model'), ('(Lomb', 'B-Citation'), ('1976', 'I-Citation'), (';', 'O'), ('Scargle', 'B-Citation'), ('1982', 'I-Citation'), ('),', 'O'), ('utilizing', 'O'), ('both', 'O'), ('the', 'O'), ('idl', 'B-Software'), ('program', 'O'), ('periodogram', 'B-Software'), ('4', 'I-Software'), ('and', 'O'), ('the', 'O'), ('period04', 'B-Software'), ('package', 'O'), ('(Lenz', 'B-Citation'), ('Breger', 'I-Citation'), ('2005', 'I-Citation'), (').', 'O'), ('The', 'O'), ('uncertainties', 'O'), ('were', 'O'), ('determined', 'O'), ('in', 'O'), ('the', 'O'), ('same', 'O'), ('manner', 'O'), ('as', 'O'), ('by', 'O'), ('Shultz', 'B-Citation'), ('et', 'I-Citation'), ('al.', 'I-Citation'), ('(', 'I-Citation'), ('2018', 'I-Citation'), ('),', 'I-Citation'), ('i.e.', 'O'), ('according', 'O'), ('to', 'O'), ('the', 'O'), ('analytic', 'O'), ('method', 'O'), ('described', 'O'), ('by', 'O'), ('Bloomfield', 'B-Citation'), ('(', 'I-Citation'), ('1976', 'I-Citation'), (').', 'I-Citation'), ('Examining', 'O'), ('the', 'O'), ('ESPaDOnS', 'B-Instrument'), ('data', 'O'), ('in', 'O'), ('isolation', 'O'), ('yields', 'O'), ('P', 'B-Formula'), ('rot', 'I-Formula'), ('=', 'I-Formula'), ('0.97887(6)', 'I-Formula'), ('d,', 'I-Formula'), ('consistent', 'O'), ('within', 'O'), ('uncertainty', 'O'), ('with', 'O'), ('the', 'O'), ('K2', 'B-Mission'), ('period', 'O'), ('(Bowman', 'B-Citation'), ('et', 'I-Citation'), ('al.', 'I-Citation'), ('2018', 'I-Citation'), (').', 'O'), ('The', 'O'), ('period', 'O'), ('determined', 'O'), ('from', 'O'), ('all', 'O'), ('available', 'O'), ('magnetic', 'O'), ('data', 'O'), ('(i.e.', 'O'), ('including', 'O'), ('the', 'O'), ('previously', 'O'), ('overlooked', 'O'), ('〈', 'O'), ('B', 'O'), ('z', 'O'), ('〉', 'O'), ('measurements', 'O'), ('of', 'O'), ('Borra', 'B-Citation'), ('et', 'I-Citation'), ('al.', 'I-Citation'), ('1983', 'I-Citation'), (')', 'O'), ('is', 'O'), ('0.979855(5)', 'O'), ('d.', 'O'), ('The', 'O'), ('photometric', 'O'), ('and', 'O'), ('magnetic', 'O'), ('data', 'O'), ('are', 'O'), ('shown', 'O'), ('phased', 'O'), ('with', 'O'), ('this', 'O'), ('period', 'O'), ('in', 'O'), ('the', 'O'), ('middle', 'O'), ('panel', 'O'), ('of', 'O'), ('Fig.', 'O'), ('1', 'O'), ('.', 'O'), ('Phasing', 'O'), ('〈', 'O'), ('B', 'O'), ('z', 'O'), ('〉', 'O'), ('with', 'O'), ('this', 'O'), ('period', 'O'), ('and', 'O'), ('fitting', 'O'), ('the', 'O'), ('ESPaDOnS', 'B-Instrument'), ('data', 'O'), ('with', 'O'), ('a', 'O'), ('second-order', 'O'), ('sinusoid', 'O'), ('yields', 'O'), ('a', 'O'), ('reduced', 'O'), ('χ', 'B-Formula'), ('2', 'I-Formula'), ('=', 'I-Formula'), ('5,', 'I-Formula'), ('i.e.', 'O'), ('a', 'O'), ('poor', 'O'), ('fit.', 'O'), ('This', 'O'), ('period', 'O'), ('also', 'O'), ('does', 'O'), ('not', 'O'), ('provide', 'O'), ('a', 'O'), ('coherent', 'O'), ('phasing', 'O'), ('of', 'O'), ('the', 'O'), ('majority', 'O'), ('of', 'O'), ('the', 'O'), ('photometric', 'O'), ('data', 'O'), ('set.', 'O'), ('Notably,', 'O'), ('the', 'O'), ('variation', 'O'), ('in', 'O'), ('the', 'O'), ('phase-binned', 'O'), ('SMEI', 'B-Instrument'), ('data', 'O'), ('almost', 'O'), ('completely', 'O'), ('disappears,', 'O'), ('likely', 'O'), ('because', 'O'), ('observations', 'O'), ('are', 'O'), ('being', 'O'), ('binned', 'O'), ('as', 'O'), ('though', 'O'), ('they', 'O'), ('were', 'O'), ('at', 'O'), ('the', 'O'), ('same', 'O'), ('phase', 'O'), ('when,', 'O'), ('in', 'O'), ('fact,', 'O'), ('they', 'O'), ('are', 'O'), ('not.', 'O'), ('We', 'O'), ('can', 'O'), ('also', 'O'), ('combine', 'O'), ('all', 'O'), ('available', 'O'), ('photometric', 'O'), ('data', 'O'), ('(shifted', 'O'), ('to', 'O'), ('the', 'O'), ('mean', 'O'), ('magnitude', 'O'), ('of', 'O'), ('each', 'O'), ('data', 'O'), ('set,', 'O'), ('as', 'O'), ('in', 'O'), ('Fig.', 'O'), ('1', 'O'), ('),', 'O'), ('which', 'O'), ('yields', 'O'), ('P', 'O'), ('rot', 'O'), ('=', 'O')]\n",
            "[('comparison', 'O'), ('once', 'O'), ('the', 'O'), ('angular', 'O'), ('positions', 'O'), ('of', 'O'), ('the', 'O'), ('satellites', 'O'), ('are', 'O'), ('randomized', 'O'), ('around', 'O'), ('this', 'O'), ('point.', 'O'), ('From', 'O'), ('this', 'O'), ('tensor', 'O'), ('we', 'O'), ('compute', 'O'), ('its', 'O'), ('eigenvalues,', 'O'), ('λ', 'B-Formula'), ('1', 'I-Formula'), ('>', 'I-Formula'), ('λ', 'I-Formula'), ('2', 'I-Formula'), ('>', 'I-Formula'), ('λ', 'I-Formula'), ('3', 'I-Formula'), (',', 'O'), ('and', 'O'), ('corresponding', 'O'), ('eigenvectors,', 'O'), (',', 'O'), (',', 'O'), ('.', 'O'), ('We', 'O'), ('define', 'O'), ('the', 'O'), ('size', 'O'), ('of', 'O'), ('the', 'O'), ('three', 'O'), ('ellipsoidal', 'O'), ('axis', 'O'), ('as', 'O'), ('a', 'B-Formula'), ('=', 'I-Formula'), ('λ', 'I-Formula'), ('1', 'I-Formula'), (',', 'O'), ('b', 'B-Formula'), ('=', 'I-Formula'), ('λ', 'I-Formula'), ('2', 'I-Formula'), (',', 'O'), ('and', 'O'), ('c', 'B-Formula'), ('=', 'I-Formula'), ('λ', 'I-Formula'), ('3', 'I-Formula'), ('.', 'O'), ('We', 'O'), ('also', 'O'), ('define', 'O'), ('as', 'O'), ('the', 'O'), ('vector', 'O'), ('perpendicular', 'O'), ('to', 'O'), ('the', 'O'), ('planar', 'O'), ('satellite', 'O'), ('distribution.', 'O'), ('We', 'O'), ('also', 'O'), ('define', 'O'), ('the', 'O'), ('RMS', 'O'), ('plane', 'O'), ('width', 'O'), ('w', 'O'), ('as', 'O'), ('the', 'O'), ('standard', 'O'), ('deviation', 'O'), ('of', 'O'), ('the', 'O'), ('satellite', 'O'), ('distances', 'O'), ('to', 'O'), ('the', 'O'), ('plane', 'O'), ('defined', 'O'), ('by', 'O'), ('the', 'O'), ('vector', 'O'), ('.', 'O'), ('To', 'O'), ('summarize', 'O'), ('we', 'O'), ('characterize', 'O'), ('the', 'O'), ('satellite', 'O'), ('distributionwith', 'O'), ('the', 'O'), ('following', 'O'), ('quantities', 'O'), ('obtained', 'O'), ('from', 'O'), ('the', 'O'), ('inertia', 'O'), ('tensor:', 'O'), ('RMS', 'O'), ('plane', 'O'), ('width,', 'O'), ('w', 'O'), ('.', 'O'), ('c', 'O'), ('/', 'O'), ('a', 'O'), ('axis', 'O'), ('ratio.', 'O'), ('b', 'O'), ('/', 'O'), ('a', 'O'), ('axis', 'O'), ('ratio.', 'O'), ('3.3', 'O'), ('Characterizing', 'O'), ('asphericity', 'O'), ('with', 'O'), ('normalized', 'O'), ('scalars', 'O'), ('We', 'O'), ('compare', 'O'), ('each', 'O'), ('satellite', 'O'), ('distribution', 'O'), ('against', 'O'), ('its', 'O'), ('own', 'O'), ('spherically', 'O'), ('randomized', 'O'), ('distribution.', 'O'), ('We', 'O'), ('keep', 'O'), ('fixed', 'O'), ('the', 'O'), ('radial', 'O'), ('position', 'O'), ('of', 'O'), ('every', 'O'), ('satellite', 'O'), ('with', 'O'), ('respect', 'O'), ('to', 'O'), ('the', 'O'), ('central', 'O'), ('galaxy', 'O'), ('and', 'O'), ('then', 'O'), ('randomize', 'O'), ('its', 'O'), ('angular', 'O'), ('position.', 'O'), ('We', 'O'), ('repeat', 'O'), ('this', 'O'), ('procedure', 'O'), ('10', 'O'), ('4', 'O'), ('times', 'O'), ('for', 'O'), ('each', 'O'), ('satellite', 'O'), ('distribution', 'O'), ('and', 'O'), ('proceed', 'O'), ('to', 'O'), ('measure', 'O'), ('the', 'O'), ('quantities', 'O'), ('mentioned', 'O'), ('in', 'O'), ('the', 'O'), ('previous', 'O'), ('section:', 'O'), ('w', 'O'), (',', 'O'), ('c', 'O'), ('/', 'O'), ('a', 'O'), (',', 'O'), ('and', 'O'), ('b', 'O'), ('/', 'O'), ('a', 'O'), ('.', 'O'), ('This', 'O'), ('allows', 'O'), ('us', 'O'), ('to', 'O'), ('build', 'O'), ('a', 'O'), ('normalized', 'O'), ('version', 'O'), ('of', 'O'), ('all', 'O'), ('quantities', 'O'), ('of', 'O'), ('interest', 'O'), ('by', 'O'), ('subtracting', 'O'), ('the', 'O'), ('mean', 'O'), ('and', 'O'), ('dividing', 'O'), ('by', 'O'), ('the', 'O'), ('standard', 'O'), ('deviation', 'O'), ('of', 'O'), ('the', 'O'), ('values', 'O'), ('from', 'O'), ('randomized', 'O'), ('samples.', 'O'), ('We', 'O'), ('use', 'O'), ('the', 'O'), ('normalized', 'O'), ('quantities', 'O'), ('to', 'O'), ('build', 'O'), ('the', 'O'), ('analytic', 'O'), ('probability', 'O'), ('distributions', 'O'), ('for', 'O'), ('the', 'O'), ('scalars', 'O'), ('describing', 'O'), ('asphericity.', 'O'), ('3.4', 'O'), ('Building', 'O'), ('an', 'O'), ('analytic', 'O'), ('asphericity', 'O'), ('probability', 'O'), ('distribution', 'O'), ('After', 'O'), ('building', 'O'), ('the', 'O'), ('normalized', 'O'), ('variables', 'O'), ('for', 'O'), ('the', 'O'), ('simulated', 'O'), ('data', 'O'), ('we', 'O'), ('perform', 'O'), ('a', 'O'), ('Kolmogorov–Smirnov', 'O'), ('test', 'O'), ('with', 'O'), ('the', 'O'), ('null', 'O'), ('hypothesis', 'O'), ('of', 'O'), ('belonging', 'O'), ('to', 'O'), ('a', 'O'), ('normal', 'O'), ('distribution', 'O'), ('with', 'O'), ('mean', 'O'), ('and', 'O'), ('standard', 'O'), ('deviation', 'O'), ('computed', 'O'), ('from', 'O'), ('the', 'O'), ('mean', 'O'), ('and', 'O'), ('standard', 'O'), ('deviation', 'O'), ('estimated', 'O'), ('from', 'O'), ('the', 'O'), ('data.', 'O'), ('Although', 'O'), ('the', 'O'), ('physical', 'O'), ('quantities', 'O'), ('of', 'O'), ('interest', 'O'), ('are', 'O'), ('bound,', 'O'), ('we', 'O'), ('find', 'O'), ('that', 'O'), ('the', 'O'), ('distributions', 'O'), ('for', 'O'), ('the', 'O'), ('normalized', 'O'), ('w', 'O'), (',', 'O'), ('c', 'O'), ('/', 'O'), ('a', 'O'), (',', 'O'), ('and', 'O'), ('b', 'O'), ('/', 'O'), ('a', 'O'), ('are', 'O'), ('indeed', 'O'), ('consistent', 'O'), ('with', 'O'), ('Gaussian', 'O'), ('distributions.', 'O'), ('Based', 'O'), ('on', 'O'), ('this', 'O'), ('result', 'O'), ('we', 'O'), ('build', 'O'), ('a', 'O'), ('multivariate', 'O'), ('normal', 'O'), ('distribution', 'O'), ('for', 'O'), ('the', 'O'), ('joint', 'O'), ('distributions', 'O'), ('of', 'O'), ('the', 'O'), ('normalized', 'O'), ('w', 'O'), (',', 'O'), ('c', 'O'), ('/', 'O'), ('a', 'O'), (',', 'O'), ('and', 'O'), ('b', 'O'), ('/', 'O'), ('a', 'O'), ('where', 'O'), ('X', 'B-Formula'), ('=', 'I-Formula'), ('[', 'I-Formula'), ('w', 'I-Formula'), (',', 'I-Formula'), ('c', 'I-Formula'), ('/', 'I-Formula'), ('a', 'I-Formula'), (',', 'I-Formula'), ('b', 'I-Formula'), ('/', 'I-Formula'), ('a', 'I-Formula'), (']', 'I-Formula'), ('T', 'I-Formula'), ('is', 'O'), ('a', 'O'), ('vector', 'O'), ('variable', 'O'), ('with', 'O'), ('the', 'O'), ('normalized', 'O'), ('quantities,', 'O'), ('μ', 'O'), ('is', 'O'), ('the', 'O'), ('vector', 'O'), ('mean,', 'O'), ('and', 'O'), ('the', 'O'), ('Σ', 'O'), ('is', 'O'), ('the', 'O'), ('covariance', 'O'), ('matrix.', 'O'), ('We', 'O'), ('compute', 'O'), ('the', 'O'), ('preferred', 'O'), ('covariance', 'O'), ('matrix', 'O'), ('and', 'O'), ('the', 'O'), ('mean', 'O'), ('distribution', 'O'), ('values', 'O'), ('with', 'O'), ('a', 'O'), ('jackknife', 'O'), ('technique.', 'O'), ('That', 'O'), ('is,', 'O'), ('out', 'O'), ('of', 'O'), ('the', 'O'), ('n', 'O'), ('pairs', 'O'), ('in', 'O'), ('each', 'O'), ('simulation,', 'O'), ('we', 'O'), ('perform', 'O'), ('n', 'O'), ('different', 'O'), ('covariance', 'O'), ('and', 'O'), ('mean', 'O'), ('value', 'O'), ('measurements', 'O'), ('using', 'O'), ('only', 'O'), ('n', 'O'), ('−', 'O'), ('1', 'O'), ('pairs.', 'O'), ('The', 'O'), ('reported', 'O'), ('covariance', 'O'), ('and', 'O'), ('mean', 'O'), ('values', 'O'), ('correspond', 'O'), ('to', 'O'), ('the', 'O'), ('average', 'O'), ('of', 'O'), ('all', 'O'), ('measurements,', 'O'), ('the', 'O'), ('corresponding', 'O'), ('standard', 'O'), ('deviation', 'O'), ('also', 'O'), ('helps', 'O'), ('us', 'O'), ('to', 'O'), ('estimate', 'O'), ('the', 'O'), ('uncertainty', 'O'), ('on', 'O'), ('every', 'O'), ('reported', 'O'), ('coefficient.', 'O'), ('This', 'O'), ('compact', 'O'), ('description', 'O'), ('allows', 'O'), ('us', 'O'), ('to', 'O'), ('generate', 'O'), ('samples', 'O'), ('of', 'O'), ('size', 'O'), ('N', 'O'), ('that', 'O'), ('are', 'O'), ('consistent', 'O'), ('by', 'O'), ('construction', 'O'), ('with', 'O'), ('their', 'O'), ('parent', 'O'), ('simulation.', 'O'), ('Finally,', 'O'), ('we', 'O'), ('use', 'O'), ('the', 'O'), ('generated', 'O'), ('samples', 'O'), ('to', 'O'), ('estimate', 'O'), ('how', 'O'), ('common', 'O'), ('are', 'O'), ('the', 'O'), ('deviations', 'O'), ('from', 'O'), ('sphericity', 'O'), ('that', 'O'), ('we', 'O'), ('measure', 'O'), ('in', 'O'), ('the', 'O'), ('observational', 'O'), ('data.', 'O'), ('We', 'O'), ('use', 'O'), ('a', 'O'), ('double-tailed', 'O'), ('test', 'O'), ('around', 'O'), ('the', 'O'), ('mean', 'O'), ('in', 'O'), ('this', 'O'), ('comparison,', 'O'), ('meaning', 'O'), ('that', 'O'), ('we', 'O'), ('count', 'O'), ('the', 'O'), ('fraction', 'O'), ('of', 'O')]\n",
            "[('ACKNOWLEDGEMENTS', 'O'), ('The', 'O'), ('authors', 'O'), ('thank', 'O'), ('an', 'O'), ('anonymous', 'O'), ('reviewer', 'O'), ('for', 'O'), ('comments', 'O'), ('and', 'O'), ('suggestions', 'O'), ('that', 'O'), ('strengthened', 'O'), ('our', 'O'), ('manuscript.', 'O'), ('NWCL', 'B-Person'), ('gratefully', 'O'), ('acknowledges', 'O'), ('support', 'O'), ('from', 'O'), ('the', 'O'), ('American', 'B-Organization'), ('Museum', 'I-Organization'), ('of', 'I-Organization'), ('Natural', 'I-Organization'), ('History', 'I-Organization'), ('and', 'O'), ('the', 'O'), ('Richard', 'B-Organization'), ('Guilder', 'I-Organization'), ('Graduate', 'I-Organization'), ('School,', 'I-Organization'), ('specifically', 'O'), ('the', 'O'), ('Kalbfleisch', 'B-Fellowship'), ('Fellowship', 'I-Fellowship'), ('Program,', 'I-Fellowship'), ('as', 'O'), ('well', 'O'), ('as', 'O'), ('support', 'O'), ('from', 'O'), ('a', 'O'), ('National', 'B-Organization'), ('Science', 'I-Organization'), ('Foundation', 'I-Organization'), ('Award', 'O'), ('No.', 'O'), ('AST', 'B-Grant'), ('11-09395.', 'I-Grant')]\n",
            "[('BDM', 'B-Person'), ('gratefully', 'O'), ('acknowledges', 'O'), ('support', 'O'), ('from', 'O'), ('NASA', 'B-Organization'), ('Fermi', 'B-Grant'), ('grant', 'I-Grant'), ('NNX14AQ68G,', 'I-Grant'), ('NSF', 'B-Organization'), ('grant', 'O'), ('AST-1410950,', 'B-Grant'), ('and', 'O'), ('the', 'O'), ('Alfred', 'B-Organization'), ('P.', 'I-Organization'), ('Sloan', 'I-Organization'), ('Foundation.', 'I-Organization'), ('We', 'O'), ('thank', 'O'), ('the', 'O'), ('anonymous', 'O'), ('reviewer', 'O'), ('for', 'O'), ('several', 'O'), ('helpful', 'O'), ('suggestions', 'O'), ('and', 'O'), ('for', 'O'), ('emphasizing', 'O'), ('the', 'O'), ('applicability', 'O'), ('of', 'O'), ('our', 'O'), ('results', 'O'), ('to', 'O'), ('Type', 'O'), ('IIn', 'O'), ('supernovae.', 'O')]\n",
            "[('ACKNOWLEDGEMENTS', 'O'), ('We', 'O'), ('thank', 'O'), ('Dougal', 'B-Person'), ('Mackey,', 'I-Person'), ('Adrian', 'B-Person'), ('Price-Whelan,', 'I-Person'), ('David', 'B-Person'), ('Hogg,', 'I-Person'), ('Gurtina', 'B-Person'), ('Besla,', 'I-Person'), ('David', 'B-Person'), ('Schiminovich,', 'I-Person'), ('Alis', 'B-Person'), ('Deason,', 'I-Person'), ('and', 'O'), ('Sergey', 'B-Person'), ('Koposov', 'I-Person'), ('for', 'O'), ('illuminating', 'O'), ('discussions.', 'O'), ('The', 'O'), ('research', 'O'), ('leading', 'O'), ('to', 'O'), ('these', 'O'), ('results', 'O'), ('has', 'O'), ('received', 'O'), ('funding', 'O'), ('from', 'O'), ('the', 'O'), ('European', 'B-Organization'), ('Research', 'I-Organization'), ('Council', 'I-Organization'), ('under', 'O'), ('the', 'O'), ('European', 'B-Location'), ('Union’s', 'I-Location'), ('Seventh', 'B-Grant'), ('Framework', 'I-Grant'), ('Programme', 'I-Grant'), ('(FP/2007-2013)', 'B-Grant'), ('/', 'O'), ('ERC', 'B-Organization'), ('Grant', 'O'), ('Agreement', 'O'), ('n.', 'O'), ('308024.', 'B-Grant'), ('This', 'O'), ('research', 'O'), ('was', 'O'), ('started', 'O'), ('at', 'O'), ('the', 'O'), ('NYC', 'B-Event'), ('Gaia', 'I-Event'), ('DR2', 'I-Event'), ('Workshop', 'I-Event'), ('at', 'O'), ('the', 'O'), ('Center', 'B-Organization'), ('for', 'I-Organization'), ('Computational', 'I-Organization'), ('Astrophysics', 'I-Organization'), ('of', 'I-Organization'), ('the', 'I-Organization'), ('Flatiron', 'I-Organization'), ('Institute', 'I-Organization'), ('in', 'O'), ('April', 'O'), ('2018', 'O'), ('and', 'O'), ('made', 'O'), ('use', 'O'), ('of', 'O'), ('data', 'O'), ('from', 'O'), ('the', 'O'), ('European', 'B-Organization'), ('Space', 'I-Organization'), ('Agency', 'I-Organization'), ('mission', 'O'), ('Gaia', 'B-Telescope'), ('(', 'O'), ('http://www.cosmos.esa.int/gaia', 'B-URL'), ('),', 'O'), ('processed', 'O'), ('by', 'O'), ('the', 'O'), ('Gaia', 'B-Organization'), ('Data', 'I-Organization'), ('Processing', 'I-Organization'), ('and', 'I-Organization'), ('Analysis', 'I-Organization'), ('Consortium', 'I-Organization'), ('(DPAC,', 'B-Organization'), ('http://www.cosmos.esa.int/web/gaia/dpac/consortium', 'B-URL'), (').', 'O'), ('Funding', 'O'), ('for', 'O'), ('the', 'O'), ('DPAC', 'B-Organization'), ('has', 'O'), ('been', 'O'), ('provided', 'O'), ('by', 'O'), ('national', 'O'), ('institutions,', 'O'), ('in', 'O'), ('particular', 'O'), ('the', 'O'), ('institutions', 'O'), ('participating', 'O'), ('in', 'O'), ('the', 'O'), ('Gaia', 'B-Collaboration'), ('Multilateral', 'I-Collaboration'), ('Agreement.', 'I-Collaboration')]\n"
          ]
        }
      ]
    },
    {
      "cell_type": "code",
      "execution_count": null,
      "metadata": {
        "id": "pPPNuPLuGbbA",
        "colab": {
          "base_uri": "https://localhost:8080/",
          "height": 200
        },
        "outputId": "336ba20f-4d53-4110-84ce-16c0776fa7cc"
      },
      "outputs": [
        {
          "output_type": "error",
          "ename": "IndexError",
          "evalue": "ignored",
          "traceback": [
            "\u001b[0;31m---------------------------------------------------------------------------\u001b[0m",
            "\u001b[0;31mIndexError\u001b[0m                                Traceback (most recent call last)",
            "\u001b[0;32m<ipython-input-32-74c7e5df485d>\u001b[0m in \u001b[0;36m<module>\u001b[0;34m()\u001b[0m\n\u001b[1;32m     10\u001b[0m             \u001b[0mnew_seq\u001b[0m\u001b[0;34m.\u001b[0m\u001b[0mappend\u001b[0m\u001b[0;34m(\u001b[0m\u001b[0;34m\"PAD\"\u001b[0m\u001b[0;34m)\u001b[0m\u001b[0;34m\u001b[0m\u001b[0;34m\u001b[0m\u001b[0m\n\u001b[1;32m     11\u001b[0m     \u001b[0mnew_X\u001b[0m\u001b[0;34m.\u001b[0m\u001b[0mappend\u001b[0m\u001b[0;34m(\u001b[0m\u001b[0mnew_seq\u001b[0m\u001b[0;34m)\u001b[0m\u001b[0;34m\u001b[0m\u001b[0;34m\u001b[0m\u001b[0m\n\u001b[0;32m---> 12\u001b[0;31m \u001b[0mnew_X\u001b[0m\u001b[0;34m[\u001b[0m\u001b[0;36m15\u001b[0m\u001b[0;34m]\u001b[0m\u001b[0;34m\u001b[0m\u001b[0;34m\u001b[0m\u001b[0m\n\u001b[0m",
            "\u001b[0;31mIndexError\u001b[0m: list index out of range"
          ]
        }
      ],
      "source": [
        "max_len = 800\n",
        "X = [s for s in token_sentences]\n",
        "new_X = []\n",
        "for seq in X:\n",
        "    new_seq = []\n",
        "    for i in range(max_len):\n",
        "        try:\n",
        "            new_seq.append(seq[i])\n",
        "        except:\n",
        "            new_seq.append(\"PAD\")\n",
        "    new_X.append(new_seq)\n",
        "new_X[15]"
      ]
    },
    {
      "cell_type": "code",
      "source": [
        "len(new_X),len(new_X[0]),max([len(i) for i in new_X])"
      ],
      "metadata": {
        "colab": {
          "base_uri": "https://localhost:8080/"
        },
        "id": "B2TY91j5Q2ju",
        "outputId": "6e287de3-db39-49b6-f3f0-e651589ebcf8"
      },
      "execution_count": null,
      "outputs": [
        {
          "output_type": "execute_result",
          "data": {
            "text/plain": [
              "(1, 800, 800)"
            ]
          },
          "metadata": {},
          "execution_count": 33
        }
      ]
    },
    {
      "cell_type": "code",
      "source": [
        "ner_tags_sentences['ner_tags'][0]"
      ],
      "metadata": {
        "colab": {
          "base_uri": "https://localhost:8080/"
        },
        "id": "WKaTIg8ZPeK7",
        "outputId": "efb0857b-5d48-47e0-8016-2c19f2779810"
      },
      "execution_count": null,
      "outputs": [
        {
          "output_type": "execute_result",
          "data": {
            "text/plain": [
              "['O',\n",
              " 'O',\n",
              " 'O',\n",
              " 'O',\n",
              " 'O',\n",
              " 'O',\n",
              " 'O',\n",
              " 'O',\n",
              " 'O',\n",
              " 'O',\n",
              " 'O',\n",
              " 'O',\n",
              " 'O',\n",
              " 'O',\n",
              " 'O',\n",
              " 'O',\n",
              " 'O',\n",
              " 'O',\n",
              " 'O',\n",
              " 'O',\n",
              " 'O',\n",
              " 'O',\n",
              " 'O',\n",
              " 'O',\n",
              " 'O',\n",
              " 'B-Organization',\n",
              " 'O',\n",
              " 'O',\n",
              " 'O',\n",
              " 'O',\n",
              " 'O',\n",
              " 'B-Person',\n",
              " 'I-Person',\n",
              " 'O',\n",
              " 'B-Person',\n",
              " 'I-Person',\n",
              " 'O',\n",
              " 'O',\n",
              " 'O',\n",
              " 'O',\n",
              " 'O',\n",
              " 'O',\n",
              " 'O',\n",
              " 'O',\n",
              " 'O',\n",
              " 'O',\n",
              " 'B-Person',\n",
              " 'I-Person',\n",
              " 'O',\n",
              " 'O',\n",
              " 'O',\n",
              " 'O',\n",
              " 'B-Telescope',\n",
              " 'O',\n",
              " 'O',\n",
              " 'O',\n",
              " 'O',\n",
              " 'O',\n",
              " 'O',\n",
              " 'O',\n",
              " 'O',\n",
              " 'O',\n",
              " 'O',\n",
              " 'O',\n",
              " 'B-Telescope',\n",
              " 'B-Wavelength',\n",
              " 'O',\n",
              " 'O',\n",
              " 'O',\n",
              " 'O',\n",
              " 'O',\n",
              " 'O',\n",
              " 'O',\n",
              " 'O',\n",
              " 'B-Organization',\n",
              " 'I-Organization',\n",
              " 'O',\n",
              " 'B-Organization',\n",
              " 'I-Organization',\n",
              " 'O',\n",
              " 'O',\n",
              " 'O',\n",
              " 'O',\n",
              " 'O',\n",
              " 'O',\n",
              " 'O',\n",
              " 'B-Wavelength',\n",
              " 'O',\n",
              " 'O',\n",
              " 'B-CelestialObject',\n",
              " 'I-CelestialObject',\n",
              " 'O',\n",
              " 'O',\n",
              " 'B-Person',\n",
              " 'O',\n",
              " 'O',\n",
              " 'O',\n",
              " 'O',\n",
              " 'B-Person',\n",
              " 'I-Person',\n",
              " 'O',\n",
              " 'B-Person',\n",
              " 'I-Person',\n",
              " 'O',\n",
              " 'O',\n",
              " 'O',\n",
              " 'O',\n",
              " 'O',\n",
              " 'O',\n",
              " 'B-Telescope',\n",
              " 'I-Telescope',\n",
              " 'I-Telescope',\n",
              " 'I-Telescope',\n",
              " 'O',\n",
              " 'O',\n",
              " 'O',\n",
              " 'B-Organization',\n",
              " 'I-Organization',\n",
              " 'I-Organization',\n",
              " 'I-Organization',\n",
              " 'O',\n",
              " 'O',\n",
              " 'O',\n",
              " 'B-Organization',\n",
              " 'I-Organization',\n",
              " 'I-Organization',\n",
              " 'I-Organization',\n",
              " 'I-Organization',\n",
              " 'I-Organization',\n",
              " 'I-Organization',\n",
              " 'I-Organization',\n",
              " 'O',\n",
              " 'B-Organization',\n",
              " 'O',\n",
              " 'B-Grant',\n",
              " 'I-Grant',\n",
              " 'O',\n",
              " 'O',\n",
              " 'O',\n",
              " 'O',\n",
              " 'B-Organization',\n",
              " 'O',\n",
              " 'O',\n",
              " 'B-Grant',\n",
              " 'B-Grant',\n",
              " 'B-Grant',\n",
              " 'O',\n",
              " 'B-Grant',\n",
              " 'O',\n",
              " 'O',\n",
              " 'B-Organization',\n",
              " 'I-Organization',\n",
              " 'I-Organization',\n",
              " 'I-Organization',\n",
              " 'O',\n",
              " 'O',\n",
              " 'O',\n",
              " 'O',\n",
              " 'O',\n",
              " 'B-Organization',\n",
              " 'I-Organization',\n",
              " 'I-Organization',\n",
              " 'I-Organization',\n",
              " 'I-Organization',\n",
              " 'I-Organization',\n",
              " 'I-Organization',\n",
              " 'I-Organization',\n",
              " 'O',\n",
              " 'B-Organization',\n",
              " 'O',\n",
              " 'B-Grant',\n",
              " 'I-Grant',\n",
              " 'B-Person',\n",
              " 'O',\n",
              " 'O',\n",
              " 'B-CelestialObject',\n",
              " 'I-CelestialObject',\n",
              " 'O',\n",
              " 'O',\n",
              " 'O',\n",
              " 'O',\n",
              " 'B-Organization',\n",
              " 'O',\n",
              " 'B-Grant',\n",
              " 'O',\n",
              " 'B-Grant']"
            ]
          },
          "metadata": {},
          "execution_count": 34
        }
      ]
    },
    {
      "cell_type": "code",
      "execution_count": null,
      "metadata": {
        "id": "OulmHtedGfVd",
        "colab": {
          "base_uri": "https://localhost:8080/"
        },
        "outputId": "719d3ffc-975e-4f8c-e30a-77787c7086be"
      },
      "outputs": [
        {
          "output_type": "execute_result",
          "data": {
            "text/plain": [
              "array([62, 56, 56, 62,  9, 56, 56, 56, 56, 56, 56, 56, 56, 56, 56, 56, 62,\n",
              "        9, 56, 62,  9, 56, 56, 56, 56, 56, 56, 56, 56, 56, 62, 62, 56, 62,\n",
              "       56, 56, 56, 56, 51, 27, 27, 27, 27, 27, 27, 27, 51, 56, 56, 56, 62,\n",
              "        9, 56, 56, 45, 29, 29, 29, 56, 56, 56, 56, 56, 56, 56, 56, 56, 56,\n",
              "       56, 62, 56, 62,  9, 56, 56, 56, 56, 56, 50, 30, 60, 60, 60, 56, 56,\n",
              "       56, 56, 56, 56, 56, 56, 56, 56, 56, 56, 56, 45, 56, 56, 31, 22, 22,\n",
              "       22, 22, 22, 22, 62, 56, 56, 56, 56, 56, 56, 45, 29, 29, 29, 29, 29,\n",
              "       29, 29, 29, 29, 29, 56, 56, 56, 31, 56, 31, 56, 56, 56, 31, 22, 22,\n",
              "       56, 56, 56, 56, 56, 56, 45, 29, 29, 29, 29, 56, 56, 31, 56, 56, 56,\n",
              "       56, 56, 56, 45, 29, 56, 56, 31, 22, 22, 31, 56, 56, 56, 56, 56, 56,\n",
              "       56, 56, 56, 56, 56, 56, 56, 56, 35, 18, 18, 18, 18, 18, 56, 45, 29,\n",
              "       29, 29, 29, 29, 56, 56, 56, 45, 29, 29, 29, 29, 29, 29, 29, 29, 56,\n",
              "       56, 56, 31, 56, 56, 56, 56, 35, 18, 56, 45, 29, 56, 56, 56, 56, 56,\n",
              "       56, 56, 56, 56, 56, 56, 56, 56, 50, 30, 60, 56, 56, 56, 56, 56, 56,\n",
              "       56, 52, 11, 11, 11, 56, 56, 56, 56, 56, 50, 56, 56, 56, 50, 56, 56,\n",
              "       56, 30, 60, 60, 60, 60, 56, 56, 56, 56, 56, 56, 56, 56, 56, 56, 56,\n",
              "       56, 56, 56, 56, 56, 56, 56, 56, 56, 56, 56, 56, 56, 56, 56, 56, 56,\n",
              "       56, 56, 56, 56, 56, 56, 56, 56, 56, 56, 56, 56, 56, 56, 56, 56, 56,\n",
              "       56, 56, 56, 56, 56, 56, 56, 56, 56, 56, 56, 56, 56, 56, 56, 56, 56,\n",
              "       56, 56, 56, 56, 56, 56, 56, 56, 56, 56, 56, 56, 56, 56, 56, 56, 56,\n",
              "       56, 56, 56, 56, 56, 56, 56, 56, 56, 56, 56, 56, 56, 56, 56, 56, 56,\n",
              "       56, 56, 56, 56, 56, 56, 56, 56, 56, 56, 56, 56, 56, 56, 56, 56, 56,\n",
              "       56, 56, 56, 56, 56, 56, 56, 56, 56, 56, 56, 56, 56, 56, 56, 56, 56,\n",
              "       56, 56, 56, 56, 56, 56, 56, 56, 56, 56, 56, 56, 56, 56, 56, 56, 56,\n",
              "       56, 56, 56, 56, 56, 56, 56, 56, 56, 56, 56, 56, 56, 56, 56, 56, 56,\n",
              "       56, 56, 56, 56, 56, 56, 56, 56, 56, 56, 56, 56, 56, 56, 56, 56, 56,\n",
              "       56, 56, 56, 56, 56, 56, 56, 56, 56, 56, 56, 56, 56, 56, 56, 56, 56,\n",
              "       56, 56, 56, 56, 56, 56, 56, 56, 56, 56, 56, 56, 56, 56, 56, 56, 56,\n",
              "       56, 56, 56, 56, 56, 56, 56, 56, 56, 56, 56, 56, 56, 56, 56, 56, 56,\n",
              "       56, 56, 56, 56, 56, 56, 56, 56, 56, 56, 56, 56, 56, 56, 56, 56, 56,\n",
              "       56, 56, 56, 56, 56, 56, 56, 56, 56, 56, 56, 56, 56, 56, 56, 56, 56,\n",
              "       56, 56, 56, 56, 56, 56, 56, 56, 56, 56, 56, 56, 56, 56, 56, 56, 56,\n",
              "       56, 56, 56, 56, 56, 56, 56, 56, 56, 56, 56, 56, 56, 56, 56, 56, 56,\n",
              "       56, 56, 56, 56, 56, 56, 56, 56, 56, 56, 56, 56, 56, 56, 56, 56, 56,\n",
              "       56, 56, 56, 56, 56, 56, 56, 56, 56, 56, 56, 56, 56, 56, 56, 56, 56,\n",
              "       56, 56, 56, 56, 56, 56, 56, 56, 56, 56, 56, 56, 56, 56, 56, 56, 56,\n",
              "       56, 56, 56, 56, 56, 56, 56, 56, 56, 56, 56, 56, 56, 56, 56, 56, 56,\n",
              "       56, 56, 56, 56, 56, 56, 56, 56, 56, 56, 56, 56, 56, 56, 56, 56, 56,\n",
              "       56, 56, 56, 56, 56, 56, 56, 56, 56, 56, 56, 56, 56, 56, 56, 56, 56,\n",
              "       56, 56, 56, 56, 56, 56, 56, 56, 56, 56, 56, 56, 56, 56, 56, 56, 56,\n",
              "       56, 56, 56, 56, 56, 56, 56, 56, 56, 56, 56, 56, 56, 56, 56, 56, 56,\n",
              "       56, 56, 56, 56, 56, 56, 56, 56, 56, 56, 56, 56, 56, 56, 56, 56, 56,\n",
              "       56, 56, 56, 56, 56, 56, 56, 56, 56, 56, 56, 56, 56, 56, 56, 56, 56,\n",
              "       56, 56, 56, 56, 56, 56, 56, 56, 56, 56, 56, 56, 56, 56, 56, 56, 56,\n",
              "       56, 56, 56, 56, 56, 56, 56, 56, 56, 56, 56, 56, 56, 56, 56, 56, 56,\n",
              "       56, 56, 56, 56, 56, 56, 56, 56, 56, 56, 56, 56, 56, 56, 56, 56, 56,\n",
              "       56, 56, 56, 56, 56, 56, 56, 56, 56, 56, 56, 56, 56, 56, 56, 56, 56,\n",
              "       56], dtype=int32)"
            ]
          },
          "metadata": {},
          "execution_count": 35
        }
      ],
      "source": [
        "from tensorflow.keras.preprocessing.sequence import pad_sequences\n",
        "y = [[tags2index[tag] for tag in s] for s in ner_tags_sentences['ner_tags']]\n",
        "# y = []\n",
        "y = pad_sequences(maxlen=max_len, sequences=y, padding=\"post\", value=tags2index[\"O\"])\n",
        "y[15]"
      ]
    },
    {
      "cell_type": "code",
      "source": [
        "import numpy as np\n",
        "depth=n_tags\n",
        "# y = tf.one_hot(y, depth)\n",
        "y2 = np.eye(depth)[y]"
      ],
      "metadata": {
        "id": "GewCooavdRQ0"
      },
      "execution_count": null,
      "outputs": []
    },
    {
      "cell_type": "code",
      "source": [
        "n_tags"
      ],
      "metadata": {
        "colab": {
          "base_uri": "https://localhost:8080/"
        },
        "id": "jCjk7fWtdVw3",
        "outputId": "5bf24f0b-662b-45ec-c1fc-274d8c9c8f63"
      },
      "execution_count": null,
      "outputs": [
        {
          "output_type": "execute_result",
          "data": {
            "text/plain": [
              "63"
            ]
          },
          "metadata": {},
          "execution_count": 38
        }
      ]
    },
    {
      "cell_type": "code",
      "execution_count": null,
      "metadata": {
        "id": "13B8NILnxS_a"
      },
      "outputs": [],
      "source": [
        "batch_size=1024"
      ]
    },
    {
      "cell_type": "code",
      "source": [
        "from tensorflow.keras.preprocessing.text import Tokenizer\n",
        "from tensorflow.keras.preprocessing.sequence import pad_sequences\n",
        "\n",
        "tok = Tokenizer(oov_token=\"<OOV>\")"
      ],
      "metadata": {
        "id": "tSXtTRA9DWBF"
      },
      "execution_count": null,
      "outputs": []
    },
    {
      "cell_type": "code",
      "source": [
        "sentences = token_sentences['tokens']"
      ],
      "metadata": {
        "id": "wuX9ITAAQvYu"
      },
      "execution_count": null,
      "outputs": []
    },
    {
      "cell_type": "code",
      "source": [
        "tok.fit_on_texts(sentences)\n",
        "X2 = tok.texts_to_sequences(sentences)\n",
        "padded_X = pad_sequences(X2,padding=\"post\",maxlen=800)"
      ],
      "metadata": {
        "id": "Qi3luYlgLpnw"
      },
      "execution_count": null,
      "outputs": []
    },
    {
      "cell_type": "code",
      "source": [
        "import json\n",
        "# json_ob= json.dumps(tok.word_index,indent=4)\n",
        "with open(\"training_word_index_new.json\",\"w\") as outfile:\n",
        "  json.dump(tok.word_index, outfile)"
      ],
      "metadata": {
        "id": "RpRcv2yZAvtw"
      },
      "execution_count": null,
      "outputs": []
    },
    {
      "cell_type": "code",
      "source": [
        "padded_X.shape"
      ],
      "metadata": {
        "colab": {
          "base_uri": "https://localhost:8080/"
        },
        "id": "PAbzMEqEZjfE",
        "outputId": "61864edf-8452-457f-b943-eea255a459ac"
      },
      "execution_count": null,
      "outputs": [
        {
          "output_type": "execute_result",
          "data": {
            "text/plain": [
              "(1753, 800)"
            ]
          },
          "metadata": {},
          "execution_count": 55
        }
      ]
    },
    {
      "cell_type": "code",
      "source": [
        "# from keras.utils import to_categorical\n",
        "# y2 = [tf.keras.utils.to_categorical(i, num_classes=n_tags) for i in y]"
      ],
      "metadata": {
        "id": "-kunPgsJTSml"
      },
      "execution_count": null,
      "outputs": []
    },
    {
      "cell_type": "code",
      "execution_count": null,
      "metadata": {
        "id": "yN9baJarGurF"
      },
      "outputs": [],
      "source": [
        "# from sklearn.model_selection import train_test_split\n",
        "# X_tr, X_val, y_tr, y_val = train_test_split(new_X_padded, y, test_size=0.1, random_state=2021)"
      ]
    },
    {
      "cell_type": "code",
      "source": [
        "from sklearn.model_selection import train_test_split\n",
        "X_tr, X_val, y_tr, y_val = train_test_split(padded_X, y2, test_size=0.1, random_state=2021)"
      ],
      "metadata": {
        "id": "69HkeYnSNyEG"
      },
      "execution_count": null,
      "outputs": []
    },
    {
      "cell_type": "code",
      "execution_count": null,
      "metadata": {
        "id": "WH2dEAijTeWs"
      },
      "outputs": [],
      "source": [
        "# y_tr, y_val = y_tr[:1213*batch_size], y_tr[-135*batch_size:]\n",
        "import tensorflow as tf\n",
        "y_tr = tf.convert_to_tensor(y_tr)\n",
        "y_val = tf.convert_to_tensor(y_val)\n",
        "\n",
        "# y_tr = tf.reshape(y_tr, (y_tr.shape[0], y_tr.shape[1], y_tr.shape[2],1))\n",
        "# y_val = tf.reshape(y_val,(y_val.shape[0], y_val.shape[1], y_tr.shape[2],1))"
      ]
    },
    {
      "cell_type": "code",
      "source": [
        "X_tr = tf.convert_to_tensor(X_tr)\n",
        "X_val = tf.convert_to_tensor(X_val)"
      ],
      "metadata": {
        "id": "XQqeqrtNMwEX"
      },
      "execution_count": null,
      "outputs": []
    },
    {
      "cell_type": "code",
      "source": [
        "y_tr.shape,y_val.shape"
      ],
      "metadata": {
        "colab": {
          "base_uri": "https://localhost:8080/"
        },
        "id": "PsNMNiRWhU_Y",
        "outputId": "9287e52a-519d-41bb-e769-008d9ceff187"
      },
      "execution_count": null,
      "outputs": [
        {
          "output_type": "execute_result",
          "data": {
            "text/plain": [
              "(TensorShape([1577, 800, 63]), TensorShape([176, 800, 63]))"
            ]
          },
          "metadata": {},
          "execution_count": 46
        }
      ]
    },
    {
      "cell_type": "code",
      "source": [
        "X_tr.shape,X_val.shape"
      ],
      "metadata": {
        "id": "dJtyUmD6JVvf",
        "colab": {
          "base_uri": "https://localhost:8080/"
        },
        "outputId": "a8581d72-27a4-4211-e039-e1674985d05b"
      },
      "execution_count": null,
      "outputs": [
        {
          "output_type": "execute_result",
          "data": {
            "text/plain": [
              "(TensorShape([1577, 800]), TensorShape([176, 800]))"
            ]
          },
          "metadata": {},
          "execution_count": 47
        }
      ]
    },
    {
      "cell_type": "code",
      "source": [
        "# batch_size=32\n",
        "# train_data = tf.data.Dataset.from_tensor_slices((X_tr,y_tr)).batch(batch_size)\n",
        "# val_data =   tf.data.Dataset.from_tensor_slices((X_val,y_val)).batch(batch_size)"
      ],
      "metadata": {
        "id": "HAe8yr11OnI7"
      },
      "execution_count": null,
      "outputs": []
    },
    {
      "cell_type": "code",
      "source": [
        "# train_data.element_spec"
      ],
      "metadata": {
        "colab": {
          "base_uri": "https://localhost:8080/"
        },
        "id": "OT6Mk3e7jE88",
        "outputId": "565d3341-10f6-492a-aa4f-0771c38530e4"
      },
      "execution_count": null,
      "outputs": [
        {
          "output_type": "execute_result",
          "data": {
            "text/plain": [
              "(TensorSpec(shape=(None, 800), dtype=tf.string, name=None),\n",
              " TensorSpec(shape=(None, 800), dtype=tf.int32, name=None))"
            ]
          },
          "metadata": {},
          "execution_count": 346
        }
      ]
    },
    {
      "cell_type": "code",
      "source": [
        ""
      ],
      "metadata": {
        "id": "ZjgpPxEwz_cb"
      },
      "execution_count": null,
      "outputs": []
    },
    {
      "cell_type": "markdown",
      "source": [
        "## Glove and model training"
      ],
      "metadata": {
        "id": "F8ZOuD8-hECH"
      }
    },
    {
      "cell_type": "code",
      "source": [
        "!wget --no-check-certificate \\\n",
        "     http://nlp.stanford.edu/data/glove.6B.zip \\\n",
        "     -O /tmp/glove.6B.zip"
      ],
      "metadata": {
        "colab": {
          "base_uri": "https://localhost:8080/"
        },
        "id": "XUJl1h6-fjYA",
        "outputId": "bbdb807c-5a99-4a51-e427-b70cf44ecc71"
      },
      "execution_count": null,
      "outputs": [
        {
          "output_type": "stream",
          "name": "stdout",
          "text": [
            "--2022-07-29 20:18:33--  http://nlp.stanford.edu/data/glove.6B.zip\n",
            "Resolving nlp.stanford.edu (nlp.stanford.edu)... 171.64.67.140\n",
            "Connecting to nlp.stanford.edu (nlp.stanford.edu)|171.64.67.140|:80... connected.\n",
            "HTTP request sent, awaiting response... 302 Found\n",
            "Location: https://nlp.stanford.edu/data/glove.6B.zip [following]\n",
            "--2022-07-29 20:18:33--  https://nlp.stanford.edu/data/glove.6B.zip\n",
            "Connecting to nlp.stanford.edu (nlp.stanford.edu)|171.64.67.140|:443... connected.\n",
            "HTTP request sent, awaiting response... 301 Moved Permanently\n",
            "Location: https://downloads.cs.stanford.edu/nlp/data/glove.6B.zip [following]\n",
            "--2022-07-29 20:18:34--  https://downloads.cs.stanford.edu/nlp/data/glove.6B.zip\n",
            "Resolving downloads.cs.stanford.edu (downloads.cs.stanford.edu)... 171.64.64.22\n",
            "Connecting to downloads.cs.stanford.edu (downloads.cs.stanford.edu)|171.64.64.22|:443... connected.\n",
            "HTTP request sent, awaiting response... 200 OK\n",
            "Length: 862182613 (822M) [application/zip]\n",
            "Saving to: ‘/tmp/glove.6B.zip’\n",
            "\n",
            "/tmp/glove.6B.zip   100%[===================>] 822.24M  5.02MB/s    in 2m 39s  \n",
            "\n",
            "2022-07-29 20:21:13 (5.17 MB/s) - ‘/tmp/glove.6B.zip’ saved [862182613/862182613]\n",
            "\n"
          ]
        }
      ]
    },
    {
      "cell_type": "code",
      "source": [
        "import os\n",
        "import zipfile\n",
        "with zipfile.ZipFile('/tmp/glove.6B.zip', 'r') as zip_ref:\n",
        "    zip_ref.extractall('/tmp/glove')"
      ],
      "metadata": {
        "id": "SVMvkGmWgG5X"
      },
      "execution_count": null,
      "outputs": []
    },
    {
      "cell_type": "code",
      "source": [
        "import numpy as np\n",
        "embeddings_index = {}\n",
        "f = open('/tmp/glove/glove.6B.100d.txt')\n",
        "for line in f:\n",
        "    values = line.split()\n",
        "    word = values[0]\n",
        "    coefs = np.asarray(values[1:], dtype='float32')\n",
        "    embeddings_index[word] = coefs\n",
        "f.close()\n",
        "\n",
        "print('Found %s word vectors.' % len(embeddings_index))"
      ],
      "metadata": {
        "colab": {
          "base_uri": "https://localhost:8080/"
        },
        "id": "i8Ge3EpagR7_",
        "outputId": "5fc68b7e-5e4c-4e67-8009-35659c85a55d"
      },
      "execution_count": null,
      "outputs": [
        {
          "output_type": "stream",
          "name": "stdout",
          "text": [
            "Found 400000 word vectors.\n"
          ]
        }
      ]
    },
    {
      "cell_type": "code",
      "source": [
        ""
      ],
      "metadata": {
        "id": "_ziTtGIbCZCv"
      },
      "execution_count": null,
      "outputs": []
    },
    {
      "cell_type": "code",
      "source": [
        "# from numpy import asarray\n",
        "# from numpy import savetxt\n",
        "# savetxt('embeddings_index.csv', embeddings_index, delimiter=',',fmt=\"%s\")"
      ],
      "metadata": {
        "id": "g8OBWn4gB0sn"
      },
      "execution_count": null,
      "outputs": []
    },
    {
      "cell_type": "code",
      "source": [
        "len(list(word_index.keys()))"
      ],
      "metadata": {
        "colab": {
          "base_uri": "https://localhost:8080/"
        },
        "id": "10K5hc7XhEEY",
        "outputId": "e2801755-d1cc-4adf-e9de-c2280ed8bffd"
      },
      "execution_count": null,
      "outputs": [
        {
          "output_type": "execute_result",
          "data": {
            "text/plain": [
              "157"
            ]
          },
          "metadata": {},
          "execution_count": 72
        }
      ]
    },
    {
      "cell_type": "code",
      "source": [
        "max_length=100\n",
        "word_index=tok.word_index\n",
        "embedding_matrix = np.zeros((len(tok.word_index) + 1, max_length))\n",
        "for word, i in word_index.items():\n",
        "    embedding_vector = embeddings_index.get(word)\n",
        "    if embedding_vector is not None:\n",
        "        # words not found in embedding index will be all-zeros.\n",
        "        embedding_matrix[i] = embedding_vector"
      ],
      "metadata": {
        "id": "Cue6zwVtgdAv"
      },
      "execution_count": null,
      "outputs": []
    },
    {
      "cell_type": "code",
      "source": [
        "from tensorflow.keras.layers import Embedding, LSTM, Dense, Bidirectional\n",
        "\n",
        "embedding_layer = Embedding(input_dim=len(word_index) + 1,\n",
        "                            output_dim=max_length,\n",
        "                            weights=[embedding_matrix],\n",
        "                            input_length=max_length,\n",
        "                            trainable=True)"
      ],
      "metadata": {
        "id": "clr19f1fhSe9"
      },
      "execution_count": null,
      "outputs": []
    },
    {
      "cell_type": "code",
      "source": [
        "from tensorflow.keras.layers import SimpleRNN"
      ],
      "metadata": {
        "id": "rwzNgFC00wSU"
      },
      "execution_count": null,
      "outputs": []
    },
    {
      "cell_type": "code",
      "source": [
        "n_tokens = 63\n",
        "from tensorflow.keras.layers import Input\n",
        "from tensorflow.keras.models import Sequential\n",
        "\n",
        "model_1 = Sequential([\n",
        "    Input((800,)),\n",
        "    embedding_layer,\n",
        "    SimpleRNN(150, return_sequences=True), \n",
        "    SimpleRNN(150,return_sequences=True),\n",
        "    # Dense(128, activation='relu'),\n",
        "    Dense(n_tokens, activation='softmax')\n",
        "])"
      ],
      "metadata": {
        "id": "qYHbmOMci3dz"
      },
      "execution_count": null,
      "outputs": []
    },
    {
      "cell_type": "code",
      "source": [
        "model_1.compile(loss='categorical_crossentropy',optimizer='adam',metrics=['accuracy'])\n"
      ],
      "metadata": {
        "id": "4qVUQm8YjBR0"
      },
      "execution_count": null,
      "outputs": []
    },
    {
      "cell_type": "code",
      "source": [
        "model_1.summary()"
      ],
      "metadata": {
        "colab": {
          "base_uri": "https://localhost:8080/"
        },
        "id": "PXqZkIknElRI",
        "outputId": "cfa55321-0762-49b5-9cfb-1d893ee2d945"
      },
      "execution_count": null,
      "outputs": [
        {
          "output_type": "stream",
          "name": "stdout",
          "text": [
            "Model: \"sequential\"\n",
            "_________________________________________________________________\n",
            " Layer (type)                Output Shape              Param #   \n",
            "=================================================================\n",
            " embedding (Embedding)       (None, 800, 100)          4575500   \n",
            "                                                                 \n",
            " simple_rnn (SimpleRNN)      (None, 800, 150)          37650     \n",
            "                                                                 \n",
            " simple_rnn_1 (SimpleRNN)    (None, 800, 150)          45150     \n",
            "                                                                 \n",
            " dense (Dense)               (None, 800, 63)           9513      \n",
            "                                                                 \n",
            "=================================================================\n",
            "Total params: 4,667,813\n",
            "Trainable params: 4,667,813\n",
            "Non-trainable params: 0\n",
            "_________________________________________________________________\n"
          ]
        }
      ]
    },
    {
      "cell_type": "code",
      "source": [
        "tf.keras.utils.plot_model(model_1)"
      ],
      "metadata": {
        "colab": {
          "base_uri": "https://localhost:8080/",
          "height": 466
        },
        "id": "1IAa_hFSR8UV",
        "outputId": "b9a0b16d-ae8b-4e80-8086-9a56f80e1c62"
      },
      "execution_count": null,
      "outputs": [
        {
          "output_type": "execute_result",
          "data": {
            "text/plain": [
              "<IPython.core.display.Image object>"
            ],
            "image/png": "[encoded data removed]"
          },
          "metadata": {},
          "execution_count": 159
        }
      ]
    },
    {
      "cell_type": "code",
      "source": [
        "from tensorflow.keras.callbacks import EarlyStopping, TensorBoard\n",
        "%load_ext tensorboard\n",
        "%rm -rf logs\n",
        "\n",
        "log_folder = 'logs'\n",
        "callbacks = [\n",
        "            EarlyStopping(patience = 5),\n",
        "            TensorBoard(log_dir=log_folder)\n",
        "            ]\n",
        "num_epochs = 10\n",
        "history = model_1.fit(X_tr, y_tr, epochs=num_epochs, validation_data=(X_val, y_val),callbacks=callbacks)"
      ],
      "metadata": {
        "colab": {
          "base_uri": "https://localhost:8080/"
        },
        "id": "WUx5FezzjFTE",
        "outputId": "1445be4a-a0e0-4284-d384-631ee3673df3"
      },
      "execution_count": null,
      "outputs": [
        {
          "output_type": "stream",
          "name": "stdout",
          "text": [
            "Epoch 1/10\n",
            "50/50 [==============================] - 51s 983ms/step - loss: 0.6902 - accuracy: 0.8938 - val_loss: 0.3621 - val_accuracy: 0.9327\n",
            "Epoch 2/10\n",
            "50/50 [==============================] - 47s 933ms/step - loss: 0.2848 - accuracy: 0.9418 - val_loss: 0.2603 - val_accuracy: 0.9455\n",
            "Epoch 3/10\n",
            "50/50 [==============================] - 48s 959ms/step - loss: 0.2171 - accuracy: 0.9527 - val_loss: 0.2184 - val_accuracy: 0.9525\n",
            "Epoch 4/10\n",
            "50/50 [==============================] - 47s 931ms/step - loss: 0.1809 - accuracy: 0.9587 - val_loss: 0.1939 - val_accuracy: 0.9566\n",
            "Epoch 5/10\n",
            "50/50 [==============================] - 49s 980ms/step - loss: 0.1557 - accuracy: 0.9633 - val_loss: 0.2114 - val_accuracy: 0.9574\n",
            "Epoch 6/10\n",
            "50/50 [==============================] - 48s 955ms/step - loss: 0.1363 - accuracy: 0.9670 - val_loss: 0.1658 - val_accuracy: 0.9613\n",
            "Epoch 7/10\n",
            "50/50 [==============================] - 48s 959ms/step - loss: 0.1213 - accuracy: 0.9699 - val_loss: 0.1577 - val_accuracy: 0.9627\n",
            "Epoch 8/10\n",
            "50/50 [==============================] - 49s 984ms/step - loss: 0.1085 - accuracy: 0.9728 - val_loss: 0.1512 - val_accuracy: 0.9645\n",
            "Epoch 9/10\n",
            "50/50 [==============================] - 47s 934ms/step - loss: 0.0968 - accuracy: 0.9758 - val_loss: 0.1471 - val_accuracy: 0.9657\n",
            "Epoch 10/10\n",
            "50/50 [==============================] - 49s 980ms/step - loss: 0.0869 - accuracy: 0.9783 - val_loss: 0.1450 - val_accuracy: 0.9664\n"
          ]
        }
      ]
    },
    {
      "cell_type": "code",
      "source": [
        "history.history"
      ],
      "metadata": {
        "colab": {
          "base_uri": "https://localhost:8080/"
        },
        "id": "9rKh0meJ47Q6",
        "outputId": "b0b02736-4150-4c55-ee98-2a65f458eefb"
      },
      "execution_count": null,
      "outputs": [
        {
          "output_type": "execute_result",
          "data": {
            "text/plain": [
              "{'accuracy': [0.8937832713127136,\n",
              "  0.9417985081672668,\n",
              "  0.9526807069778442,\n",
              "  0.958734929561615,\n",
              "  0.9633116722106934,\n",
              "  0.9669618010520935,\n",
              "  0.9699453115463257,\n",
              "  0.9728463888168335,\n",
              "  0.9758259057998657,\n",
              "  0.9783346652984619],\n",
              " 'loss': [0.6902183890342712,\n",
              "  0.284846693277359,\n",
              "  0.2170804888010025,\n",
              "  0.18087980151176453,\n",
              "  0.15568388998508453,\n",
              "  0.13629195094108582,\n",
              "  0.12133392691612244,\n",
              "  0.10851617157459259,\n",
              "  0.09675756096839905,\n",
              "  0.08685769140720367],\n",
              " 'val_accuracy': [0.9326704740524292,\n",
              "  0.9455326795578003,\n",
              "  0.9524716138839722,\n",
              "  0.9565837979316711,\n",
              "  0.9574431777000427,\n",
              "  0.9613352417945862,\n",
              "  0.9627059698104858,\n",
              "  0.9644957184791565,\n",
              "  0.9656746983528137,\n",
              "  0.966377854347229],\n",
              " 'val_loss': [0.3621494770050049,\n",
              "  0.26026496291160583,\n",
              "  0.21838578581809998,\n",
              "  0.1939316689968109,\n",
              "  0.21135558187961578,\n",
              "  0.16581766307353973,\n",
              "  0.15774458646774292,\n",
              "  0.15116730332374573,\n",
              "  0.14705848693847656,\n",
              "  0.14500904083251953]}"
            ]
          },
          "metadata": {},
          "execution_count": 61
        }
      ]
    },
    {
      "cell_type": "code",
      "source": [
        "model_1.save_weights(\"10epochs_glove_embeddings.h5\")"
      ],
      "metadata": {
        "id": "vWuQtrMtAbid"
      },
      "execution_count": null,
      "outputs": []
    },
    {
      "cell_type": "code",
      "source": [
        "model_1.weights[0]"
      ],
      "metadata": {
        "colab": {
          "base_uri": "https://localhost:8080/"
        },
        "id": "TlDLRYskw2zV",
        "outputId": "38d57d57-2144-4629-a282-21433bb63c29"
      },
      "execution_count": null,
      "outputs": [
        {
          "output_type": "execute_result",
          "data": {
            "text/plain": [
              "<tf.Variable 'embedding/embeddings:0' shape=(45755, 100) dtype=float32, numpy=\n",
              "array([[-6.1713215e-03, -6.0671135e-03, -6.7377356e-03, ...,\n",
              "         6.3105565e-03,  7.3064603e-03,  4.3025003e-03],\n",
              "       [ 0.0000000e+00,  0.0000000e+00,  0.0000000e+00, ...,\n",
              "         0.0000000e+00,  0.0000000e+00,  0.0000000e+00],\n",
              "       [-2.5178192e-02, -2.0897773e-01,  7.2684425e-01, ...,\n",
              "        -2.0378561e-01,  8.0751991e-01,  2.7196217e-01],\n",
              "       ...,\n",
              "       [-4.3187767e-02,  5.1920827e-02,  3.4548189e-02, ...,\n",
              "        -4.8452582e-02,  3.5700716e-02,  4.7400005e-02],\n",
              "       [-3.3898074e-02,  4.9271077e-02,  2.8554309e-02, ...,\n",
              "        -4.3159299e-02,  1.3774307e-02,  5.0899748e-02],\n",
              "       [ 1.0645098e-02, -1.9472668e-02,  7.4555585e-04, ...,\n",
              "         2.0092387e-02,  2.0514445e-03, -2.1423623e-02]], dtype=float32)>"
            ]
          },
          "metadata": {},
          "execution_count": 63
        }
      ]
    },
    {
      "cell_type": "code",
      "source": [
        "%matplotlib inline\n",
        "fig=plt.figure(figsize=(10,5))\n",
        "x1=np.array([i for i in range(1,11)])\n",
        "\n",
        "\n",
        "l1=plt.plot(x1,history.history[\"accuracy\"], color=\"r\")\n",
        "l2=plt.plot(x1,history.history[\"val_accuracy\"], color=\"b\", linestyle=\"dashed\")\n",
        "plt.title(\"Accuracy vs epochs\")\n",
        "plt.xlabel(\"Number of epochs\")\n",
        "plt.ylabel(\"Accuracy in %\")\n",
        "plt.legend([\"Training accuracy\",\"Validation accuracy\"])\n",
        "plt.show()"
      ],
      "metadata": {
        "colab": {
          "base_uri": "https://localhost:8080/",
          "height": 354
        },
        "id": "dGULIs3tw9tJ",
        "outputId": "2dcb7d47-35f0-46be-bfd6-68b6452f4c9d"
      },
      "execution_count": null,
      "outputs": [
        {
          "output_type": "display_data",
          "data": {
            "text/plain": [
              "<Figure size 720x360 with 1 Axes>"
            ],
            "image/png": "[encoded data removed]"
          },
          "metadata": {
            "needs_background": "light"
          }
        }
      ]
    },
    {
      "cell_type": "code",
      "source": [
        "%matplotlib inline\n",
        "fig=plt.figure(figsize=(10,5))\n",
        "x1=np.array([i for i in range(1,11)])\n",
        "\n",
        "\n",
        "l1=plt.plot(x1,history.history[\"loss\"], color=\"r\")\n",
        "l2=plt.plot(x1,history.history[\"val_loss\"], color=\"b\", linestyle=\"dashed\")\n",
        "plt.title(\"Loss vs epochs\")\n",
        "plt.xlabel(\"Number of epochs\")\n",
        "plt.ylabel(\"Loss\")\n",
        "plt.legend([\"Training loss\",\"Validation loss\"])\n",
        "plt.show()"
      ],
      "metadata": {
        "colab": {
          "base_uri": "https://localhost:8080/",
          "height": 354
        },
        "id": "qAleKHCrzVTf",
        "outputId": "a7e2659f-8b86-4469-9391-b1145610a8c6"
      },
      "execution_count": null,
      "outputs": [
        {
          "output_type": "display_data",
          "data": {
            "text/plain": [
              "<Figure size 720x360 with 1 Axes>"
            ],
            "image/png": "[encoded data removed]"
          },
          "metadata": {
            "needs_background": "light"
          }
        }
      ]
    },
    {
      "cell_type": "markdown",
      "source": [
        "## Validation data load"
      ],
      "metadata": {
        "id": "KTGZcjgr0PV-"
      }
    },
    {
      "cell_type": "code",
      "execution_count": null,
      "metadata": {
        "id": "6Bo-h9gj0SUp"
      },
      "outputs": [],
      "source": [
        "import json\n",
        "import pandas as pd\n",
        "import matplotlib.pyplot as plt\n",
        "plt.style.use(\"ggplot\")"
      ]
    },
    {
      "cell_type": "code",
      "execution_count": null,
      "metadata": {
        "id": "Ub2DYTL10SUr"
      },
      "outputs": [],
      "source": [
        "df = pd.DataFrame([],columns=['bibcode', 'label_studio_id', 'section',\n",
        "       'tokens', 'unique_id'])"
      ]
    },
    {
      "cell_type": "code",
      "execution_count": null,
      "metadata": {
        "id": "xLf-qrcZ0SUs"
      },
      "outputs": [],
      "source": [
        "with open(\"/content/WIESP2022-NER-VALIDATION-NO-LABELS.jsonl\", 'r') as f:\n",
        "    wiesp_dev_json = [json.loads(l) for l in list(f)]"
      ]
    },
    {
      "cell_type": "code",
      "execution_count": null,
      "metadata": {
        "id": "mZg9fB510SUt"
      },
      "outputs": [],
      "source": [
        "for i in wiesp_dev_json:\n",
        "  df=df.append(pd.DataFrame(i))"
      ]
    },
    {
      "cell_type": "code",
      "execution_count": null,
      "metadata": {
        "colab": {
          "base_uri": "https://localhost:8080/",
          "height": 206
        },
        "outputId": "6bb8ba67-b99c-4672-e79b-2f46ce7eaf1a",
        "id": "0cia01-t0SUu"
      },
      "outputs": [
        {
          "output_type": "execute_result",
          "data": {
            "text/plain": [
              "               bibcode label_studio_id   section      tokens  \\\n",
              "0  2019MNRAS.486.5558S             487  fulltext      Whilst   \n",
              "1  2019MNRAS.486.5558S             487  fulltext           a   \n",
              "2  2019MNRAS.486.5558S             487  fulltext  reasonable   \n",
              "3  2019MNRAS.486.5558S             487  fulltext    harmonic   \n",
              "4  2019MNRAS.486.5558S             487  fulltext         fit   \n",
              "\n",
              "                          unique_id  ner_ids ner_tags  \n",
              "0  fulltext_487_2019MNRAS.486.5558S     62.0        O  \n",
              "1  fulltext_487_2019MNRAS.486.5558S     62.0        O  \n",
              "2  fulltext_487_2019MNRAS.486.5558S     62.0        O  \n",
              "3  fulltext_487_2019MNRAS.486.5558S     62.0        O  \n",
              "4  fulltext_487_2019MNRAS.486.5558S     62.0        O  "
            ],
            "text/html": [
              "\n",
              "  <div id=\"df-62d5a966-bb08-4540-b388-c792c1b3d091\">\n",
              "    <div class=\"colab-df-container\">\n",
              "      <div>\n",
              "<style scoped>\n",
              "    .dataframe tbody tr th:only-of-type {\n",
              "        vertical-align: middle;\n",
              "    }\n",
              "\n",
              "    .dataframe tbody tr th {\n",
              "        vertical-align: top;\n",
              "    }\n",
              "\n",
              "    .dataframe thead th {\n",
              "        text-align: right;\n",
              "    }\n",
              "</style>\n",
              "<table border=\"1\" class=\"dataframe\">\n",
              "  <thead>\n",
              "    <tr style=\"text-align: right;\">\n",
              "      <th></th>\n",
              "      <th>bibcode</th>\n",
              "      <th>label_studio_id</th>\n",
              "      <th>section</th>\n",
              "      <th>tokens</th>\n",
              "      <th>unique_id</th>\n",
              "      <th>ner_ids</th>\n",
              "      <th>ner_tags</th>\n",
              "    </tr>\n",
              "  </thead>\n",
              "  <tbody>\n",
              "    <tr>\n",
              "      <th>0</th>\n",
              "      <td>2019MNRAS.486.5558S</td>\n",
              "      <td>487</td>\n",
              "      <td>fulltext</td>\n",
              "      <td>Whilst</td>\n",
              "      <td>fulltext_487_2019MNRAS.486.5558S</td>\n",
              "      <td>62.0</td>\n",
              "      <td>O</td>\n",
              "    </tr>\n",
              "    <tr>\n",
              "      <th>1</th>\n",
              "      <td>2019MNRAS.486.5558S</td>\n",
              "      <td>487</td>\n",
              "      <td>fulltext</td>\n",
              "      <td>a</td>\n",
              "      <td>fulltext_487_2019MNRAS.486.5558S</td>\n",
              "      <td>62.0</td>\n",
              "      <td>O</td>\n",
              "    </tr>\n",
              "    <tr>\n",
              "      <th>2</th>\n",
              "      <td>2019MNRAS.486.5558S</td>\n",
              "      <td>487</td>\n",
              "      <td>fulltext</td>\n",
              "      <td>reasonable</td>\n",
              "      <td>fulltext_487_2019MNRAS.486.5558S</td>\n",
              "      <td>62.0</td>\n",
              "      <td>O</td>\n",
              "    </tr>\n",
              "    <tr>\n",
              "      <th>3</th>\n",
              "      <td>2019MNRAS.486.5558S</td>\n",
              "      <td>487</td>\n",
              "      <td>fulltext</td>\n",
              "      <td>harmonic</td>\n",
              "      <td>fulltext_487_2019MNRAS.486.5558S</td>\n",
              "      <td>62.0</td>\n",
              "      <td>O</td>\n",
              "    </tr>\n",
              "    <tr>\n",
              "      <th>4</th>\n",
              "      <td>2019MNRAS.486.5558S</td>\n",
              "      <td>487</td>\n",
              "      <td>fulltext</td>\n",
              "      <td>fit</td>\n",
              "      <td>fulltext_487_2019MNRAS.486.5558S</td>\n",
              "      <td>62.0</td>\n",
              "      <td>O</td>\n",
              "    </tr>\n",
              "  </tbody>\n",
              "</table>\n",
              "</div>\n",
              "      <button class=\"colab-df-convert\" onclick=\"convertToInteractive('df-62d5a966-bb08-4540-b388-c792c1b3d091')\"\n",
              "              title=\"Convert this dataframe to an interactive table.\"\n",
              "              style=\"display:none;\">\n",
              "        \n",
              "  <svg xmlns=\"http://www.w3.org/2000/svg\" height=\"24px\"viewBox=\"0 0 24 24\"\n",
              "       width=\"24px\">\n",
              "    <path d=\"M0 0h24v24H0V0z\" fill=\"none\"/>\n",
              "    <path d=\"M18.56 5.44l.94 2.06.94-2.06 2.06-.94-2.06-.94-.94-2.06-.94 2.06-2.06.94zm-11 1L8.5 8.5l.94-2.06 2.06-.94-2.06-.94L8.5 2.5l-.94 2.06-2.06.94zm10 10l.94 2.06.94-2.06 2.06-.94-2.06-.94-.94-2.06-.94 2.06-2.06.94z\"/><path d=\"M17.41 7.96l-1.37-1.37c-.4-.4-.92-.59-1.43-.59-.52 0-1.04.2-1.43.59L10.3 9.45l-7.72 7.72c-.78.78-.78 2.05 0 2.83L4 21.41c.39.39.9.59 1.41.59.51 0 1.02-.2 1.41-.59l7.78-7.78 2.81-2.81c.8-.78.8-2.07 0-2.86zM5.41 20L4 18.59l7.72-7.72 1.47 1.35L5.41 20z\"/>\n",
              "  </svg>\n",
              "      </button>\n",
              "      \n",
              "  <style>\n",
              "    .colab-df-container {\n",
              "      display:flex;\n",
              "      flex-wrap:wrap;\n",
              "      gap: 12px;\n",
              "    }\n",
              "\n",
              "    .colab-df-convert {\n",
              "      background-color: #E8F0FE;\n",
              "      border: none;\n",
              "      border-radius: 50%;\n",
              "      cursor: pointer;\n",
              "      display: none;\n",
              "      fill: #1967D2;\n",
              "      height: 32px;\n",
              "      padding: 0 0 0 0;\n",
              "      width: 32px;\n",
              "    }\n",
              "\n",
              "    .colab-df-convert:hover {\n",
              "      background-color: #E2EBFA;\n",
              "      box-shadow: 0px 1px 2px rgba(60, 64, 67, 0.3), 0px 1px 3px 1px rgba(60, 64, 67, 0.15);\n",
              "      fill: #174EA6;\n",
              "    }\n",
              "\n",
              "    [theme=dark] .colab-df-convert {\n",
              "      background-color: #3B4455;\n",
              "      fill: #D2E3FC;\n",
              "    }\n",
              "\n",
              "    [theme=dark] .colab-df-convert:hover {\n",
              "      background-color: #434B5C;\n",
              "      box-shadow: 0px 1px 3px 1px rgba(0, 0, 0, 0.15);\n",
              "      filter: drop-shadow(0px 1px 2px rgba(0, 0, 0, 0.3));\n",
              "      fill: #FFFFFF;\n",
              "    }\n",
              "  </style>\n",
              "\n",
              "      <script>\n",
              "        const buttonEl =\n",
              "          document.querySelector('#df-62d5a966-bb08-4540-b388-c792c1b3d091 button.colab-df-convert');\n",
              "        buttonEl.style.display =\n",
              "          google.colab.kernel.accessAllowed ? 'block' : 'none';\n",
              "\n",
              "        async function convertToInteractive(key) {\n",
              "          const element = document.querySelector('#df-62d5a966-bb08-4540-b388-c792c1b3d091');\n",
              "          const dataTable =\n",
              "            await google.colab.kernel.invokeFunction('convertToInteractive',\n",
              "                                                     [key], {});\n",
              "          if (!dataTable) return;\n",
              "\n",
              "          const docLinkHtml = 'Like what you see? Visit the ' +\n",
              "            '<a target=\"_blank\" href=https://colab.research.google.com/notebooks/data_table.ipynb>data table notebook</a>'\n",
              "            + ' to learn more about interactive tables.';\n",
              "          element.innerHTML = '';\n",
              "          dataTable['output_type'] = 'display_data';\n",
              "          await google.colab.output.renderOutput(dataTable, element);\n",
              "          const docLink = document.createElement('div');\n",
              "          docLink.innerHTML = docLinkHtml;\n",
              "          element.appendChild(docLink);\n",
              "        }\n",
              "      </script>\n",
              "    </div>\n",
              "  </div>\n",
              "  "
            ]
          },
          "metadata": {},
          "execution_count": 72
        }
      ],
      "source": [
        "df.head()"
      ]
    },
    {
      "cell_type": "code",
      "execution_count": null,
      "metadata": {
        "id": "fq1I_Ulo0SUv"
      },
      "outputs": [],
      "source": [
        "sent=list(df['unique_id'].unique())"
      ]
    },
    {
      "cell_type": "code",
      "execution_count": null,
      "metadata": {
        "colab": {
          "base_uri": "https://localhost:8080/"
        },
        "outputId": "52c11683-f085-4cec-e8c0-7128ae8f5219",
        "id": "ee54Mu5R0SUw"
      },
      "outputs": [
        {
          "output_type": "stream",
          "name": "stdout",
          "text": [
            "fulltext_487_2019MNRAS.486.5558S\n"
          ]
        }
      ],
      "source": [
        "print(sent[0])"
      ]
    },
    {
      "cell_type": "code",
      "execution_count": null,
      "metadata": {
        "colab": {
          "base_uri": "https://localhost:8080/"
        },
        "outputId": "074e6561-6a2c-45bb-f69e-26f18469e89e",
        "id": "Oop4hAmQ0SUw"
      },
      "outputs": [
        {
          "output_type": "execute_result",
          "data": {
            "text/plain": [
              "60557"
            ]
          },
          "metadata": {},
          "execution_count": 75
        }
      ],
      "source": [
        "words = set(list(df['tokens'].values))\n",
        "words.add('PAD')\n",
        "n_words = len(words)\n",
        "n_words"
      ]
    },
    {
      "cell_type": "code",
      "execution_count": null,
      "metadata": {
        "id": "tnGjG73u0SUx"
      },
      "outputs": [],
      "source": [
        "# tags = list(set(df[\"ner_tags\"].values))\n",
        "# n_tags = len(tags)\n",
        "# n_tags"
      ]
    },
    {
      "cell_type": "code",
      "execution_count": null,
      "metadata": {
        "id": "-OTDDPbs0SUz"
      },
      "outputs": [],
      "source": [
        "sentences_test = pd.DataFrame(df[['unique_id','tokens']].groupby('unique_id')['tokens'].apply(list))[\"tokens\"]"
      ]
    },
    {
      "cell_type": "code",
      "execution_count": null,
      "metadata": {
        "colab": {
          "base_uri": "https://localhost:8080/"
        },
        "outputId": "24f9d00a-5fbc-4eae-e1e5-2f6b14266af0",
        "id": "wcSgNlk70SUz"
      },
      "outputs": [
        {
          "output_type": "stream",
          "name": "stdout",
          "text": [
            "biggest sentence has 913 words\n"
          ]
        }
      ],
      "source": [
        "largest_sen = max(len(sen) for sen in sentences_test)\n",
        "print('biggest sentence has {} words'.format(largest_sen))"
      ]
    },
    {
      "cell_type": "code",
      "execution_count": null,
      "metadata": {
        "colab": {
          "base_uri": "https://localhost:8080/",
          "height": 265
        },
        "outputId": "5753fe76-ac5d-48d5-e62b-caa62e907a49",
        "id": "bTEfDH190SUz"
      },
      "outputs": [
        {
          "output_type": "display_data",
          "data": {
            "text/plain": [
              "<Figure size 432x288 with 1 Axes>"
            ],
            "image/png": "[encoded data removed]"
          },
          "metadata": {
            "needs_background": "light"
          }
        }
      ],
      "source": [
        "%matplotlib inline\n",
        "plt.hist([len(sen) for sen in sentences_test], bins= 50)\n",
        "plt.show()"
      ]
    },
    {
      "cell_type": "code",
      "execution_count": null,
      "metadata": {
        "colab": {
          "base_uri": "https://localhost:8080/"
        },
        "outputId": "fedd847f-f02f-4101-dcdc-800ff3ce3b01",
        "id": "rQ6MdzB-0SU0"
      },
      "outputs": [
        {
          "output_type": "stream",
          "name": "stdout",
          "text": [
            "5155\n"
          ]
        }
      ],
      "source": [
        "words2index_test = {w:i for i,w in enumerate(words)}\n",
        "# tags2index_test = {t:i for i,t in enumerate(tags)}\n",
        "print(words2index_test['combine'])\n",
        "# print(tags2index_test['B-Instrument'])"
      ]
    },
    {
      "cell_type": "code",
      "execution_count": null,
      "metadata": {
        "colab": {
          "base_uri": "https://localhost:8080/",
          "height": 250
        },
        "outputId": "fa6ad2a5-7122-4cba-f92c-a62dffb7a7e2",
        "id": "R1kkM5Vz0SU0"
      },
      "outputs": [
        {
          "output_type": "execute_result",
          "data": {
            "text/plain": [
              "               bibcode label_studio_id   section      tokens  \\\n",
              "0  2019MNRAS.486.5558S             487  fulltext      Whilst   \n",
              "1  2019MNRAS.486.5558S             487  fulltext           a   \n",
              "2  2019MNRAS.486.5558S             487  fulltext  reasonable   \n",
              "3  2019MNRAS.486.5558S             487  fulltext    harmonic   \n",
              "4  2019MNRAS.486.5558S             487  fulltext         fit   \n",
              "\n",
              "                          unique_id  ner_ids ner_tags  tokens_idx  \n",
              "0  fulltext_487_2019MNRAS.486.5558S     62.0        O       48373  \n",
              "1  fulltext_487_2019MNRAS.486.5558S     62.0        O       59895  \n",
              "2  fulltext_487_2019MNRAS.486.5558S     62.0        O       43294  \n",
              "3  fulltext_487_2019MNRAS.486.5558S     62.0        O       12836  \n",
              "4  fulltext_487_2019MNRAS.486.5558S     62.0        O       49354  "
            ],
            "text/html": [
              "\n",
              "  <div id=\"df-2496006b-0879-4c79-89d8-9c93e712db08\">\n",
              "    <div class=\"colab-df-container\">\n",
              "      <div>\n",
              "<style scoped>\n",
              "    .dataframe tbody tr th:only-of-type {\n",
              "        vertical-align: middle;\n",
              "    }\n",
              "\n",
              "    .dataframe tbody tr th {\n",
              "        vertical-align: top;\n",
              "    }\n",
              "\n",
              "    .dataframe thead th {\n",
              "        text-align: right;\n",
              "    }\n",
              "</style>\n",
              "<table border=\"1\" class=\"dataframe\">\n",
              "  <thead>\n",
              "    <tr style=\"text-align: right;\">\n",
              "      <th></th>\n",
              "      <th>bibcode</th>\n",
              "      <th>label_studio_id</th>\n",
              "      <th>section</th>\n",
              "      <th>tokens</th>\n",
              "      <th>unique_id</th>\n",
              "      <th>ner_ids</th>\n",
              "      <th>ner_tags</th>\n",
              "      <th>tokens_idx</th>\n",
              "    </tr>\n",
              "  </thead>\n",
              "  <tbody>\n",
              "    <tr>\n",
              "      <th>0</th>\n",
              "      <td>2019MNRAS.486.5558S</td>\n",
              "      <td>487</td>\n",
              "      <td>fulltext</td>\n",
              "      <td>Whilst</td>\n",
              "      <td>fulltext_487_2019MNRAS.486.5558S</td>\n",
              "      <td>62.0</td>\n",
              "      <td>O</td>\n",
              "      <td>48373</td>\n",
              "    </tr>\n",
              "    <tr>\n",
              "      <th>1</th>\n",
              "      <td>2019MNRAS.486.5558S</td>\n",
              "      <td>487</td>\n",
              "      <td>fulltext</td>\n",
              "      <td>a</td>\n",
              "      <td>fulltext_487_2019MNRAS.486.5558S</td>\n",
              "      <td>62.0</td>\n",
              "      <td>O</td>\n",
              "      <td>59895</td>\n",
              "    </tr>\n",
              "    <tr>\n",
              "      <th>2</th>\n",
              "      <td>2019MNRAS.486.5558S</td>\n",
              "      <td>487</td>\n",
              "      <td>fulltext</td>\n",
              "      <td>reasonable</td>\n",
              "      <td>fulltext_487_2019MNRAS.486.5558S</td>\n",
              "      <td>62.0</td>\n",
              "      <td>O</td>\n",
              "      <td>43294</td>\n",
              "    </tr>\n",
              "    <tr>\n",
              "      <th>3</th>\n",
              "      <td>2019MNRAS.486.5558S</td>\n",
              "      <td>487</td>\n",
              "      <td>fulltext</td>\n",
              "      <td>harmonic</td>\n",
              "      <td>fulltext_487_2019MNRAS.486.5558S</td>\n",
              "      <td>62.0</td>\n",
              "      <td>O</td>\n",
              "      <td>12836</td>\n",
              "    </tr>\n",
              "    <tr>\n",
              "      <th>4</th>\n",
              "      <td>2019MNRAS.486.5558S</td>\n",
              "      <td>487</td>\n",
              "      <td>fulltext</td>\n",
              "      <td>fit</td>\n",
              "      <td>fulltext_487_2019MNRAS.486.5558S</td>\n",
              "      <td>62.0</td>\n",
              "      <td>O</td>\n",
              "      <td>49354</td>\n",
              "    </tr>\n",
              "  </tbody>\n",
              "</table>\n",
              "</div>\n",
              "      <button class=\"colab-df-convert\" onclick=\"convertToInteractive('df-2496006b-0879-4c79-89d8-9c93e712db08')\"\n",
              "              title=\"Convert this dataframe to an interactive table.\"\n",
              "              style=\"display:none;\">\n",
              "        \n",
              "  <svg xmlns=\"http://www.w3.org/2000/svg\" height=\"24px\"viewBox=\"0 0 24 24\"\n",
              "       width=\"24px\">\n",
              "    <path d=\"M0 0h24v24H0V0z\" fill=\"none\"/>\n",
              "    <path d=\"M18.56 5.44l.94 2.06.94-2.06 2.06-.94-2.06-.94-.94-2.06-.94 2.06-2.06.94zm-11 1L8.5 8.5l.94-2.06 2.06-.94-2.06-.94L8.5 2.5l-.94 2.06-2.06.94zm10 10l.94 2.06.94-2.06 2.06-.94-2.06-.94-.94-2.06-.94 2.06-2.06.94z\"/><path d=\"M17.41 7.96l-1.37-1.37c-.4-.4-.92-.59-1.43-.59-.52 0-1.04.2-1.43.59L10.3 9.45l-7.72 7.72c-.78.78-.78 2.05 0 2.83L4 21.41c.39.39.9.59 1.41.59.51 0 1.02-.2 1.41-.59l7.78-7.78 2.81-2.81c.8-.78.8-2.07 0-2.86zM5.41 20L4 18.59l7.72-7.72 1.47 1.35L5.41 20z\"/>\n",
              "  </svg>\n",
              "      </button>\n",
              "      \n",
              "  <style>\n",
              "    .colab-df-container {\n",
              "      display:flex;\n",
              "      flex-wrap:wrap;\n",
              "      gap: 12px;\n",
              "    }\n",
              "\n",
              "    .colab-df-convert {\n",
              "      background-color: #E8F0FE;\n",
              "      border: none;\n",
              "      border-radius: 50%;\n",
              "      cursor: pointer;\n",
              "      display: none;\n",
              "      fill: #1967D2;\n",
              "      height: 32px;\n",
              "      padding: 0 0 0 0;\n",
              "      width: 32px;\n",
              "    }\n",
              "\n",
              "    .colab-df-convert:hover {\n",
              "      background-color: #E2EBFA;\n",
              "      box-shadow: 0px 1px 2px rgba(60, 64, 67, 0.3), 0px 1px 3px 1px rgba(60, 64, 67, 0.15);\n",
              "      fill: #174EA6;\n",
              "    }\n",
              "\n",
              "    [theme=dark] .colab-df-convert {\n",
              "      background-color: #3B4455;\n",
              "      fill: #D2E3FC;\n",
              "    }\n",
              "\n",
              "    [theme=dark] .colab-df-convert:hover {\n",
              "      background-color: #434B5C;\n",
              "      box-shadow: 0px 1px 3px 1px rgba(0, 0, 0, 0.15);\n",
              "      filter: drop-shadow(0px 1px 2px rgba(0, 0, 0, 0.3));\n",
              "      fill: #FFFFFF;\n",
              "    }\n",
              "  </style>\n",
              "\n",
              "      <script>\n",
              "        const buttonEl =\n",
              "          document.querySelector('#df-2496006b-0879-4c79-89d8-9c93e712db08 button.colab-df-convert');\n",
              "        buttonEl.style.display =\n",
              "          google.colab.kernel.accessAllowed ? 'block' : 'none';\n",
              "\n",
              "        async function convertToInteractive(key) {\n",
              "          const element = document.querySelector('#df-2496006b-0879-4c79-89d8-9c93e712db08');\n",
              "          const dataTable =\n",
              "            await google.colab.kernel.invokeFunction('convertToInteractive',\n",
              "                                                     [key], {});\n",
              "          if (!dataTable) return;\n",
              "\n",
              "          const docLinkHtml = 'Like what you see? Visit the ' +\n",
              "            '<a target=\"_blank\" href=https://colab.research.google.com/notebooks/data_table.ipynb>data table notebook</a>'\n",
              "            + ' to learn more about interactive tables.';\n",
              "          element.innerHTML = '';\n",
              "          dataTable['output_type'] = 'display_data';\n",
              "          await google.colab.output.renderOutput(dataTable, element);\n",
              "          const docLink = document.createElement('div');\n",
              "          docLink.innerHTML = docLinkHtml;\n",
              "          element.appendChild(docLink);\n",
              "        }\n",
              "      </script>\n",
              "    </div>\n",
              "  </div>\n",
              "  "
            ]
          },
          "metadata": {},
          "execution_count": 81
        }
      ],
      "source": [
        "df['tokens_idx'] = df['tokens'].map(words2index_test)\n",
        "df.head()"
      ]
    },
    {
      "cell_type": "code",
      "source": [
        "sentences_test[0][:5]"
      ],
      "metadata": {
        "colab": {
          "base_uri": "https://localhost:8080/"
        },
        "id": "Klfx4xrP6RCu",
        "outputId": "189ff945-784d-40b3-de5f-30073f98b77f"
      },
      "execution_count": null,
      "outputs": [
        {
          "output_type": "execute_result",
          "data": {
            "text/plain": [
              "['ACKNOWLEDGEMENTS', 'We', 'acknowledge', 'helpful', 'comments']"
            ]
          },
          "metadata": {},
          "execution_count": 82
        }
      ]
    },
    {
      "cell_type": "code",
      "execution_count": null,
      "metadata": {
        "id": "VPVp0EOs0SU1"
      },
      "outputs": [],
      "source": [
        "max_len = 800\n",
        "X_test = [s for s in sentences_test]\n"
      ]
    },
    {
      "cell_type": "code",
      "source": [
        "len(X_test),len(X_test[0]),max([len(i) for i in X_test])"
      ],
      "metadata": {
        "colab": {
          "base_uri": "https://localhost:8080/"
        },
        "outputId": "90871844-123a-444f-da83-8209f73438c7",
        "id": "rdTCGwkw0SU1"
      },
      "execution_count": null,
      "outputs": [
        {
          "output_type": "execute_result",
          "data": {
            "text/plain": [
              "(2385, 186, 913)"
            ]
          },
          "metadata": {},
          "execution_count": 84
        }
      ]
    },
    {
      "cell_type": "code",
      "source": [
        "max_len = 800\n",
        "j=0\n",
        "test_X = []\n",
        "for i in range(len(X_test)):\n",
        "    a = X_test[i].copy()\n",
        "    if len(X_test[i])==max_len:\n",
        "      continue\n",
        "    for k in range(max_len-len(a)):\n",
        "      a.append(\"PAD\")\n",
        "    if len(a)==max_len:\n",
        "      test_X.append(a)\n",
        "      pass\n",
        "    else:\n",
        "      print(\"nope\")\n",
        "      print(len(X_test[i]))\n",
        "    "
      ],
      "metadata": {
        "colab": {
          "base_uri": "https://localhost:8080/"
        },
        "id": "CXhPd3_z4ykR",
        "outputId": "1ef8f1b0-6ef5-4e83-eb33-deb1b78a01db"
      },
      "execution_count": null,
      "outputs": [
        {
          "output_type": "stream",
          "name": "stdout",
          "text": [
            "nope\n",
            "913\n"
          ]
        }
      ]
    },
    {
      "cell_type": "code",
      "source": [
        "len(test_X),len(test_X[0]),max([len(i) for i in test_X])\n",
        "# \\sentences_test"
      ],
      "metadata": {
        "colab": {
          "base_uri": "https://localhost:8080/"
        },
        "id": "_zdPvLKj3QSW",
        "outputId": "b8541b42-849b-491e-8edc-6c0434ce3594"
      },
      "execution_count": null,
      "outputs": [
        {
          "output_type": "execute_result",
          "data": {
            "text/plain": [
              "(2384, 800, 800)"
            ]
          },
          "metadata": {},
          "execution_count": 86
        }
      ]
    },
    {
      "cell_type": "code",
      "execution_count": null,
      "metadata": {
        "id": "wBR0Ar7M0SU2"
      },
      "outputs": [],
      "source": [
        "# from tensorflow.keras.preprocessing.sequence import pad_sequences\n",
        "# y = [[tags2index[w[1]] for w in s] for s in sentences]\n",
        "# y = pad_sequences(maxlen=max_len, sequences=y, padding=\"post\", value=tags2index[\"O\"])\n",
        "# # y[15]"
      ]
    },
    {
      "cell_type": "code",
      "source": [
        "# depth=n_tags\n",
        "# y = tf.one_hot(y, depth)\n",
        "# y2 = np.eye(depth)[y]"
      ],
      "metadata": {
        "id": "A5i53oZy0SU2"
      },
      "execution_count": null,
      "outputs": []
    },
    {
      "cell_type": "code",
      "execution_count": null,
      "metadata": {
        "id": "B9qX7oBw0SU6"
      },
      "outputs": [],
      "source": [
        "batch_size=1024"
      ]
    },
    {
      "cell_type": "code",
      "source": [
        "# from tensorflow.keras.preprocessing.text import Tokenizer\n",
        "# from tensorflow.keras.preprocessing.sequence import pad_sequences\n",
        "# tok_test = Tokenizer(oov_token=\"<OOV>\")"
      ],
      "metadata": {
        "id": "LWSAxM780SU7"
      },
      "execution_count": null,
      "outputs": []
    },
    {
      "cell_type": "code",
      "source": [
        "# tok_test.fit_on_texts(test_X)\n",
        "X_test_tokens = tok.texts_to_sequences(X_test)\n",
        "padded_X_test = pad_sequences(X_test_tokens,padding=\"post\",maxlen=800)"
      ],
      "metadata": {
        "id": "oMmaHA8p0SU7"
      },
      "execution_count": null,
      "outputs": []
    },
    {
      "cell_type": "code",
      "source": [
        "# from sklearn.model_selection import train_test_split\n",
        "# X_tr, X_val, y_tr, y_val = train_test_split(X_test_tokens, y, test_size=0.1, random_state=2021)"
      ],
      "metadata": {
        "id": "t0e40VIT0SU9"
      },
      "execution_count": null,
      "outputs": []
    },
    {
      "cell_type": "code",
      "source": [
        "import tensorflow as tf\n",
        "X_test_tokens = tf.convert_to_tensor(padded_X_test)"
      ],
      "metadata": {
        "id": "wT1brIRC0SU-"
      },
      "execution_count": null,
      "outputs": []
    },
    {
      "cell_type": "code",
      "source": [
        "X_test_tokens.shape"
      ],
      "metadata": {
        "colab": {
          "base_uri": "https://localhost:8080/"
        },
        "outputId": "4705e394-6d91-4f33-a8d9-896a5d389ce4",
        "id": "9p2aOomM0SU_"
      },
      "execution_count": null,
      "outputs": [
        {
          "output_type": "execute_result",
          "data": {
            "text/plain": [
              "TensorShape([2385, 800])"
            ]
          },
          "metadata": {},
          "execution_count": 94
        }
      ]
    },
    {
      "cell_type": "code",
      "source": [
        "X_test[0][:5]"
      ],
      "metadata": {
        "colab": {
          "base_uri": "https://localhost:8080/"
        },
        "id": "Me2nLvzbxYzf",
        "outputId": "2d2ba079-608e-46ba-d71e-ae85ef0195a6"
      },
      "execution_count": null,
      "outputs": [
        {
          "output_type": "execute_result",
          "data": {
            "text/plain": [
              "['ACKNOWLEDGEMENTS', 'We', 'acknowledge', 'helpful', 'comments']"
            ]
          },
          "metadata": {},
          "execution_count": 95
        }
      ]
    },
    {
      "cell_type": "markdown",
      "source": [
        "## Model predict "
      ],
      "metadata": {
        "id": "3-44S0ff7eDQ"
      }
    },
    {
      "cell_type": "code",
      "source": [
        "model_1.load_weights(\"10epochs_glove_embeddings.h5\")"
      ],
      "metadata": {
        "id": "iztAkocAC1Na"
      },
      "execution_count": null,
      "outputs": []
    },
    {
      "cell_type": "code",
      "source": [
        "preds=model_1.predict(X_test_tokens)"
      ],
      "metadata": {
        "id": "CtDlQ2v17c_m"
      },
      "execution_count": null,
      "outputs": []
    },
    {
      "cell_type": "code",
      "source": [
        "inv_words2index = {v: k  for k,v in words2index.items()}\n",
        "inv_tags2index = {v: k  for k,v in tags2index.items()}"
      ],
      "metadata": {
        "id": "MoNo_hStuwHO"
      },
      "execution_count": null,
      "outputs": []
    },
    {
      "cell_type": "code",
      "source": [
        "pred1 = [i.argmax() for i in preds[0]]\n",
        "pred2 = [i.argmax() for i in preds[1]]\n",
        "pred3 = [i.argmax() for i in preds[2]]\n",
        "pred4 = [i.argmax() for i in preds[3]]\n",
        "pred5 = [i.argmax() for i in preds[4]]"
      ],
      "metadata": {
        "id": "GC4c2halvWzc"
      },
      "execution_count": null,
      "outputs": []
    },
    {
      "cell_type": "code",
      "source": [
        "pre1_ner_tags = [inv_tags2index[i] for i in pred1]\n",
        "pre2_ner_tags = [inv_tags2index[i] for i in pred2]\n",
        "pre3_ner_tags = [inv_tags2index[i] for i in pred3]\n",
        "pre4_ner_tags = [inv_tags2index[i] for i in pred4]\n",
        "pre5_ner_tags = [inv_tags2index[i] for i in pred5]"
      ],
      "metadata": {
        "id": "uRHZKoGBvriH"
      },
      "execution_count": null,
      "outputs": []
    },
    {
      "cell_type": "code",
      "source": [
        "from collections import Counter\n",
        "counter1=Counter(pre1_ner_tags)"
      ],
      "metadata": {
        "id": "x-Mcc52BwDBl"
      },
      "execution_count": null,
      "outputs": []
    },
    {
      "cell_type": "code",
      "source": [
        "counter2=Counter(pre2_ner_tags)\n",
        "counter3=Counter(pre3_ner_tags)\n",
        "counter4=Counter(pre4_ner_tags)\n",
        "counter5=Counter(pre5_ner_tags)"
      ],
      "metadata": {
        "id": "DwyeDyIWwWea"
      },
      "execution_count": null,
      "outputs": []
    },
    {
      "cell_type": "code",
      "source": [
        "len(X_test[0])"
      ],
      "metadata": {
        "colab": {
          "base_uri": "https://localhost:8080/"
        },
        "id": "DwZJPfrhynsg",
        "outputId": "424240ae-1eb3-47c1-d376-1ca6f46985f4"
      },
      "execution_count": null,
      "outputs": [
        {
          "output_type": "execute_result",
          "data": {
            "text/plain": [
              "186"
            ]
          },
          "metadata": {},
          "execution_count": 103
        }
      ]
    },
    {
      "cell_type": "code",
      "source": [
        "len(pre1_ner_tags)"
      ],
      "metadata": {
        "colab": {
          "base_uri": "https://localhost:8080/"
        },
        "id": "N3Mvp4pkytY5",
        "outputId": "4ece6401-22cb-4ae0-e46c-2d878a7143e3"
      },
      "execution_count": null,
      "outputs": [
        {
          "output_type": "execute_result",
          "data": {
            "text/plain": [
              "800"
            ]
          },
          "metadata": {},
          "execution_count": 104
        }
      ]
    },
    {
      "cell_type": "code",
      "source": [
        "for i in range(len(X_test[0])):\n",
        "  print(\"Word:\",X_test[0][i],\" \",\"Prediction:\",pre1_ner_tags[i])"
      ],
      "metadata": {
        "colab": {
          "base_uri": "https://localhost:8080/"
        },
        "id": "j_4B-HXfyXtW",
        "outputId": "9b3b55d6-c7de-46ab-8bba-00cd1076cbf3"
      },
      "execution_count": null,
      "outputs": [
        {
          "output_type": "stream",
          "name": "stdout",
          "text": [
            "Word: ACKNOWLEDGEMENTS   Prediction: O\n",
            "Word: We   Prediction: O\n",
            "Word: acknowledge   Prediction: O\n",
            "Word: helpful   Prediction: O\n",
            "Word: comments   Prediction: O\n",
            "Word: from   Prediction: O\n",
            "Word: the   Prediction: O\n",
            "Word: referee,   Prediction: O\n",
            "Word: which   Prediction: O\n",
            "Word: helped   Prediction: O\n",
            "Word: to   Prediction: O\n",
            "Word: clarify   Prediction: O\n",
            "Word: several   Prediction: O\n",
            "Word: aspects   Prediction: O\n",
            "Word: of   Prediction: O\n",
            "Word: the   Prediction: O\n",
            "Word: observations   Prediction: O\n",
            "Word: and   Prediction: O\n",
            "Word: analysis   Prediction: O\n",
            "Word: presented   Prediction: O\n",
            "Word: in   Prediction: O\n",
            "Word: this   Prediction: O\n",
            "Word: paper.   Prediction: O\n",
            "Word: We   Prediction: O\n",
            "Word: thank   Prediction: O\n",
            "Word: STScI   Prediction: B-Person\n",
            "Word: science   Prediction: I-Organization\n",
            "Word: and   Prediction: O\n",
            "Word: technical   Prediction: O\n",
            "Word: staff   Prediction: O\n",
            "Word: members   Prediction: O\n",
            "Word: Peter   Prediction: B-Person\n",
            "Word: McCullough   Prediction: I-Person\n",
            "Word: and   Prediction: O\n",
            "Word: Amber   Prediction: B-Person\n",
            "Word: Armstrong   Prediction: I-Person\n",
            "Word: for   Prediction: O\n",
            "Word: special   Prediction: O\n",
            "Word: assistance   Prediction: O\n",
            "Word: in   Prediction: O\n",
            "Word: planning   Prediction: O\n",
            "Word: the   Prediction: O\n",
            "Word: DD   Prediction: O\n",
            "Word: time   Prediction: O\n",
            "Word: observations   Prediction: O\n",
            "Word: and   Prediction: O\n",
            "Word: Joe   Prediction: B-Person\n",
            "Word: DePasquale   Prediction: I-Person\n",
            "Word: for   Prediction: O\n",
            "Word: producing   Prediction: O\n",
            "Word: the   Prediction: O\n",
            "Word: colour   Prediction: O\n",
            "Word: HST   Prediction: B-Telescope\n",
            "Word: image   Prediction: O\n",
            "Word: in   Prediction: O\n",
            "Word: Fig.   Prediction: O\n",
            "Word: 2   Prediction: O\n",
            "Word: and   Prediction: O\n",
            "Word: the   Prediction: O\n",
            "Word: similar   Prediction: O\n",
            "Word: image   Prediction: O\n",
            "Word: superposed   Prediction: O\n",
            "Word: on   Prediction: O\n",
            "Word: the   Prediction: O\n",
            "Word: Chandra   Prediction: B-Telescope\n",
            "Word: X-ray   Prediction: I-Wavelength\n",
            "Word: image   Prediction: O\n",
            "Word: in   Prediction: O\n",
            "Word: Fig.   Prediction: O\n",
            "Word: 6   Prediction: O\n",
            "Word: .   Prediction: O\n",
            "Word: We   Prediction: O\n",
            "Word: thank   Prediction: O\n",
            "Word: both   Prediction: O\n",
            "Word: Kenji   Prediction: B-Person\n",
            "Word: Hamaguchi   Prediction: I-Person\n",
            "Word: and   Prediction: O\n",
            "Word: Mike   Prediction: B-Person\n",
            "Word: Corcoran   Prediction: I-Person\n",
            "Word: for   Prediction: O\n",
            "Word: discussions   Prediction: O\n",
            "Word: over   Prediction: O\n",
            "Word: many   Prediction: O\n",
            "Word: years   Prediction: O\n",
            "Word: concerning   Prediction: O\n",
            "Word: the   Prediction: O\n",
            "Word: X-ray   Prediction: B-Wavelength\n",
            "Word: emission   Prediction: O\n",
            "Word: from   Prediction: O\n",
            "Word: η   Prediction: B-Formula\n",
            "Word: Car’s   Prediction: I-Wavelength\n",
            "Word: outer   Prediction: O\n",
            "Word: shell.   Prediction: O\n",
            "Word: JM   Prediction: B-CelestialObject\n",
            "Word: appreciates   Prediction: O\n",
            "Word: helpful   Prediction: O\n",
            "Word: discussions   Prediction: O\n",
            "Word: with   Prediction: O\n",
            "Word: John   Prediction: B-Person\n",
            "Word: Raymond   Prediction: I-Person\n",
            "Word: and   Prediction: O\n",
            "Word: Pat   Prediction: B-Person\n",
            "Word: Hartigan.   Prediction: I-Person\n",
            "Word: Based   Prediction: O\n",
            "Word: on   Prediction: O\n",
            "Word: observations   Prediction: O\n",
            "Word: made   Prediction: O\n",
            "Word: with   Prediction: O\n",
            "Word: the   Prediction: O\n",
            "Word: NASA/ESA   Prediction: B-Telescope\n",
            "Word: Hubble   Prediction: I-Telescope\n",
            "Word: Space   Prediction: I-Telescope\n",
            "Word: Telescope,   Prediction: I-Telescope\n",
            "Word: obtained   Prediction: O\n",
            "Word: at   Prediction: O\n",
            "Word: the   Prediction: O\n",
            "Word: Space   Prediction: B-Organization\n",
            "Word: Telescope   Prediction: I-Organization\n",
            "Word: Science   Prediction: I-Organization\n",
            "Word: Institute,   Prediction: I-Organization\n",
            "Word: operated   Prediction: O\n",
            "Word: by   Prediction: O\n",
            "Word: the   Prediction: O\n",
            "Word: Association   Prediction: B-Organization\n",
            "Word: of   Prediction: I-Organization\n",
            "Word: Universities   Prediction: I-Organization\n",
            "Word: for   Prediction: I-Organization\n",
            "Word: Research   Prediction: I-Organization\n",
            "Word: in   Prediction: I-Organization\n",
            "Word: Astronomy,   Prediction: I-Organization\n",
            "Word: Inc.,   Prediction: I-Organization\n",
            "Word: under   Prediction: O\n",
            "Word: NASA   Prediction: B-Organization\n",
            "Word: contract   Prediction: O\n",
            "Word: NAS   Prediction: B-Grant\n",
            "Word: 5-26555.   Prediction: I-Grant\n",
            "Word: Support   Prediction: O\n",
            "Word: was   Prediction: O\n",
            "Word: provided   Prediction: O\n",
            "Word: by   Prediction: O\n",
            "Word: NASA   Prediction: B-Organization\n",
            "Word: through   Prediction: O\n",
            "Word: grants   Prediction: O\n",
            "Word: GO-15596,   Prediction: B-Grant\n",
            "Word: GO-15289,   Prediction: B-Grant\n",
            "Word: GO-14768,   Prediction: B-Grant\n",
            "Word: and   Prediction: O\n",
            "Word: AR-14586   Prediction: B-Grant\n",
            "Word: from   Prediction: O\n",
            "Word: the   Prediction: O\n",
            "Word: Space   Prediction: B-Organization\n",
            "Word: Telescope   Prediction: I-Organization\n",
            "Word: Science   Prediction: I-Organization\n",
            "Word: Institute,   Prediction: I-Organization\n",
            "Word: which   Prediction: O\n",
            "Word: is   Prediction: O\n",
            "Word: operated   Prediction: O\n",
            "Word: by   Prediction: O\n",
            "Word: the   Prediction: O\n",
            "Word: Association   Prediction: B-Organization\n",
            "Word: of   Prediction: I-Organization\n",
            "Word: Universities   Prediction: I-Organization\n",
            "Word: for   Prediction: I-Organization\n",
            "Word: Research   Prediction: I-Organization\n",
            "Word: in   Prediction: I-Organization\n",
            "Word: Astronomy,   Prediction: I-Organization\n",
            "Word: Inc.,   Prediction: I-Organization\n",
            "Word: under   Prediction: O\n",
            "Word: NASA   Prediction: B-Organization\n",
            "Word: contract   Prediction: O\n",
            "Word: NAS   Prediction: B-Grant\n",
            "Word: 5-26555.   Prediction: I-Grant\n",
            "Word: NS’s   Prediction: B-Person\n",
            "Word: research   Prediction: O\n",
            "Word: on   Prediction: O\n",
            "Word: Eta   Prediction: O\n",
            "Word: Carinae   Prediction: O\n",
            "Word: also   Prediction: O\n",
            "Word: received   Prediction: O\n",
            "Word: support   Prediction: O\n",
            "Word: from   Prediction: O\n",
            "Word: NSF   Prediction: B-Organization\n",
            "Word: grants   Prediction: O\n",
            "Word: AST-1312221   Prediction: B-Grant\n",
            "Word: and   Prediction: O\n",
            "Word: AST-1515559.   Prediction: B-Grant\n"
          ]
        }
      ]
    },
    {
      "cell_type": "code",
      "source": [
        "%matplotlib inline\n",
        "fig=plt.figure(figsize=(20,5))\n",
        "plt.bar(list(counter1.keys()),list(counter1.values()),)\n",
        "plt.show()"
      ],
      "metadata": {
        "colab": {
          "base_uri": "https://localhost:8080/",
          "height": 278
        },
        "id": "07xSm45Pwqy_",
        "outputId": "97dc90b4-c2e0-4a3a-e7d2-beaf2dc93c6d"
      },
      "execution_count": null,
      "outputs": [
        {
          "output_type": "display_data",
          "data": {
            "text/plain": [
              "<Figure size 1440x360 with 1 Axes>"
            ],
            "image/png": "[encoded data removed]"
          },
          "metadata": {
            "needs_background": "light"
          }
        }
      ]
    },
    {
      "cell_type": "code",
      "source": [
        "%matplotlib inline\n",
        "fig=plt.figure(figsize=(10,5))\n",
        "plt.bar(list(counter2.keys()),list(counter2.values()),)\n",
        "plt.show()"
      ],
      "metadata": {
        "colab": {
          "base_uri": "https://localhost:8080/",
          "height": 320
        },
        "id": "KLxxzWjfw2oW",
        "outputId": "13f229de-9b2d-4935-ee98-eee824b98214"
      },
      "execution_count": null,
      "outputs": [
        {
          "output_type": "display_data",
          "data": {
            "text/plain": [
              "<Figure size 720x360 with 1 Axes>"
            ],
            "image/png": "[encoded data removed]"
          },
          "metadata": {
            "needs_background": "light"
          }
        }
      ]
    },
    {
      "cell_type": "code",
      "source": [
        "%matplotlib inline\n",
        "fig=plt.figure(figsize=(10,5))\n",
        "plt.bar(list(counter3.keys()),list(counter3.values()),)\n",
        "plt.show()"
      ],
      "metadata": {
        "colab": {
          "base_uri": "https://localhost:8080/",
          "height": 320
        },
        "id": "zMRpKH3aw8SD",
        "outputId": "b1b5400a-90f5-4a14-8b04-366728266a17"
      },
      "execution_count": null,
      "outputs": [
        {
          "output_type": "display_data",
          "data": {
            "text/plain": [
              "<Figure size 720x360 with 1 Axes>"
            ],
            "image/png": "[encoded data removed]"
          },
          "metadata": {
            "needs_background": "light"
          }
        }
      ]
    },
    {
      "cell_type": "code",
      "source": [
        "%matplotlib inline\n",
        "fig=plt.figure(figsize=(20,5))\n",
        "plt.bar(list(counter4.keys()),list(counter4.values()),)\n",
        "plt.show()"
      ],
      "metadata": {
        "colab": {
          "base_uri": "https://localhost:8080/",
          "height": 278
        },
        "id": "AK6wu2C3xM4T",
        "outputId": "34f2a441-c8d4-4cc3-e065-cfa5e1d5b6ec"
      },
      "execution_count": null,
      "outputs": [
        {
          "output_type": "display_data",
          "data": {
            "text/plain": [
              "<Figure size 1440x360 with 1 Axes>"
            ],
            "image/png": "[encoded data removed]"
          },
          "metadata": {
            "needs_background": "light"
          }
        }
      ]
    },
    {
      "cell_type": "code",
      "source": [
        "%matplotlib inline\n",
        "fig=plt.figure(figsize=(20,5))\n",
        "plt.bar(list(counter5.keys()),list(counter5.values()),)\n",
        "plt.show()"
      ],
      "metadata": {
        "colab": {
          "base_uri": "https://localhost:8080/",
          "height": 278
        },
        "id": "O39i-fzKxvN6",
        "outputId": "e7a1329e-ff4a-4993-ef7e-0751e0d8111e"
      },
      "execution_count": null,
      "outputs": [
        {
          "output_type": "display_data",
          "data": {
            "text/plain": [
              "<Figure size 1440x360 with 1 Axes>"
            ],
            "image/png": "[encoded data removed]"
          },
          "metadata": {
            "needs_background": "light"
          }
        }
      ]
    },
    {
      "cell_type": "code",
      "source": [
        ""
      ],
      "metadata": {
        "id": "AyusNnThqpeu"
      },
      "execution_count": null,
      "outputs": []
    }
  ],
  "metadata": {
    "colab": {
      "name": "Univ_ner_simpleRNN.ipynb",
      "provenance": [],
      "collapsed_sections": []
    },
    "kernelspec": {
      "display_name": "Python 3",
      "name": "python3"
    },
    "language_info": {
      "name": "python"
    }
  },
  "nbformat": 4,
  "nbformat_minor": 0
}