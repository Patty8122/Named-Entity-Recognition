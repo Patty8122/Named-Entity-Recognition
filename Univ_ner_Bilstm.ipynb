{
  "cells": [
    {
      "cell_type": "markdown",
      "source": [
        "## Data preprocessing"
      ],
      "metadata": {
        "id": "8cx0VLN1hL0C"
      }
    },
    {
      "cell_type": "code",
      "execution_count": null,
      "metadata": {
        "id": "9pUpQ3gNNydz"
      },
      "outputs": [],
      "source": [
        "import json\n",
        "import pandas as pd\n",
        "import matplotlib.pyplot as plt\n",
        "plt.style.use(\"ggplot\")"
      ]
    },
    {
      "cell_type": "code",
      "execution_count": null,
      "metadata": {
        "id": "WjKwkP0-1pF_"
      },
      "outputs": [],
      "source": [
        "df = pd.DataFrame([],columns=['bibcode', 'label_studio_id', 'ner_ids', 'ner_tags', 'section',\n",
        "       'tokens', 'unique_id'])"
      ]
    },
    {
      "cell_type": "code",
      "execution_count": null,
      "metadata": {
        "id": "35K2ep3qOgfK"
      },
      "outputs": [],
      "source": [
        "with open(\"/content/WIESP2022-NER-TRAINING.jsonl\", 'r') as f:\n",
        "    wiesp_dev_json = [json.loads(l) for l in list(f)]"
      ]
    },
    {
      "cell_type": "code",
      "execution_count": null,
      "metadata": {
        "id": "o25yq6Pa6Yp_"
      },
      "outputs": [],
      "source": [
        "for i in wiesp_dev_json:\n",
        "  df=df.append(pd.DataFrame(i))"
      ]
    },
    {
      "cell_type": "code",
      "execution_count": null,
      "metadata": {
        "colab": {
          "base_uri": "https://localhost:8080/",
          "height": 206
        },
        "id": "SZf89RRhOqY6",
        "outputId": "9b7a802b-e767-4554-ea77-e7f05ac9fa36"
      },
      "outputs": [
        {
          "output_type": "execute_result",
          "data": {
            "text/plain": [
              "               bibcode label_studio_id ner_ids ner_tags   section      tokens  \\\n",
              "0  2019MNRAS.486.5558S             487      62        O  fulltext      Whilst   \n",
              "1  2019MNRAS.486.5558S             487      62        O  fulltext           a   \n",
              "2  2019MNRAS.486.5558S             487      62        O  fulltext  reasonable   \n",
              "3  2019MNRAS.486.5558S             487      62        O  fulltext    harmonic   \n",
              "4  2019MNRAS.486.5558S             487      62        O  fulltext         fit   \n",
              "\n",
              "                          unique_id  \n",
              "0  fulltext_487_2019MNRAS.486.5558S  \n",
              "1  fulltext_487_2019MNRAS.486.5558S  \n",
              "2  fulltext_487_2019MNRAS.486.5558S  \n",
              "3  fulltext_487_2019MNRAS.486.5558S  \n",
              "4  fulltext_487_2019MNRAS.486.5558S  "
            ],
            "text/html": [
              "\n",
              "  <div id=\"df-a500b29e-f3b3-4bc0-a706-806803f62617\">\n",
              "    <div class=\"colab-df-container\">\n",
              "      <div>\n",
              "<style scoped>\n",
              "    .dataframe tbody tr th:only-of-type {\n",
              "        vertical-align: middle;\n",
              "    }\n",
              "\n",
              "    .dataframe tbody tr th {\n",
              "        vertical-align: top;\n",
              "    }\n",
              "\n",
              "    .dataframe thead th {\n",
              "        text-align: right;\n",
              "    }\n",
              "</style>\n",
              "<table border=\"1\" class=\"dataframe\">\n",
              "  <thead>\n",
              "    <tr style=\"text-align: right;\">\n",
              "      <th></th>\n",
              "      <th>bibcode</th>\n",
              "      <th>label_studio_id</th>\n",
              "      <th>ner_ids</th>\n",
              "      <th>ner_tags</th>\n",
              "      <th>section</th>\n",
              "      <th>tokens</th>\n",
              "      <th>unique_id</th>\n",
              "    </tr>\n",
              "  </thead>\n",
              "  <tbody>\n",
              "    <tr>\n",
              "      <th>0</th>\n",
              "      <td>2019MNRAS.486.5558S</td>\n",
              "      <td>487</td>\n",
              "      <td>62</td>\n",
              "      <td>O</td>\n",
              "      <td>fulltext</td>\n",
              "      <td>Whilst</td>\n",
              "      <td>fulltext_487_2019MNRAS.486.5558S</td>\n",
              "    </tr>\n",
              "    <tr>\n",
              "      <th>1</th>\n",
              "      <td>2019MNRAS.486.5558S</td>\n",
              "      <td>487</td>\n",
              "      <td>62</td>\n",
              "      <td>O</td>\n",
              "      <td>fulltext</td>\n",
              "      <td>a</td>\n",
              "      <td>fulltext_487_2019MNRAS.486.5558S</td>\n",
              "    </tr>\n",
              "    <tr>\n",
              "      <th>2</th>\n",
              "      <td>2019MNRAS.486.5558S</td>\n",
              "      <td>487</td>\n",
              "      <td>62</td>\n",
              "      <td>O</td>\n",
              "      <td>fulltext</td>\n",
              "      <td>reasonable</td>\n",
              "      <td>fulltext_487_2019MNRAS.486.5558S</td>\n",
              "    </tr>\n",
              "    <tr>\n",
              "      <th>3</th>\n",
              "      <td>2019MNRAS.486.5558S</td>\n",
              "      <td>487</td>\n",
              "      <td>62</td>\n",
              "      <td>O</td>\n",
              "      <td>fulltext</td>\n",
              "      <td>harmonic</td>\n",
              "      <td>fulltext_487_2019MNRAS.486.5558S</td>\n",
              "    </tr>\n",
              "    <tr>\n",
              "      <th>4</th>\n",
              "      <td>2019MNRAS.486.5558S</td>\n",
              "      <td>487</td>\n",
              "      <td>62</td>\n",
              "      <td>O</td>\n",
              "      <td>fulltext</td>\n",
              "      <td>fit</td>\n",
              "      <td>fulltext_487_2019MNRAS.486.5558S</td>\n",
              "    </tr>\n",
              "  </tbody>\n",
              "</table>\n",
              "</div>\n",
              "      <button class=\"colab-df-convert\" onclick=\"convertToInteractive('df-a500b29e-f3b3-4bc0-a706-806803f62617')\"\n",
              "              title=\"Convert this dataframe to an interactive table.\"\n",
              "              style=\"display:none;\">\n",
              "        \n",
              "  <svg xmlns=\"http://www.w3.org/2000/svg\" height=\"24px\"viewBox=\"0 0 24 24\"\n",
              "       width=\"24px\">\n",
              "    <path d=\"M0 0h24v24H0V0z\" fill=\"none\"/>\n",
              "    <path d=\"M18.56 5.44l.94 2.06.94-2.06 2.06-.94-2.06-.94-.94-2.06-.94 2.06-2.06.94zm-11 1L8.5 8.5l.94-2.06 2.06-.94-2.06-.94L8.5 2.5l-.94 2.06-2.06.94zm10 10l.94 2.06.94-2.06 2.06-.94-2.06-.94-.94-2.06-.94 2.06-2.06.94z\"/><path d=\"M17.41 7.96l-1.37-1.37c-.4-.4-.92-.59-1.43-.59-.52 0-1.04.2-1.43.59L10.3 9.45l-7.72 7.72c-.78.78-.78 2.05 0 2.83L4 21.41c.39.39.9.59 1.41.59.51 0 1.02-.2 1.41-.59l7.78-7.78 2.81-2.81c.8-.78.8-2.07 0-2.86zM5.41 20L4 18.59l7.72-7.72 1.47 1.35L5.41 20z\"/>\n",
              "  </svg>\n",
              "      </button>\n",
              "      \n",
              "  <style>\n",
              "    .colab-df-container {\n",
              "      display:flex;\n",
              "      flex-wrap:wrap;\n",
              "      gap: 12px;\n",
              "    }\n",
              "\n",
              "    .colab-df-convert {\n",
              "      background-color: #E8F0FE;\n",
              "      border: none;\n",
              "      border-radius: 50%;\n",
              "      cursor: pointer;\n",
              "      display: none;\n",
              "      fill: #1967D2;\n",
              "      height: 32px;\n",
              "      padding: 0 0 0 0;\n",
              "      width: 32px;\n",
              "    }\n",
              "\n",
              "    .colab-df-convert:hover {\n",
              "      background-color: #E2EBFA;\n",
              "      box-shadow: 0px 1px 2px rgba(60, 64, 67, 0.3), 0px 1px 3px 1px rgba(60, 64, 67, 0.15);\n",
              "      fill: #174EA6;\n",
              "    }\n",
              "\n",
              "    [theme=dark] .colab-df-convert {\n",
              "      background-color: #3B4455;\n",
              "      fill: #D2E3FC;\n",
              "    }\n",
              "\n",
              "    [theme=dark] .colab-df-convert:hover {\n",
              "      background-color: #434B5C;\n",
              "      box-shadow: 0px 1px 3px 1px rgba(0, 0, 0, 0.15);\n",
              "      filter: drop-shadow(0px 1px 2px rgba(0, 0, 0, 0.3));\n",
              "      fill: #FFFFFF;\n",
              "    }\n",
              "  </style>\n",
              "\n",
              "      <script>\n",
              "        const buttonEl =\n",
              "          document.querySelector('#df-a500b29e-f3b3-4bc0-a706-806803f62617 button.colab-df-convert');\n",
              "        buttonEl.style.display =\n",
              "          google.colab.kernel.accessAllowed ? 'block' : 'none';\n",
              "\n",
              "        async function convertToInteractive(key) {\n",
              "          const element = document.querySelector('#df-a500b29e-f3b3-4bc0-a706-806803f62617');\n",
              "          const dataTable =\n",
              "            await google.colab.kernel.invokeFunction('convertToInteractive',\n",
              "                                                     [key], {});\n",
              "          if (!dataTable) return;\n",
              "\n",
              "          const docLinkHtml = 'Like what you see? Visit the ' +\n",
              "            '<a target=\"_blank\" href=https://colab.research.google.com/notebooks/data_table.ipynb>data table notebook</a>'\n",
              "            + ' to learn more about interactive tables.';\n",
              "          element.innerHTML = '';\n",
              "          dataTable['output_type'] = 'display_data';\n",
              "          await google.colab.output.renderOutput(dataTable, element);\n",
              "          const docLink = document.createElement('div');\n",
              "          docLink.innerHTML = docLinkHtml;\n",
              "          element.appendChild(docLink);\n",
              "        }\n",
              "      </script>\n",
              "    </div>\n",
              "  </div>\n",
              "  "
            ]
          },
          "metadata": {},
          "execution_count": 5
        }
      ],
      "source": [
        "df.head()"
      ]
    },
    {
      "cell_type": "code",
      "execution_count": null,
      "metadata": {
        "id": "QBz9Vu2p4XJe"
      },
      "outputs": [],
      "source": [
        "d = dict(df['ner_tags'].value_counts())"
      ]
    },
    {
      "cell_type": "code",
      "source": [
        "%matplotlib inline\n",
        "fig=plt.figure(figsize=(10,5))\n",
        "plt.bar(list(d.keys())[:5],list(d.values())[:5],)\n",
        "plt.show()"
      ],
      "metadata": {
        "colab": {
          "base_uri": "https://localhost:8080/",
          "height": 320
        },
        "id": "hRIefoZkrlH7",
        "outputId": "c4e231bc-e287-4239-83a5-af2e525dafb3"
      },
      "execution_count": null,
      "outputs": [
        {
          "output_type": "display_data",
          "data": {
            "text/plain": [
              "<Figure size 720x360 with 1 Axes>"
            ],
            "image/png": "[encoded data removed]"
          },
          "metadata": {
            "needs_background": "light"
          }
        }
      ]
    },
    {
      "cell_type": "code",
      "execution_count": null,
      "metadata": {
        "id": "825CdQSI7iHn"
      },
      "outputs": [],
      "source": [
        "sent=list(df['unique_id'].unique())"
      ]
    },
    {
      "cell_type": "code",
      "execution_count": null,
      "metadata": {
        "colab": {
          "base_uri": "https://localhost:8080/"
        },
        "id": "LIC-Y0JfBBP-",
        "outputId": "0b82ea1c-67ea-408e-f507-cd416e92104d"
      },
      "outputs": [
        {
          "output_type": "stream",
          "name": "stdout",
          "text": [
            "fulltext_487_2019MNRAS.486.5558S\n"
          ]
        }
      ],
      "source": [
        "print(sent[0])"
      ]
    },
    {
      "cell_type": "code",
      "execution_count": null,
      "metadata": {
        "colab": {
          "base_uri": "https://localhost:8080/"
        },
        "id": "eqgW1VfcE0Dn",
        "outputId": "f29d595c-b590-4f53-8f70-80b3b795269f"
      },
      "outputs": [
        {
          "output_type": "execute_result",
          "data": {
            "text/plain": [
              "48992"
            ]
          },
          "metadata": {},
          "execution_count": 10
        }
      ],
      "source": [
        "words = set(list(df['tokens'].values))\n",
        "words.add('PAD')\n",
        "n_words = len(words)\n",
        "n_words"
      ]
    },
    {
      "cell_type": "code",
      "execution_count": null,
      "metadata": {
        "colab": {
          "base_uri": "https://localhost:8080/"
        },
        "id": "giGbMnxl784W",
        "outputId": "72080b4e-042a-48d8-d250-b0508a9dfbaf"
      },
      "outputs": [
        {
          "output_type": "execute_result",
          "data": {
            "text/plain": [
              "63"
            ]
          },
          "metadata": {},
          "execution_count": 11
        }
      ],
      "source": [
        "tags = list(set(df[\"ner_tags\"].values))\n",
        "n_tags = len(tags)\n",
        "n_tags"
      ]
    },
    {
      "cell_type": "code",
      "execution_count": null,
      "metadata": {
        "id": "9Zoj4Gh8DY8g"
      },
      "outputs": [],
      "source": [
        "agg_func = lambda s: [(w, t) for w, t in zip(s[\"tokens\"].values.tolist(),s[\"ner_tags\"].values.tolist())]"
      ]
    },
    {
      "cell_type": "code",
      "execution_count": null,
      "metadata": {
        "colab": {
          "base_uri": "https://localhost:8080/",
          "height": 270
        },
        "id": "gq3T0QajDmJl",
        "outputId": "934bd074-15a0-45ec-a7dd-f99def057e56"
      },
      "outputs": [
        {
          "output_type": "execute_result",
          "data": {
            "text/plain": [
              "               bibcode label_studio_id ner_ids ner_tags   section      tokens  \\\n",
              "0  2019MNRAS.486.5558S             487      62        O  fulltext      Whilst   \n",
              "1  2019MNRAS.486.5558S             487      62        O  fulltext           a   \n",
              "2  2019MNRAS.486.5558S             487      62        O  fulltext  reasonable   \n",
              "3  2019MNRAS.486.5558S             487      62        O  fulltext    harmonic   \n",
              "4  2019MNRAS.486.5558S             487      62        O  fulltext         fit   \n",
              "\n",
              "                          unique_id  \n",
              "0  fulltext_487_2019MNRAS.486.5558S  \n",
              "1  fulltext_487_2019MNRAS.486.5558S  \n",
              "2  fulltext_487_2019MNRAS.486.5558S  \n",
              "3  fulltext_487_2019MNRAS.486.5558S  \n",
              "4  fulltext_487_2019MNRAS.486.5558S  "
            ],
            "text/html": [
              "\n",
              "  <div id=\"df-3c46498c-beeb-46aa-b3c5-6ce03c74128d\">\n",
              "    <div class=\"colab-df-container\">\n",
              "      <div>\n",
              "<style scoped>\n",
              "    .dataframe tbody tr th:only-of-type {\n",
              "        vertical-align: middle;\n",
              "    }\n",
              "\n",
              "    .dataframe tbody tr th {\n",
              "        vertical-align: top;\n",
              "    }\n",
              "\n",
              "    .dataframe thead th {\n",
              "        text-align: right;\n",
              "    }\n",
              "</style>\n",
              "<table border=\"1\" class=\"dataframe\">\n",
              "  <thead>\n",
              "    <tr style=\"text-align: right;\">\n",
              "      <th></th>\n",
              "      <th>bibcode</th>\n",
              "      <th>label_studio_id</th>\n",
              "      <th>ner_ids</th>\n",
              "      <th>ner_tags</th>\n",
              "      <th>section</th>\n",
              "      <th>tokens</th>\n",
              "      <th>unique_id</th>\n",
              "    </tr>\n",
              "  </thead>\n",
              "  <tbody>\n",
              "    <tr>\n",
              "      <th>0</th>\n",
              "      <td>2019MNRAS.486.5558S</td>\n",
              "      <td>487</td>\n",
              "      <td>62</td>\n",
              "      <td>O</td>\n",
              "      <td>fulltext</td>\n",
              "      <td>Whilst</td>\n",
              "      <td>fulltext_487_2019MNRAS.486.5558S</td>\n",
              "    </tr>\n",
              "    <tr>\n",
              "      <th>1</th>\n",
              "      <td>2019MNRAS.486.5558S</td>\n",
              "      <td>487</td>\n",
              "      <td>62</td>\n",
              "      <td>O</td>\n",
              "      <td>fulltext</td>\n",
              "      <td>a</td>\n",
              "      <td>fulltext_487_2019MNRAS.486.5558S</td>\n",
              "    </tr>\n",
              "    <tr>\n",
              "      <th>2</th>\n",
              "      <td>2019MNRAS.486.5558S</td>\n",
              "      <td>487</td>\n",
              "      <td>62</td>\n",
              "      <td>O</td>\n",
              "      <td>fulltext</td>\n",
              "      <td>reasonable</td>\n",
              "      <td>fulltext_487_2019MNRAS.486.5558S</td>\n",
              "    </tr>\n",
              "    <tr>\n",
              "      <th>3</th>\n",
              "      <td>2019MNRAS.486.5558S</td>\n",
              "      <td>487</td>\n",
              "      <td>62</td>\n",
              "      <td>O</td>\n",
              "      <td>fulltext</td>\n",
              "      <td>harmonic</td>\n",
              "      <td>fulltext_487_2019MNRAS.486.5558S</td>\n",
              "    </tr>\n",
              "    <tr>\n",
              "      <th>4</th>\n",
              "      <td>2019MNRAS.486.5558S</td>\n",
              "      <td>487</td>\n",
              "      <td>62</td>\n",
              "      <td>O</td>\n",
              "      <td>fulltext</td>\n",
              "      <td>fit</td>\n",
              "      <td>fulltext_487_2019MNRAS.486.5558S</td>\n",
              "    </tr>\n",
              "  </tbody>\n",
              "</table>\n",
              "</div>\n",
              "      <button class=\"colab-df-convert\" onclick=\"convertToInteractive('df-3c46498c-beeb-46aa-b3c5-6ce03c74128d')\"\n",
              "              title=\"Convert this dataframe to an interactive table.\"\n",
              "              style=\"display:none;\">\n",
              "        \n",
              "  <svg xmlns=\"http://www.w3.org/2000/svg\" height=\"24px\"viewBox=\"0 0 24 24\"\n",
              "       width=\"24px\">\n",
              "    <path d=\"M0 0h24v24H0V0z\" fill=\"none\"/>\n",
              "    <path d=\"M18.56 5.44l.94 2.06.94-2.06 2.06-.94-2.06-.94-.94-2.06-.94 2.06-2.06.94zm-11 1L8.5 8.5l.94-2.06 2.06-.94-2.06-.94L8.5 2.5l-.94 2.06-2.06.94zm10 10l.94 2.06.94-2.06 2.06-.94-2.06-.94-.94-2.06-.94 2.06-2.06.94z\"/><path d=\"M17.41 7.96l-1.37-1.37c-.4-.4-.92-.59-1.43-.59-.52 0-1.04.2-1.43.59L10.3 9.45l-7.72 7.72c-.78.78-.78 2.05 0 2.83L4 21.41c.39.39.9.59 1.41.59.51 0 1.02-.2 1.41-.59l7.78-7.78 2.81-2.81c.8-.78.8-2.07 0-2.86zM5.41 20L4 18.59l7.72-7.72 1.47 1.35L5.41 20z\"/>\n",
              "  </svg>\n",
              "      </button>\n",
              "      \n",
              "  <style>\n",
              "    .colab-df-container {\n",
              "      display:flex;\n",
              "      flex-wrap:wrap;\n",
              "      gap: 12px;\n",
              "    }\n",
              "\n",
              "    .colab-df-convert {\n",
              "      background-color: #E8F0FE;\n",
              "      border: none;\n",
              "      border-radius: 50%;\n",
              "      cursor: pointer;\n",
              "      display: none;\n",
              "      fill: #1967D2;\n",
              "      height: 32px;\n",
              "      padding: 0 0 0 0;\n",
              "      width: 32px;\n",
              "    }\n",
              "\n",
              "    .colab-df-convert:hover {\n",
              "      background-color: #E2EBFA;\n",
              "      box-shadow: 0px 1px 2px rgba(60, 64, 67, 0.3), 0px 1px 3px 1px rgba(60, 64, 67, 0.15);\n",
              "      fill: #174EA6;\n",
              "    }\n",
              "\n",
              "    [theme=dark] .colab-df-convert {\n",
              "      background-color: #3B4455;\n",
              "      fill: #D2E3FC;\n",
              "    }\n",
              "\n",
              "    [theme=dark] .colab-df-convert:hover {\n",
              "      background-color: #434B5C;\n",
              "      box-shadow: 0px 1px 3px 1px rgba(0, 0, 0, 0.15);\n",
              "      filter: drop-shadow(0px 1px 2px rgba(0, 0, 0, 0.3));\n",
              "      fill: #FFFFFF;\n",
              "    }\n",
              "  </style>\n",
              "\n",
              "      <script>\n",
              "        const buttonEl =\n",
              "          document.querySelector('#df-3c46498c-beeb-46aa-b3c5-6ce03c74128d button.colab-df-convert');\n",
              "        buttonEl.style.display =\n",
              "          google.colab.kernel.accessAllowed ? 'block' : 'none';\n",
              "\n",
              "        async function convertToInteractive(key) {\n",
              "          const element = document.querySelector('#df-3c46498c-beeb-46aa-b3c5-6ce03c74128d');\n",
              "          const dataTable =\n",
              "            await google.colab.kernel.invokeFunction('convertToInteractive',\n",
              "                                                     [key], {});\n",
              "          if (!dataTable) return;\n",
              "\n",
              "          const docLinkHtml = 'Like what you see? Visit the ' +\n",
              "            '<a target=\"_blank\" href=https://colab.research.google.com/notebooks/data_table.ipynb>data table notebook</a>'\n",
              "            + ' to learn more about interactive tables.';\n",
              "          element.innerHTML = '';\n",
              "          dataTable['output_type'] = 'display_data';\n",
              "          await google.colab.output.renderOutput(dataTable, element);\n",
              "          const docLink = document.createElement('div');\n",
              "          docLink.innerHTML = docLinkHtml;\n",
              "          element.appendChild(docLink);\n",
              "        }\n",
              "      </script>\n",
              "    </div>\n",
              "  </div>\n",
              "  "
            ]
          },
          "metadata": {},
          "execution_count": 41
        }
      ],
      "source": [
        "df.head()"
      ]
    },
    {
      "cell_type": "code",
      "execution_count": null,
      "metadata": {
        "id": "z7LNST9-DaTm"
      },
      "outputs": [],
      "source": [
        "sentences = [df.groupby(\"unique_id\").apply(agg_func)[i] for i in sent]"
      ]
    },
    {
      "cell_type": "code",
      "execution_count": null,
      "metadata": {
        "id": "L8F6NaGjD-nH"
      },
      "outputs": [],
      "source": [
        "token_sentences = pd.DataFrame(df[['unique_id','tokens']].groupby('unique_id')['tokens'].apply(list))"
      ]
    },
    {
      "cell_type": "code",
      "source": [
        "ner_tags_sentences = pd.DataFrame(df[['unique_id','ner_tags']].groupby('unique_id')['ner_tags'].apply(list))"
      ],
      "metadata": {
        "id": "U__cP_t3OuRE"
      },
      "execution_count": null,
      "outputs": []
    },
    {
      "cell_type": "code",
      "source": [
        "sentences.head()"
      ],
      "metadata": {
        "colab": {
          "base_uri": "https://localhost:8080/",
          "height": 237
        },
        "id": "l1ixijBINJBC",
        "outputId": "ed039d2a-beac-4af2-81d9-88273ade6b6f"
      },
      "execution_count": null,
      "outputs": [
        {
          "output_type": "execute_result",
          "data": {
            "text/plain": [
              "                                                           0\n",
              "unique_id                                                   \n",
              "acknowledgments_0_2019MNRAS.489..268S     [tokens, ner_tags]\n",
              "acknowledgments_1000_2015MNRAS.446.1750F  [tokens, ner_tags]\n",
              "acknowledgments_1002_2016MNRAS.455.2945M  [tokens, ner_tags]\n",
              "acknowledgments_1003_2017MNRAS.464.3972L  [tokens, ner_tags]\n",
              "acknowledgments_1005_2019MNRAS.483.4901B  [tokens, ner_tags]"
            ],
            "text/html": [
              "\n",
              "  <div id=\"df-8e0396d1-9d67-453b-819d-08003702cfd9\">\n",
              "    <div class=\"colab-df-container\">\n",
              "      <div>\n",
              "<style scoped>\n",
              "    .dataframe tbody tr th:only-of-type {\n",
              "        vertical-align: middle;\n",
              "    }\n",
              "\n",
              "    .dataframe tbody tr th {\n",
              "        vertical-align: top;\n",
              "    }\n",
              "\n",
              "    .dataframe thead th {\n",
              "        text-align: right;\n",
              "    }\n",
              "</style>\n",
              "<table border=\"1\" class=\"dataframe\">\n",
              "  <thead>\n",
              "    <tr style=\"text-align: right;\">\n",
              "      <th></th>\n",
              "      <th>0</th>\n",
              "    </tr>\n",
              "    <tr>\n",
              "      <th>unique_id</th>\n",
              "      <th></th>\n",
              "    </tr>\n",
              "  </thead>\n",
              "  <tbody>\n",
              "    <tr>\n",
              "      <th>acknowledgments_0_2019MNRAS.489..268S</th>\n",
              "      <td>[tokens, ner_tags]</td>\n",
              "    </tr>\n",
              "    <tr>\n",
              "      <th>acknowledgments_1000_2015MNRAS.446.1750F</th>\n",
              "      <td>[tokens, ner_tags]</td>\n",
              "    </tr>\n",
              "    <tr>\n",
              "      <th>acknowledgments_1002_2016MNRAS.455.2945M</th>\n",
              "      <td>[tokens, ner_tags]</td>\n",
              "    </tr>\n",
              "    <tr>\n",
              "      <th>acknowledgments_1003_2017MNRAS.464.3972L</th>\n",
              "      <td>[tokens, ner_tags]</td>\n",
              "    </tr>\n",
              "    <tr>\n",
              "      <th>acknowledgments_1005_2019MNRAS.483.4901B</th>\n",
              "      <td>[tokens, ner_tags]</td>\n",
              "    </tr>\n",
              "  </tbody>\n",
              "</table>\n",
              "</div>\n",
              "      <button class=\"colab-df-convert\" onclick=\"convertToInteractive('df-8e0396d1-9d67-453b-819d-08003702cfd9')\"\n",
              "              title=\"Convert this dataframe to an interactive table.\"\n",
              "              style=\"display:none;\">\n",
              "        \n",
              "  <svg xmlns=\"http://www.w3.org/2000/svg\" height=\"24px\"viewBox=\"0 0 24 24\"\n",
              "       width=\"24px\">\n",
              "    <path d=\"M0 0h24v24H0V0z\" fill=\"none\"/>\n",
              "    <path d=\"M18.56 5.44l.94 2.06.94-2.06 2.06-.94-2.06-.94-.94-2.06-.94 2.06-2.06.94zm-11 1L8.5 8.5l.94-2.06 2.06-.94-2.06-.94L8.5 2.5l-.94 2.06-2.06.94zm10 10l.94 2.06.94-2.06 2.06-.94-2.06-.94-.94-2.06-.94 2.06-2.06.94z\"/><path d=\"M17.41 7.96l-1.37-1.37c-.4-.4-.92-.59-1.43-.59-.52 0-1.04.2-1.43.59L10.3 9.45l-7.72 7.72c-.78.78-.78 2.05 0 2.83L4 21.41c.39.39.9.59 1.41.59.51 0 1.02-.2 1.41-.59l7.78-7.78 2.81-2.81c.8-.78.8-2.07 0-2.86zM5.41 20L4 18.59l7.72-7.72 1.47 1.35L5.41 20z\"/>\n",
              "  </svg>\n",
              "      </button>\n",
              "      \n",
              "  <style>\n",
              "    .colab-df-container {\n",
              "      display:flex;\n",
              "      flex-wrap:wrap;\n",
              "      gap: 12px;\n",
              "    }\n",
              "\n",
              "    .colab-df-convert {\n",
              "      background-color: #E8F0FE;\n",
              "      border: none;\n",
              "      border-radius: 50%;\n",
              "      cursor: pointer;\n",
              "      display: none;\n",
              "      fill: #1967D2;\n",
              "      height: 32px;\n",
              "      padding: 0 0 0 0;\n",
              "      width: 32px;\n",
              "    }\n",
              "\n",
              "    .colab-df-convert:hover {\n",
              "      background-color: #E2EBFA;\n",
              "      box-shadow: 0px 1px 2px rgba(60, 64, 67, 0.3), 0px 1px 3px 1px rgba(60, 64, 67, 0.15);\n",
              "      fill: #174EA6;\n",
              "    }\n",
              "\n",
              "    [theme=dark] .colab-df-convert {\n",
              "      background-color: #3B4455;\n",
              "      fill: #D2E3FC;\n",
              "    }\n",
              "\n",
              "    [theme=dark] .colab-df-convert:hover {\n",
              "      background-color: #434B5C;\n",
              "      box-shadow: 0px 1px 3px 1px rgba(0, 0, 0, 0.15);\n",
              "      filter: drop-shadow(0px 1px 2px rgba(0, 0, 0, 0.3));\n",
              "      fill: #FFFFFF;\n",
              "    }\n",
              "  </style>\n",
              "\n",
              "      <script>\n",
              "        const buttonEl =\n",
              "          document.querySelector('#df-8e0396d1-9d67-453b-819d-08003702cfd9 button.colab-df-convert');\n",
              "        buttonEl.style.display =\n",
              "          google.colab.kernel.accessAllowed ? 'block' : 'none';\n",
              "\n",
              "        async function convertToInteractive(key) {\n",
              "          const element = document.querySelector('#df-8e0396d1-9d67-453b-819d-08003702cfd9');\n",
              "          const dataTable =\n",
              "            await google.colab.kernel.invokeFunction('convertToInteractive',\n",
              "                                                     [key], {});\n",
              "          if (!dataTable) return;\n",
              "\n",
              "          const docLinkHtml = 'Like what you see? Visit the ' +\n",
              "            '<a target=\"_blank\" href=https://colab.research.google.com/notebooks/data_table.ipynb>data table notebook</a>'\n",
              "            + ' to learn more about interactive tables.';\n",
              "          element.innerHTML = '';\n",
              "          dataTable['output_type'] = 'display_data';\n",
              "          await google.colab.output.renderOutput(dataTable, element);\n",
              "          const docLink = document.createElement('div');\n",
              "          docLink.innerHTML = docLinkHtml;\n",
              "          element.appendChild(docLink);\n",
              "        }\n",
              "      </script>\n",
              "    </div>\n",
              "  </div>\n",
              "  "
            ]
          },
          "metadata": {},
          "execution_count": 26
        }
      ]
    },
    {
      "cell_type": "code",
      "execution_count": null,
      "metadata": {
        "id": "LQOtEBXbEMe9",
        "colab": {
          "base_uri": "https://localhost:8080/"
        },
        "outputId": "af9fabff-f33e-4af9-e998-062329e41f4c"
      },
      "outputs": [
        {
          "output_type": "stream",
          "name": "stdout",
          "text": [
            "biggest sentence has 795 words\n"
          ]
        }
      ],
      "source": [
        "largest_sen = max(len(sen) for sen in sentences)\n",
        "print('biggest sentence has {} words'.format(largest_sen))"
      ]
    },
    {
      "cell_type": "code",
      "execution_count": null,
      "metadata": {
        "id": "NRsVnOUJEN__",
        "colab": {
          "base_uri": "https://localhost:8080/",
          "height": 265
        },
        "outputId": "62c6b056-cbda-41e3-aa81-641e1a55f4c4"
      },
      "outputs": [
        {
          "output_type": "display_data",
          "data": {
            "text/plain": [
              "<Figure size 432x288 with 1 Axes>"
            ],
            "image/png": "[encoded data removed]"
          },
          "metadata": {
            "needs_background": "light"
          }
        }
      ],
      "source": [
        "%matplotlib inline\n",
        "plt.hist([len(sen) for sen in sentences], bins= 50)\n",
        "plt.show()"
      ]
    },
    {
      "cell_type": "code",
      "execution_count": null,
      "metadata": {
        "id": "ceLfx6MhEq1k",
        "colab": {
          "base_uri": "https://localhost:8080/"
        },
        "outputId": "47ddae91-1dc1-4704-8b07-12adb22779de"
      },
      "outputs": [
        {
          "output_type": "stream",
          "name": "stdout",
          "text": [
            "26589\n",
            "9\n"
          ]
        }
      ],
      "source": [
        "words2index = {w:i for i,w in enumerate(words)}\n",
        "tags2index = {t:i for i,t in enumerate(tags)}\n",
        "print(words2index['combine'])\n",
        "print(tags2index['B-Instrument'])"
      ]
    },
    {
      "cell_type": "code",
      "execution_count": null,
      "metadata": {
        "id": "jFJ7IQhgFYW2",
        "colab": {
          "base_uri": "https://localhost:8080/",
          "height": 206
        },
        "outputId": "8d639087-797c-4a1d-e983-85bf002623c8"
      },
      "outputs": [
        {
          "output_type": "execute_result",
          "data": {
            "text/plain": [
              "               bibcode label_studio_id ner_ids ner_tags   section      tokens  \\\n",
              "0  2019MNRAS.486.5558S             487      62        O  fulltext      Whilst   \n",
              "1  2019MNRAS.486.5558S             487      62        O  fulltext           a   \n",
              "2  2019MNRAS.486.5558S             487      62        O  fulltext  reasonable   \n",
              "3  2019MNRAS.486.5558S             487      62        O  fulltext    harmonic   \n",
              "4  2019MNRAS.486.5558S             487      62        O  fulltext         fit   \n",
              "\n",
              "                          unique_id  tokens_idx  ner_tags_idx  \n",
              "0  fulltext_487_2019MNRAS.486.5558S       20267            18  \n",
              "1  fulltext_487_2019MNRAS.486.5558S       44358            18  \n",
              "2  fulltext_487_2019MNRAS.486.5558S       23277            18  \n",
              "3  fulltext_487_2019MNRAS.486.5558S       29074            18  \n",
              "4  fulltext_487_2019MNRAS.486.5558S       42667            18  "
            ],
            "text/html": [
              "\n",
              "  <div id=\"df-1f3eaeca-3d9a-409a-9ddf-6e500c983861\">\n",
              "    <div class=\"colab-df-container\">\n",
              "      <div>\n",
              "<style scoped>\n",
              "    .dataframe tbody tr th:only-of-type {\n",
              "        vertical-align: middle;\n",
              "    }\n",
              "\n",
              "    .dataframe tbody tr th {\n",
              "        vertical-align: top;\n",
              "    }\n",
              "\n",
              "    .dataframe thead th {\n",
              "        text-align: right;\n",
              "    }\n",
              "</style>\n",
              "<table border=\"1\" class=\"dataframe\">\n",
              "  <thead>\n",
              "    <tr style=\"text-align: right;\">\n",
              "      <th></th>\n",
              "      <th>bibcode</th>\n",
              "      <th>label_studio_id</th>\n",
              "      <th>ner_ids</th>\n",
              "      <th>ner_tags</th>\n",
              "      <th>section</th>\n",
              "      <th>tokens</th>\n",
              "      <th>unique_id</th>\n",
              "      <th>tokens_idx</th>\n",
              "      <th>ner_tags_idx</th>\n",
              "    </tr>\n",
              "  </thead>\n",
              "  <tbody>\n",
              "    <tr>\n",
              "      <th>0</th>\n",
              "      <td>2019MNRAS.486.5558S</td>\n",
              "      <td>487</td>\n",
              "      <td>62</td>\n",
              "      <td>O</td>\n",
              "      <td>fulltext</td>\n",
              "      <td>Whilst</td>\n",
              "      <td>fulltext_487_2019MNRAS.486.5558S</td>\n",
              "      <td>20267</td>\n",
              "      <td>18</td>\n",
              "    </tr>\n",
              "    <tr>\n",
              "      <th>1</th>\n",
              "      <td>2019MNRAS.486.5558S</td>\n",
              "      <td>487</td>\n",
              "      <td>62</td>\n",
              "      <td>O</td>\n",
              "      <td>fulltext</td>\n",
              "      <td>a</td>\n",
              "      <td>fulltext_487_2019MNRAS.486.5558S</td>\n",
              "      <td>44358</td>\n",
              "      <td>18</td>\n",
              "    </tr>\n",
              "    <tr>\n",
              "      <th>2</th>\n",
              "      <td>2019MNRAS.486.5558S</td>\n",
              "      <td>487</td>\n",
              "      <td>62</td>\n",
              "      <td>O</td>\n",
              "      <td>fulltext</td>\n",
              "      <td>reasonable</td>\n",
              "      <td>fulltext_487_2019MNRAS.486.5558S</td>\n",
              "      <td>23277</td>\n",
              "      <td>18</td>\n",
              "    </tr>\n",
              "    <tr>\n",
              "      <th>3</th>\n",
              "      <td>2019MNRAS.486.5558S</td>\n",
              "      <td>487</td>\n",
              "      <td>62</td>\n",
              "      <td>O</td>\n",
              "      <td>fulltext</td>\n",
              "      <td>harmonic</td>\n",
              "      <td>fulltext_487_2019MNRAS.486.5558S</td>\n",
              "      <td>29074</td>\n",
              "      <td>18</td>\n",
              "    </tr>\n",
              "    <tr>\n",
              "      <th>4</th>\n",
              "      <td>2019MNRAS.486.5558S</td>\n",
              "      <td>487</td>\n",
              "      <td>62</td>\n",
              "      <td>O</td>\n",
              "      <td>fulltext</td>\n",
              "      <td>fit</td>\n",
              "      <td>fulltext_487_2019MNRAS.486.5558S</td>\n",
              "      <td>42667</td>\n",
              "      <td>18</td>\n",
              "    </tr>\n",
              "  </tbody>\n",
              "</table>\n",
              "</div>\n",
              "      <button class=\"colab-df-convert\" onclick=\"convertToInteractive('df-1f3eaeca-3d9a-409a-9ddf-6e500c983861')\"\n",
              "              title=\"Convert this dataframe to an interactive table.\"\n",
              "              style=\"display:none;\">\n",
              "        \n",
              "  <svg xmlns=\"http://www.w3.org/2000/svg\" height=\"24px\"viewBox=\"0 0 24 24\"\n",
              "       width=\"24px\">\n",
              "    <path d=\"M0 0h24v24H0V0z\" fill=\"none\"/>\n",
              "    <path d=\"M18.56 5.44l.94 2.06.94-2.06 2.06-.94-2.06-.94-.94-2.06-.94 2.06-2.06.94zm-11 1L8.5 8.5l.94-2.06 2.06-.94-2.06-.94L8.5 2.5l-.94 2.06-2.06.94zm10 10l.94 2.06.94-2.06 2.06-.94-2.06-.94-.94-2.06-.94 2.06-2.06.94z\"/><path d=\"M17.41 7.96l-1.37-1.37c-.4-.4-.92-.59-1.43-.59-.52 0-1.04.2-1.43.59L10.3 9.45l-7.72 7.72c-.78.78-.78 2.05 0 2.83L4 21.41c.39.39.9.59 1.41.59.51 0 1.02-.2 1.41-.59l7.78-7.78 2.81-2.81c.8-.78.8-2.07 0-2.86zM5.41 20L4 18.59l7.72-7.72 1.47 1.35L5.41 20z\"/>\n",
              "  </svg>\n",
              "      </button>\n",
              "      \n",
              "  <style>\n",
              "    .colab-df-container {\n",
              "      display:flex;\n",
              "      flex-wrap:wrap;\n",
              "      gap: 12px;\n",
              "    }\n",
              "\n",
              "    .colab-df-convert {\n",
              "      background-color: #E8F0FE;\n",
              "      border: none;\n",
              "      border-radius: 50%;\n",
              "      cursor: pointer;\n",
              "      display: none;\n",
              "      fill: #1967D2;\n",
              "      height: 32px;\n",
              "      padding: 0 0 0 0;\n",
              "      width: 32px;\n",
              "    }\n",
              "\n",
              "    .colab-df-convert:hover {\n",
              "      background-color: #E2EBFA;\n",
              "      box-shadow: 0px 1px 2px rgba(60, 64, 67, 0.3), 0px 1px 3px 1px rgba(60, 64, 67, 0.15);\n",
              "      fill: #174EA6;\n",
              "    }\n",
              "\n",
              "    [theme=dark] .colab-df-convert {\n",
              "      background-color: #3B4455;\n",
              "      fill: #D2E3FC;\n",
              "    }\n",
              "\n",
              "    [theme=dark] .colab-df-convert:hover {\n",
              "      background-color: #434B5C;\n",
              "      box-shadow: 0px 1px 3px 1px rgba(0, 0, 0, 0.15);\n",
              "      filter: drop-shadow(0px 1px 2px rgba(0, 0, 0, 0.3));\n",
              "      fill: #FFFFFF;\n",
              "    }\n",
              "  </style>\n",
              "\n",
              "      <script>\n",
              "        const buttonEl =\n",
              "          document.querySelector('#df-1f3eaeca-3d9a-409a-9ddf-6e500c983861 button.colab-df-convert');\n",
              "        buttonEl.style.display =\n",
              "          google.colab.kernel.accessAllowed ? 'block' : 'none';\n",
              "\n",
              "        async function convertToInteractive(key) {\n",
              "          const element = document.querySelector('#df-1f3eaeca-3d9a-409a-9ddf-6e500c983861');\n",
              "          const dataTable =\n",
              "            await google.colab.kernel.invokeFunction('convertToInteractive',\n",
              "                                                     [key], {});\n",
              "          if (!dataTable) return;\n",
              "\n",
              "          const docLinkHtml = 'Like what you see? Visit the ' +\n",
              "            '<a target=\"_blank\" href=https://colab.research.google.com/notebooks/data_table.ipynb>data table notebook</a>'\n",
              "            + ' to learn more about interactive tables.';\n",
              "          element.innerHTML = '';\n",
              "          dataTable['output_type'] = 'display_data';\n",
              "          await google.colab.output.renderOutput(dataTable, element);\n",
              "          const docLink = document.createElement('div');\n",
              "          docLink.innerHTML = docLinkHtml;\n",
              "          element.appendChild(docLink);\n",
              "        }\n",
              "      </script>\n",
              "    </div>\n",
              "  </div>\n",
              "  "
            ]
          },
          "metadata": {},
          "execution_count": 17
        }
      ],
      "source": [
        "df['tokens_idx'] = df['tokens'].map(words2index)\n",
        "df['ner_tags_idx'] = df['ner_tags'].map(tags2index)\n",
        "df.head()"
      ]
    },
    {
      "cell_type": "code",
      "source": [
        "for w in sentences[:5]:\n",
        "  print(w)"
      ],
      "metadata": {
        "colab": {
          "base_uri": "https://localhost:8080/"
        },
        "id": "vk4HYCnQLUbZ",
        "outputId": "8cebefa2-49e6-4901-9a83-17fd76bf04c4"
      },
      "execution_count": null,
      "outputs": [
        {
          "output_type": "stream",
          "name": "stdout",
          "text": [
            "['ACKNOWLEDGEMENTS', 'We', 'acknowledge', 'helpful', 'comments', 'from', 'the', 'referee,', 'which', 'helped', 'to', 'clarify', 'several', 'aspects', 'of', 'the', 'observations', 'and', 'analysis', 'presented', 'in', 'this', 'paper.', 'We', 'thank', 'STScI', 'science', 'and', 'technical', 'staff', 'members', 'Peter', 'McCullough', 'and', 'Amber', 'Armstrong', 'for', 'special', 'assistance', 'in', 'planning', 'the', 'DD', 'time', 'observations', 'and', 'Joe', 'DePasquale', 'for', 'producing', 'the', 'colour', 'HST', 'image', 'in', 'Fig.', '2', 'and', 'the', 'similar', 'image', 'superposed', 'on', 'the', 'Chandra', 'X-ray', 'image', 'in', 'Fig.', '6', '.', 'We', 'thank', 'both', 'Kenji', 'Hamaguchi', 'and', 'Mike', 'Corcoran', 'for', 'discussions', 'over', 'many', 'years', 'concerning', 'the', 'X-ray', 'emission', 'from', 'η', 'Car’s', 'outer', 'shell.', 'JM', 'appreciates', 'helpful', 'discussions', 'with', 'John', 'Raymond', 'and', 'Pat', 'Hartigan.', 'Based', 'on', 'observations', 'made', 'with', 'the', 'NASA/ESA', 'Hubble', 'Space', 'Telescope,', 'obtained', 'at', 'the', 'Space', 'Telescope', 'Science', 'Institute,', 'operated', 'by', 'the', 'Association', 'of', 'Universities', 'for', 'Research', 'in', 'Astronomy,', 'Inc.,', 'under', 'NASA', 'contract', 'NAS', '5-26555.', 'Support', 'was', 'provided', 'by', 'NASA', 'through', 'grants', 'GO-15596,', 'GO-15289,', 'GO-14768,', 'and', 'AR-14586', 'from', 'the', 'Space', 'Telescope', 'Science', 'Institute,', 'which', 'is', 'operated', 'by', 'the', 'Association', 'of', 'Universities', 'for', 'Research', 'in', 'Astronomy,', 'Inc.,', 'under', 'NASA', 'contract', 'NAS', '5-26555.', 'NS’s', 'research', 'on', 'Eta', 'Carinae', 'also', 'received', 'support', 'from', 'NSF', 'grants', 'AST-1312221', 'and', 'AST-1515559.']\n",
            "['DRF', 'acknowledges', 'support', 'from', 'STFC', '(ST/L00075X/1),', 'including', 'provision', 'of', 'local', 'computing', 'resources.', 'FL', 'thanks', 'the', 'CPER', 'Haute-Normandie/CNRT/Energie,', 'Electronique,', 'Matériaux,', 'and', 'the', 'CNRS', 'national', 'programme', '‘Physique', 'et', 'Chimie', 'du', 'Milieu', 'Interstellaire’.', 'We', 'thank', 'Alexandre', 'Faure', 'for', 'providing', 'the', 'IOS', 'results', 'in', 'the', 'appendix.']\n",
            "['We', 'thank', 'Hector', 'Gil-Marín', 'for', 'useful', 'discussion.', 'DJ', 'thanks', 'Max-Planck', 'Institute', 'for', 'Astrophysics', 'for', 'hospitality.', 'NM', 'acknowledges', 'support', 'from', 'the', 'Science', 'and', 'Technology', 'Facilities', 'Council', '(ST/L00075X/1).']\n",
            "['This', 'work', 'is', 'supported', 'by', 'the', 'Youth', 'Programme', 'of', 'the', 'Applied', 'Basic', 'Research', 'Projects', 'of', 'Yunnan', 'Province,', 'China', '(2013FD056)', 'and', 'the', 'Science', 'Research', 'Project', 'of', 'Education', 'Department', 'of', 'Yunnan', 'Province,', 'China', '(2016ZZX230).', 'We', 'thank', 'the', 'REM', 'team', 'and', 'we', 'acknowledge', 'the', 'use', 'of', 'public', 'data', 'from', 'the', 'Swift', 'data', 'archive.']\n",
            "['ACKNOWLEDGEMENTS', 'We', 'thank', 'the', 'organizers', 'of', 'SPHERIC2018', 'for', 'a', 'useful', 'and', 'stimulating', 'conference', 'in', 'Galway,', 'Ireland.', 'DP', 'acknowledges', 'funding', 'from', 'the', 'Australian', 'Research', 'Council', 'via', 'FT130100034', 'and', 'DP180104235.']\n"
          ]
        }
      ]
    },
    {
      "cell_type": "code",
      "execution_count": null,
      "metadata": {
        "id": "pPPNuPLuGbbA",
        "colab": {
          "base_uri": "https://localhost:8080/",
          "height": 200
        },
        "outputId": "43696215-de17-424f-eed2-c1f65b1bf650"
      },
      "outputs": [
        {
          "output_type": "error",
          "ename": "IndexError",
          "evalue": "ignored",
          "traceback": [
            "\u001b[0;31m---------------------------------------------------------------------------\u001b[0m",
            "\u001b[0;31mIndexError\u001b[0m                                Traceback (most recent call last)",
            "\u001b[0;32m<ipython-input-34-74c7e5df485d>\u001b[0m in \u001b[0;36m<module>\u001b[0;34m()\u001b[0m\n\u001b[1;32m     10\u001b[0m             \u001b[0mnew_seq\u001b[0m\u001b[0;34m.\u001b[0m\u001b[0mappend\u001b[0m\u001b[0;34m(\u001b[0m\u001b[0;34m\"PAD\"\u001b[0m\u001b[0;34m)\u001b[0m\u001b[0;34m\u001b[0m\u001b[0;34m\u001b[0m\u001b[0m\n\u001b[1;32m     11\u001b[0m     \u001b[0mnew_X\u001b[0m\u001b[0;34m.\u001b[0m\u001b[0mappend\u001b[0m\u001b[0;34m(\u001b[0m\u001b[0mnew_seq\u001b[0m\u001b[0;34m)\u001b[0m\u001b[0;34m\u001b[0m\u001b[0;34m\u001b[0m\u001b[0m\n\u001b[0;32m---> 12\u001b[0;31m \u001b[0mnew_X\u001b[0m\u001b[0;34m[\u001b[0m\u001b[0;36m15\u001b[0m\u001b[0;34m]\u001b[0m\u001b[0;34m\u001b[0m\u001b[0;34m\u001b[0m\u001b[0m\n\u001b[0m",
            "\u001b[0;31mIndexError\u001b[0m: list index out of range"
          ]
        }
      ],
      "source": [
        "max_len = 800\n",
        "X = [s for s in token_sentences]\n",
        "new_X = []\n",
        "for seq in X:\n",
        "    new_seq = []\n",
        "    for i in range(max_len):\n",
        "        try:\n",
        "            new_seq.append(seq[i])\n",
        "        except:\n",
        "            new_seq.append(\"PAD\")\n",
        "    new_X.append(new_seq)\n",
        "new_X[15]"
      ]
    },
    {
      "cell_type": "code",
      "source": [
        "len(new_X),len(new_X[0]),max([len(i) for i in new_X])"
      ],
      "metadata": {
        "colab": {
          "base_uri": "https://localhost:8080/"
        },
        "id": "B2TY91j5Q2ju",
        "outputId": "138ca752-d05b-4969-8aea-5c3b8aeb4aea"
      },
      "execution_count": null,
      "outputs": [
        {
          "output_type": "execute_result",
          "data": {
            "text/plain": [
              "(1753, 800, 800)"
            ]
          },
          "metadata": {},
          "execution_count": 48
        }
      ]
    },
    {
      "cell_type": "code",
      "source": [
        "ner_tags_sentences['ner_tags'][0]"
      ],
      "metadata": {
        "colab": {
          "base_uri": "https://localhost:8080/"
        },
        "id": "WKaTIg8ZPeK7",
        "outputId": "f36b2c70-26a3-4c74-ef11-f5777019232a"
      },
      "execution_count": null,
      "outputs": [
        {
          "output_type": "execute_result",
          "data": {
            "text/plain": [
              "['O',\n",
              " 'O',\n",
              " 'O',\n",
              " 'O',\n",
              " 'O',\n",
              " 'O',\n",
              " 'O',\n",
              " 'O',\n",
              " 'O',\n",
              " 'O',\n",
              " 'O',\n",
              " 'O',\n",
              " 'O',\n",
              " 'O',\n",
              " 'O',\n",
              " 'O',\n",
              " 'O',\n",
              " 'O',\n",
              " 'O',\n",
              " 'O',\n",
              " 'O',\n",
              " 'O',\n",
              " 'O',\n",
              " 'O',\n",
              " 'O',\n",
              " 'B-Organization',\n",
              " 'O',\n",
              " 'O',\n",
              " 'O',\n",
              " 'O',\n",
              " 'O',\n",
              " 'B-Person',\n",
              " 'I-Person',\n",
              " 'O',\n",
              " 'B-Person',\n",
              " 'I-Person',\n",
              " 'O',\n",
              " 'O',\n",
              " 'O',\n",
              " 'O',\n",
              " 'O',\n",
              " 'O',\n",
              " 'O',\n",
              " 'O',\n",
              " 'O',\n",
              " 'O',\n",
              " 'B-Person',\n",
              " 'I-Person',\n",
              " 'O',\n",
              " 'O',\n",
              " 'O',\n",
              " 'O',\n",
              " 'B-Telescope',\n",
              " 'O',\n",
              " 'O',\n",
              " 'O',\n",
              " 'O',\n",
              " 'O',\n",
              " 'O',\n",
              " 'O',\n",
              " 'O',\n",
              " 'O',\n",
              " 'O',\n",
              " 'O',\n",
              " 'B-Telescope',\n",
              " 'B-Wavelength',\n",
              " 'O',\n",
              " 'O',\n",
              " 'O',\n",
              " 'O',\n",
              " 'O',\n",
              " 'O',\n",
              " 'O',\n",
              " 'O',\n",
              " 'B-Organization',\n",
              " 'I-Organization',\n",
              " 'O',\n",
              " 'B-Organization',\n",
              " 'I-Organization',\n",
              " 'O',\n",
              " 'O',\n",
              " 'O',\n",
              " 'O',\n",
              " 'O',\n",
              " 'O',\n",
              " 'O',\n",
              " 'B-Wavelength',\n",
              " 'O',\n",
              " 'O',\n",
              " 'B-CelestialObject',\n",
              " 'I-CelestialObject',\n",
              " 'O',\n",
              " 'O',\n",
              " 'B-Person',\n",
              " 'O',\n",
              " 'O',\n",
              " 'O',\n",
              " 'O',\n",
              " 'B-Person',\n",
              " 'I-Person',\n",
              " 'O',\n",
              " 'B-Person',\n",
              " 'I-Person',\n",
              " 'O',\n",
              " 'O',\n",
              " 'O',\n",
              " 'O',\n",
              " 'O',\n",
              " 'O',\n",
              " 'B-Telescope',\n",
              " 'I-Telescope',\n",
              " 'I-Telescope',\n",
              " 'I-Telescope',\n",
              " 'O',\n",
              " 'O',\n",
              " 'O',\n",
              " 'B-Organization',\n",
              " 'I-Organization',\n",
              " 'I-Organization',\n",
              " 'I-Organization',\n",
              " 'O',\n",
              " 'O',\n",
              " 'O',\n",
              " 'B-Organization',\n",
              " 'I-Organization',\n",
              " 'I-Organization',\n",
              " 'I-Organization',\n",
              " 'I-Organization',\n",
              " 'I-Organization',\n",
              " 'I-Organization',\n",
              " 'I-Organization',\n",
              " 'O',\n",
              " 'B-Organization',\n",
              " 'O',\n",
              " 'B-Grant',\n",
              " 'I-Grant',\n",
              " 'O',\n",
              " 'O',\n",
              " 'O',\n",
              " 'O',\n",
              " 'B-Organization',\n",
              " 'O',\n",
              " 'O',\n",
              " 'B-Grant',\n",
              " 'B-Grant',\n",
              " 'B-Grant',\n",
              " 'O',\n",
              " 'B-Grant',\n",
              " 'O',\n",
              " 'O',\n",
              " 'B-Organization',\n",
              " 'I-Organization',\n",
              " 'I-Organization',\n",
              " 'I-Organization',\n",
              " 'O',\n",
              " 'O',\n",
              " 'O',\n",
              " 'O',\n",
              " 'O',\n",
              " 'B-Organization',\n",
              " 'I-Organization',\n",
              " 'I-Organization',\n",
              " 'I-Organization',\n",
              " 'I-Organization',\n",
              " 'I-Organization',\n",
              " 'I-Organization',\n",
              " 'I-Organization',\n",
              " 'O',\n",
              " 'B-Organization',\n",
              " 'O',\n",
              " 'B-Grant',\n",
              " 'I-Grant',\n",
              " 'B-Person',\n",
              " 'O',\n",
              " 'O',\n",
              " 'B-CelestialObject',\n",
              " 'I-CelestialObject',\n",
              " 'O',\n",
              " 'O',\n",
              " 'O',\n",
              " 'O',\n",
              " 'B-Organization',\n",
              " 'O',\n",
              " 'B-Grant',\n",
              " 'O',\n",
              " 'B-Grant']"
            ]
          },
          "metadata": {},
          "execution_count": 38
        }
      ]
    },
    {
      "cell_type": "code",
      "execution_count": null,
      "metadata": {
        "id": "OulmHtedGfVd",
        "colab": {
          "base_uri": "https://localhost:8080/"
        },
        "outputId": "626e9fa3-4afd-4f6f-a2bc-68adf1629425"
      },
      "outputs": [
        {
          "output_type": "execute_result",
          "data": {
            "text/plain": [
              "array([29, 18, 18, 29, 37, 18, 18, 18, 18, 18, 18, 18, 18, 18, 18, 18, 29,\n",
              "       37, 18, 29, 37, 18, 18, 18, 18, 18, 18, 18, 18, 18, 29, 29, 18, 29,\n",
              "       18, 18, 18, 18, 45, 55, 55, 55, 55, 55, 55, 55, 45, 18, 18, 18, 29,\n",
              "       37, 18, 18, 61, 23, 23, 23, 18, 18, 18, 18, 18, 18, 18, 18, 18, 18,\n",
              "       18, 29, 18, 29, 37, 18, 18, 18, 18, 18, 58, 36, 57, 57, 57, 18, 18,\n",
              "       18, 18, 18, 18, 18, 18, 18, 18, 18, 18, 18, 61, 18, 18, 14, 12, 12,\n",
              "       12, 12, 12, 12, 29, 18, 18, 18, 18, 18, 18, 61, 23, 23, 23, 23, 23,\n",
              "       23, 23, 23, 23, 23, 18, 18, 18, 14, 18, 14, 18, 18, 18, 14, 12, 12,\n",
              "       18, 18, 18, 18, 18, 18, 61, 23, 23, 23, 23, 18, 18, 14, 18, 18, 18,\n",
              "       18, 18, 18, 61, 23, 18, 18, 14, 12, 12, 14, 18, 18, 18, 18, 18, 18,\n",
              "       18, 18, 18, 18, 18, 18, 18, 18, 60, 52, 52, 52, 52, 52, 18, 61, 23,\n",
              "       23, 23, 23, 23, 18, 18, 18, 61, 23, 23, 23, 23, 23, 23, 23, 23, 18,\n",
              "       18, 18, 14, 18, 18, 18, 18, 60, 52, 18, 61, 23, 18, 18, 18, 18, 18,\n",
              "       18, 18, 18, 18, 18, 18, 18, 18, 58, 36, 57, 18, 18, 18, 18, 18, 18,\n",
              "       18, 41, 26, 26, 26, 18, 18, 18, 18, 18, 58, 18, 18, 18, 58, 18, 18,\n",
              "       18, 36, 57, 57, 57, 57, 18, 18, 18, 18, 18, 18, 18, 18, 18, 18, 18,\n",
              "       18, 18, 18, 18, 18, 18, 18, 18, 18, 18, 18, 18, 18, 18, 18, 18, 18,\n",
              "       18, 18, 18, 18, 18, 18, 18, 18, 18, 18, 18, 18, 18, 18, 18, 18, 18,\n",
              "       18, 18, 18, 18, 18, 18, 18, 18, 18, 18, 18, 18, 18, 18, 18, 18, 18,\n",
              "       18, 18, 18, 18, 18, 18, 18, 18, 18, 18, 18, 18, 18, 18, 18, 18, 18,\n",
              "       18, 18, 18, 18, 18, 18, 18, 18, 18, 18, 18, 18, 18, 18, 18, 18, 18,\n",
              "       18, 18, 18, 18, 18, 18, 18, 18, 18, 18, 18, 18, 18, 18, 18, 18, 18,\n",
              "       18, 18, 18, 18, 18, 18, 18, 18, 18, 18, 18, 18, 18, 18, 18, 18, 18,\n",
              "       18, 18, 18, 18, 18, 18, 18, 18, 18, 18, 18, 18, 18, 18, 18, 18, 18,\n",
              "       18, 18, 18, 18, 18, 18, 18, 18, 18, 18, 18, 18, 18, 18, 18, 18, 18,\n",
              "       18, 18, 18, 18, 18, 18, 18, 18, 18, 18, 18, 18, 18, 18, 18, 18, 18,\n",
              "       18, 18, 18, 18, 18, 18, 18, 18, 18, 18, 18, 18, 18, 18, 18, 18, 18,\n",
              "       18, 18, 18, 18, 18, 18, 18, 18, 18, 18, 18, 18, 18, 18, 18, 18, 18,\n",
              "       18, 18, 18, 18, 18, 18, 18, 18, 18, 18, 18, 18, 18, 18, 18, 18, 18,\n",
              "       18, 18, 18, 18, 18, 18, 18, 18, 18, 18, 18, 18, 18, 18, 18, 18, 18,\n",
              "       18, 18, 18, 18, 18, 18, 18, 18, 18, 18, 18, 18, 18, 18, 18, 18, 18,\n",
              "       18, 18, 18, 18, 18, 18, 18, 18, 18, 18, 18, 18, 18, 18, 18, 18, 18,\n",
              "       18, 18, 18, 18, 18, 18, 18, 18, 18, 18, 18, 18, 18, 18, 18, 18, 18,\n",
              "       18, 18, 18, 18, 18, 18, 18, 18, 18, 18, 18, 18, 18, 18, 18, 18, 18,\n",
              "       18, 18, 18, 18, 18, 18, 18, 18, 18, 18, 18, 18, 18, 18, 18, 18, 18,\n",
              "       18, 18, 18, 18, 18, 18, 18, 18, 18, 18, 18, 18, 18, 18, 18, 18, 18,\n",
              "       18, 18, 18, 18, 18, 18, 18, 18, 18, 18, 18, 18, 18, 18, 18, 18, 18,\n",
              "       18, 18, 18, 18, 18, 18, 18, 18, 18, 18, 18, 18, 18, 18, 18, 18, 18,\n",
              "       18, 18, 18, 18, 18, 18, 18, 18, 18, 18, 18, 18, 18, 18, 18, 18, 18,\n",
              "       18, 18, 18, 18, 18, 18, 18, 18, 18, 18, 18, 18, 18, 18, 18, 18, 18,\n",
              "       18, 18, 18, 18, 18, 18, 18, 18, 18, 18, 18, 18, 18, 18, 18, 18, 18,\n",
              "       18, 18, 18, 18, 18, 18, 18, 18, 18, 18, 18, 18, 18, 18, 18, 18, 18,\n",
              "       18, 18, 18, 18, 18, 18, 18, 18, 18, 18, 18, 18, 18, 18, 18, 18, 18,\n",
              "       18, 18, 18, 18, 18, 18, 18, 18, 18, 18, 18, 18, 18, 18, 18, 18, 18,\n",
              "       18, 18, 18, 18, 18, 18, 18, 18, 18, 18, 18, 18, 18, 18, 18, 18, 18,\n",
              "       18, 18, 18, 18, 18, 18, 18, 18, 18, 18, 18, 18, 18, 18, 18, 18, 18,\n",
              "       18, 18, 18, 18, 18, 18, 18, 18, 18, 18, 18, 18, 18, 18, 18, 18, 18,\n",
              "       18], dtype=int32)"
            ]
          },
          "metadata": {},
          "execution_count": 40
        }
      ],
      "source": [
        "from tensorflow.keras.preprocessing.sequence import pad_sequences\n",
        "y = [[tags2index[tag] for tag in s] for s in ner_tags_sentences['ner_tags']]\n",
        "# y = []\n",
        "y = pad_sequences(maxlen=max_len, sequences=y, padding=\"post\", value=tags2index[\"O\"])\n",
        "y[15]"
      ]
    },
    {
      "cell_type": "code",
      "source": [
        "import numpy as np\n",
        "depth=n_tags\n",
        "# y = tf.one_hot(y, depth)\n",
        "y2 = np.eye(depth)[y]"
      ],
      "metadata": {
        "id": "GewCooavdRQ0"
      },
      "execution_count": null,
      "outputs": []
    },
    {
      "cell_type": "code",
      "source": [
        "from tensorflow import feature_column as fc\n",
        "\n",
        "# f = fc.embedding_column(\n",
        "#     fc.categorical_column_with_identity(key='vid', num_buckets=1500000000),\n",
        "#     dimension=10)\n",
        "street_voc = tf.feature_column.categorical_column_with_identity(\n",
        "        key='STREETW', num_buckets= __getNumberOfWords(data, 'STREETPRO') + 1)"
      ],
      "metadata": {
        "id": "rqQ6nuAdH1q6"
      },
      "execution_count": null,
      "outputs": []
    },
    {
      "cell_type": "code",
      "source": [
        "n_tags"
      ],
      "metadata": {
        "colab": {
          "base_uri": "https://localhost:8080/"
        },
        "id": "jCjk7fWtdVw3",
        "outputId": "e25e97e2-d53c-4cb2-99df-a93d2fc753dd"
      },
      "execution_count": null,
      "outputs": [
        {
          "output_type": "execute_result",
          "data": {
            "text/plain": [
              "63"
            ]
          },
          "metadata": {},
          "execution_count": 43
        }
      ]
    },
    {
      "cell_type": "code",
      "execution_count": null,
      "metadata": {
        "id": "13B8NILnxS_a"
      },
      "outputs": [],
      "source": [
        "batch_size=1024"
      ]
    },
    {
      "cell_type": "code",
      "source": [
        "from tensorflow.keras.preprocessing.text import Tokenizer\n",
        "from tensorflow.keras.preprocessing.sequence import pad_sequences\n",
        "\n",
        "tok = Tokenizer(oov_token=\"<OOV>\")"
      ],
      "metadata": {
        "id": "tSXtTRA9DWBF"
      },
      "execution_count": null,
      "outputs": []
    },
    {
      "cell_type": "code",
      "source": [
        "sentences = token_sentences['tokens']"
      ],
      "metadata": {
        "id": "wuX9ITAAQvYu"
      },
      "execution_count": null,
      "outputs": []
    },
    {
      "cell_type": "code",
      "source": [
        "tok.fit_on_texts(sentences)\n",
        "X2 = tok.texts_to_sequences(sentences)\n",
        "padded_X = pad_sequences(X2,padding=\"post\",maxlen=800)"
      ],
      "metadata": {
        "id": "Qi3luYlgLpnw"
      },
      "execution_count": null,
      "outputs": []
    },
    {
      "cell_type": "code",
      "source": [
        "import json\n",
        "# json_ob= json.dumps(tok.word_index,indent=4)\n",
        "with open(\"training_word_index_new.json\",\"w\") as outfile:\n",
        "  json.dump(tok.word_index, outfile)"
      ],
      "metadata": {
        "id": "RpRcv2yZAvtw"
      },
      "execution_count": null,
      "outputs": []
    },
    {
      "cell_type": "code",
      "source": [
        "padded_X.shape"
      ],
      "metadata": {
        "colab": {
          "base_uri": "https://localhost:8080/"
        },
        "id": "PAbzMEqEZjfE",
        "outputId": "61864edf-8452-457f-b943-eea255a459ac"
      },
      "execution_count": null,
      "outputs": [
        {
          "output_type": "execute_result",
          "data": {
            "text/plain": [
              "(1753, 800)"
            ]
          },
          "metadata": {},
          "execution_count": 55
        }
      ]
    },
    {
      "cell_type": "code",
      "source": [
        "# from keras.utils import to_categorical\n",
        "# y2 = [tf.keras.utils.to_categorical(i, num_classes=n_tags) for i in y]"
      ],
      "metadata": {
        "id": "-kunPgsJTSml"
      },
      "execution_count": null,
      "outputs": []
    },
    {
      "cell_type": "code",
      "execution_count": null,
      "metadata": {
        "id": "yN9baJarGurF"
      },
      "outputs": [],
      "source": [
        "# from sklearn.model_selection import train_test_split\n",
        "# X_tr, X_val, y_tr, y_val = train_test_split(new_X_padded, y, test_size=0.1, random_state=2021)"
      ]
    },
    {
      "cell_type": "code",
      "source": [
        "from sklearn.model_selection import train_test_split\n",
        "X_tr, X_val, y_tr, y_val = train_test_split(padded_X, y2, test_size=0.1, random_state=2021)"
      ],
      "metadata": {
        "id": "69HkeYnSNyEG"
      },
      "execution_count": null,
      "outputs": []
    },
    {
      "cell_type": "code",
      "execution_count": null,
      "metadata": {
        "id": "WH2dEAijTeWs"
      },
      "outputs": [],
      "source": [
        "# y_tr, y_val = y_tr[:1213*batch_size], y_tr[-135*batch_size:]\n",
        "import tensorflow as tf\n",
        "y_tr = tf.convert_to_tensor(y_tr)\n",
        "y_val = tf.convert_to_tensor(y_val)\n",
        "\n",
        "# y_tr = tf.reshape(y_tr, (y_tr.shape[0], y_tr.shape[1], y_tr.shape[2],1))\n",
        "# y_val = tf.reshape(y_val,(y_val.shape[0], y_val.shape[1], y_tr.shape[2],1))"
      ]
    },
    {
      "cell_type": "code",
      "source": [
        "X_tr = tf.convert_to_tensor(X_tr)\n",
        "X_val = tf.convert_to_tensor(X_val)"
      ],
      "metadata": {
        "id": "XQqeqrtNMwEX"
      },
      "execution_count": null,
      "outputs": []
    },
    {
      "cell_type": "code",
      "source": [
        "y_tr.shape,y_val.shape"
      ],
      "metadata": {
        "colab": {
          "base_uri": "https://localhost:8080/"
        },
        "id": "PsNMNiRWhU_Y",
        "outputId": "528a78cd-d95e-43ea-ffb6-549a3e10ba46"
      },
      "execution_count": null,
      "outputs": [
        {
          "output_type": "execute_result",
          "data": {
            "text/plain": [
              "(TensorShape([1577, 800, 63]), TensorShape([176, 800, 63]))"
            ]
          },
          "metadata": {},
          "execution_count": 60
        }
      ]
    },
    {
      "cell_type": "code",
      "source": [
        "X_tr.shape,X_val.shape"
      ],
      "metadata": {
        "id": "dJtyUmD6JVvf",
        "colab": {
          "base_uri": "https://localhost:8080/"
        },
        "outputId": "48f5006a-2766-4f7e-9773-0f1f8bb4a38d"
      },
      "execution_count": null,
      "outputs": [
        {
          "output_type": "execute_result",
          "data": {
            "text/plain": [
              "(TensorShape([1577, 800]), TensorShape([176, 800]))"
            ]
          },
          "metadata": {},
          "execution_count": 61
        }
      ]
    },
    {
      "cell_type": "code",
      "source": [
        "batch_size=32\n",
        "train_data = tf.data.Dataset.from_tensor_slices((X_tr,y_tr)).batch(batch_size)\n",
        "val_data =   tf.data.Dataset.from_tensor_slices((X_val,y_val)).batch(batch_size)"
      ],
      "metadata": {
        "id": "HAe8yr11OnI7"
      },
      "execution_count": null,
      "outputs": []
    },
    {
      "cell_type": "code",
      "source": [
        "train_data.element_spec"
      ],
      "metadata": {
        "colab": {
          "base_uri": "https://localhost:8080/"
        },
        "id": "OT6Mk3e7jE88",
        "outputId": "565d3341-10f6-492a-aa4f-0771c38530e4"
      },
      "execution_count": null,
      "outputs": [
        {
          "output_type": "execute_result",
          "data": {
            "text/plain": [
              "(TensorSpec(shape=(None, 800), dtype=tf.string, name=None),\n",
              " TensorSpec(shape=(None, 800), dtype=tf.int32, name=None))"
            ]
          },
          "metadata": {},
          "execution_count": 346
        }
      ]
    },
    {
      "cell_type": "code",
      "source": [
        ""
      ],
      "metadata": {
        "id": "ZjgpPxEwz_cb"
      },
      "execution_count": null,
      "outputs": []
    },
    {
      "cell_type": "markdown",
      "source": [
        "## Glove and model training"
      ],
      "metadata": {
        "id": "F8ZOuD8-hECH"
      }
    },
    {
      "cell_type": "code",
      "source": [
        "!wget --no-check-certificate \\\n",
        "     http://nlp.stanford.edu/data/glove.6B.zip \\\n",
        "     -O /tmp/glove.6B.zip"
      ],
      "metadata": {
        "colab": {
          "base_uri": "https://localhost:8080/"
        },
        "id": "XUJl1h6-fjYA",
        "outputId": "5af8af72-0037-4b1a-81e0-fde9793ddaad"
      },
      "execution_count": null,
      "outputs": [
        {
          "output_type": "stream",
          "name": "stdout",
          "text": [
            "--2022-07-29 09:25:25--  http://nlp.stanford.edu/data/glove.6B.zip\n",
            "Resolving nlp.stanford.edu (nlp.stanford.edu)... 171.64.67.140\n",
            "Connecting to nlp.stanford.edu (nlp.stanford.edu)|171.64.67.140|:80... connected.\n",
            "HTTP request sent, awaiting response... 302 Found\n",
            "Location: https://nlp.stanford.edu/data/glove.6B.zip [following]\n",
            "--2022-07-29 09:25:25--  https://nlp.stanford.edu/data/glove.6B.zip\n",
            "Connecting to nlp.stanford.edu (nlp.stanford.edu)|171.64.67.140|:443... connected.\n",
            "HTTP request sent, awaiting response... 301 Moved Permanently\n",
            "Location: https://downloads.cs.stanford.edu/nlp/data/glove.6B.zip [following]\n",
            "--2022-07-29 09:25:26--  https://downloads.cs.stanford.edu/nlp/data/glove.6B.zip\n",
            "Resolving downloads.cs.stanford.edu (downloads.cs.stanford.edu)... 171.64.64.22\n",
            "Connecting to downloads.cs.stanford.edu (downloads.cs.stanford.edu)|171.64.64.22|:443... connected.\n",
            "HTTP request sent, awaiting response... 200 OK\n",
            "Length: 862182613 (822M) [application/zip]\n",
            "Saving to: ‘/tmp/glove.6B.zip’\n",
            "\n",
            "/tmp/glove.6B.zip   100%[===================>] 822.24M  5.01MB/s    in 2m 39s  \n",
            "\n",
            "2022-07-29 09:28:05 (5.16 MB/s) - ‘/tmp/glove.6B.zip’ saved [862182613/862182613]\n",
            "\n"
          ]
        }
      ]
    },
    {
      "cell_type": "code",
      "source": [
        "import os\n",
        "import zipfile\n",
        "with zipfile.ZipFile('/tmp/glove.6B.zip', 'r') as zip_ref:\n",
        "    zip_ref.extractall('/tmp/glove')"
      ],
      "metadata": {
        "id": "SVMvkGmWgG5X"
      },
      "execution_count": null,
      "outputs": []
    },
    {
      "cell_type": "code",
      "source": [
        "import numpy as np\n",
        "embeddings_index = {}\n",
        "f = open('/tmp/glove/glove.6B.100d.txt')\n",
        "for line in f:\n",
        "    values = line.split()\n",
        "    word = values[0]\n",
        "    coefs = np.asarray(values[1:], dtype='float32')\n",
        "    embeddings_index[word] = coefs\n",
        "f.close()\n",
        "\n",
        "print('Found %s word vectors.' % len(embeddings_index))"
      ],
      "metadata": {
        "colab": {
          "base_uri": "https://localhost:8080/"
        },
        "id": "i8Ge3EpagR7_",
        "outputId": "091f6f34-5029-4cdb-fe49-f985fde198dd"
      },
      "execution_count": null,
      "outputs": [
        {
          "output_type": "stream",
          "name": "stdout",
          "text": [
            "Found 400000 word vectors.\n"
          ]
        }
      ]
    },
    {
      "cell_type": "code",
      "source": [
        ""
      ],
      "metadata": {
        "id": "_ziTtGIbCZCv"
      },
      "execution_count": null,
      "outputs": []
    },
    {
      "cell_type": "code",
      "source": [
        "# from numpy import asarray\n",
        "# from numpy import savetxt\n",
        "# savetxt('embeddings_index.csv', embeddings_index, delimiter=',',fmt=\"%s\")"
      ],
      "metadata": {
        "id": "g8OBWn4gB0sn"
      },
      "execution_count": null,
      "outputs": []
    },
    {
      "cell_type": "code",
      "source": [
        "len(list(word_index.keys()))"
      ],
      "metadata": {
        "colab": {
          "base_uri": "https://localhost:8080/"
        },
        "id": "10K5hc7XhEEY",
        "outputId": "e2801755-d1cc-4adf-e9de-c2280ed8bffd"
      },
      "execution_count": null,
      "outputs": [
        {
          "output_type": "execute_result",
          "data": {
            "text/plain": [
              "157"
            ]
          },
          "metadata": {},
          "execution_count": 72
        }
      ]
    },
    {
      "cell_type": "code",
      "source": [
        "max_length=100\n",
        "word_index=tok.word_index\n",
        "embedding_matrix = np.zeros((len(tok.word_index) + 1, max_length))\n",
        "for word, i in word_index.items():\n",
        "    embedding_vector = embeddings_index.get(word)\n",
        "    if embedding_vector is not None:\n",
        "        # words not found in embedding index will be all-zeros.\n",
        "        embedding_matrix[i] = embedding_vector"
      ],
      "metadata": {
        "id": "Cue6zwVtgdAv"
      },
      "execution_count": null,
      "outputs": []
    },
    {
      "cell_type": "code",
      "source": [
        "from tensorflow.keras.layers import Embedding, LSTM, Dense, Bidirectional\n",
        "\n",
        "embedding_layer = Embedding(input_dim=len(word_index) + 1,\n",
        "                            output_dim=max_length,\n",
        "                            weights=[embedding_matrix],\n",
        "                            input_length=max_length,\n",
        "                            trainable=True)"
      ],
      "metadata": {
        "id": "clr19f1fhSe9"
      },
      "execution_count": null,
      "outputs": []
    },
    {
      "cell_type": "code",
      "source": [
        "n_tokens = 63\n",
        "from tensorflow.keras.layers import Input\n",
        "from tensorflow.keras.models import Sequential\n",
        "\n",
        "model = Sequential([\n",
        "    Input((800,)),\n",
        "    embedding_layer,\n",
        "    Bidirectional(LSTM(150, return_sequences=True)), \n",
        "    Bidirectional(LSTM(150,return_sequences=True)),\n",
        "    # Dense(128, activation='relu'),\n",
        "   Dense(n_tokens, activation='softmax')\n",
        "])"
      ],
      "metadata": {
        "id": "qYHbmOMci3dz"
      },
      "execution_count": null,
      "outputs": []
    },
    {
      "cell_type": "code",
      "source": [
        "model.compile(loss='categorical_crossentropy',optimizer='adam',metrics=['accuracy'])\n"
      ],
      "metadata": {
        "id": "4qVUQm8YjBR0"
      },
      "execution_count": null,
      "outputs": []
    },
    {
      "cell_type": "code",
      "source": [
        "model.summary()"
      ],
      "metadata": {
        "colab": {
          "base_uri": "https://localhost:8080/"
        },
        "id": "PXqZkIknElRI",
        "outputId": "bdcff711-142b-468b-acad-cc3d8488939a"
      },
      "execution_count": null,
      "outputs": [
        {
          "output_type": "stream",
          "name": "stdout",
          "text": [
            "Model: \"sequential\"\n",
            "_________________________________________________________________\n",
            " Layer (type)                Output Shape              Param #   \n",
            "=================================================================\n",
            " embedding (Embedding)       (None, 800, 100)          4575500   \n",
            "                                                                 \n",
            " bidirectional (Bidirectiona  (None, 800, 300)         301200    \n",
            " l)                                                              \n",
            "                                                                 \n",
            " bidirectional_1 (Bidirectio  (None, 800, 300)         541200    \n",
            " nal)                                                            \n",
            "                                                                 \n",
            " dense (Dense)               (None, 800, 63)           18963     \n",
            "                                                                 \n",
            "=================================================================\n",
            "Total params: 5,436,863\n",
            "Trainable params: 5,436,863\n",
            "Non-trainable params: 0\n",
            "_________________________________________________________________\n"
          ]
        }
      ]
    },
    {
      "cell_type": "code",
      "source": [
        "tf.keras.utils.plot_model(model)"
      ],
      "metadata": {
        "colab": {
          "base_uri": "https://localhost:8080/",
          "height": 466
        },
        "id": "1IAa_hFSR8UV",
        "outputId": "f21c14be-9889-4a06-ba65-5916d08c4919"
      },
      "execution_count": null,
      "outputs": [
        {
          "output_type": "execute_result",
          "data": {
            "text/plain": [
              "<IPython.core.display.Image object>"
            ],
            "image/png": "[encoded data removed]"
          },
          "metadata": {},
          "execution_count": 72
        }
      ]
    },
    {
      "cell_type": "code",
      "source": [
        "from tensorflow.keras.callbacks import EarlyStopping, TensorBoard\n",
        "%load_ext tensorboard\n",
        "%rm -rf logs\n",
        "\n",
        "log_folder = 'logs'\n",
        "callbacks = [\n",
        "            EarlyStopping(patience = 10),\n",
        "            TensorBoard(log_dir=log_folder)\n",
        "            ]\n",
        "num_epochs = 10\n",
        "history = model.fit(X_tr, y_tr, epochs=num_epochs, validation_data=(X_val, y_val),callbacks=callbacks)"
      ],
      "metadata": {
        "colab": {
          "base_uri": "https://localhost:8080/"
        },
        "id": "WUx5FezzjFTE",
        "outputId": "047b561a-c066-4b5e-884b-78f5b4e0bfe8"
      },
      "execution_count": null,
      "outputs": [
        {
          "output_type": "stream",
          "name": "stdout",
          "text": [
            "Epoch 1/10\n",
            "50/50 [==============================] - 303s 6s/step - loss: 0.8122 - accuracy: 0.9096 - val_loss: 0.3858 - val_accuracy: 0.9242\n",
            "Epoch 2/10\n",
            "50/50 [==============================] - 287s 6s/step - loss: 0.2937 - accuracy: 0.9371 - val_loss: 0.2550 - val_accuracy: 0.9432\n",
            "Epoch 3/10\n",
            "50/50 [==============================] - 284s 6s/step - loss: 0.2081 - accuracy: 0.9510 - val_loss: 0.2031 - val_accuracy: 0.9542\n",
            "Epoch 4/10\n",
            "50/50 [==============================] - 287s 6s/step - loss: 0.1689 - accuracy: 0.9594 - val_loss: 0.1770 - val_accuracy: 0.9585\n",
            "Epoch 5/10\n",
            "50/50 [==============================] - 286s 6s/step - loss: 0.1438 - accuracy: 0.9643 - val_loss: 0.1602 - val_accuracy: 0.9615\n",
            "Epoch 6/10\n",
            "50/50 [==============================] - 286s 6s/step - loss: 0.1245 - accuracy: 0.9682 - val_loss: 0.1485 - val_accuracy: 0.9639\n",
            "Epoch 7/10\n",
            "50/50 [==============================] - 283s 6s/step - loss: 0.1090 - accuracy: 0.9719 - val_loss: 0.1394 - val_accuracy: 0.9659\n",
            "Epoch 8/10\n",
            "50/50 [==============================] - 285s 6s/step - loss: 0.0960 - accuracy: 0.9750 - val_loss: 0.1326 - val_accuracy: 0.9669\n",
            "Epoch 9/10\n",
            "50/50 [==============================] - 285s 6s/step - loss: 0.0849 - accuracy: 0.9779 - val_loss: 0.1276 - val_accuracy: 0.9695\n",
            "Epoch 10/10\n",
            "50/50 [==============================] - 282s 6s/step - loss: 0.0754 - accuracy: 0.9806 - val_loss: 0.1322 - val_accuracy: 0.9687\n"
          ]
        }
      ]
    },
    {
      "cell_type": "code",
      "source": [
        "history.history"
      ],
      "metadata": {
        "colab": {
          "base_uri": "https://localhost:8080/"
        },
        "id": "9rKh0meJ47Q6",
        "outputId": "7ece9655-aa3a-49ba-c108-f954cb540cc4"
      },
      "execution_count": null,
      "outputs": [
        {
          "output_type": "execute_result",
          "data": {
            "text/plain": [
              "{'accuracy': [0.9334725737571716,\n",
              "  0.9458948969841003,\n",
              "  0.9554153680801392,\n",
              "  0.9608465433120728,\n",
              "  0.9659147262573242,\n",
              "  0.9699690937995911,\n",
              "  0.973298192024231,\n",
              "  0.9767025709152222,\n",
              "  0.9800657629966736,\n",
              "  0.9822907447814941],\n",
              " 'loss': [0.33439427614212036,\n",
              "  0.23264430463314056,\n",
              "  0.18514850735664368,\n",
              "  0.15713165700435638,\n",
              "  0.13359859585762024,\n",
              "  0.11459940671920776,\n",
              "  0.10176566988229752,\n",
              "  0.08771564066410065,\n",
              "  0.0760321244597435,\n",
              "  0.06727554649114609],\n",
              " 'val_accuracy': [0.9412428736686707,\n",
              "  0.9529403448104858,\n",
              "  0.9603906273841858,\n",
              "  0.9646590948104858,\n",
              "  0.9688210487365723,\n",
              "  0.9707457423210144,\n",
              "  0.9730823636054993,\n",
              "  0.9748082160949707,\n",
              "  0.9759871959686279,\n",
              "  0.9755184650421143],\n",
              " 'val_loss': [0.26252374053001404,\n",
              "  0.19726237654685974,\n",
              "  0.162498340010643,\n",
              "  0.14505882561206818,\n",
              "  0.12670987844467163,\n",
              "  0.11636484414339066,\n",
              "  0.1067274734377861,\n",
              "  0.09938541054725647,\n",
              "  0.0954926535487175,\n",
              "  0.09480059891939163]}"
            ]
          },
          "metadata": {},
          "execution_count": 406
        }
      ]
    },
    {
      "cell_type": "code",
      "source": [
        "model.save_weights(\"10epochs_glove_embeddings.h5\")"
      ],
      "metadata": {
        "id": "vWuQtrMtAbid"
      },
      "execution_count": null,
      "outputs": []
    },
    {
      "cell_type": "code",
      "source": [
        "model.weights[0]"
      ],
      "metadata": {
        "colab": {
          "base_uri": "https://localhost:8080/"
        },
        "id": "TlDLRYskw2zV",
        "outputId": "ca131194-ab5f-4362-b238-e51488ef4750"
      },
      "execution_count": null,
      "outputs": [
        {
          "output_type": "execute_result",
          "data": {
            "text/plain": [
              "<tf.Variable 'embedding/embeddings:0' shape=(45755, 100) dtype=float32, numpy=\n",
              "array([[ 0.01449303,  0.01366468,  0.01571373, ..., -0.00738354,\n",
              "         0.0109899 ,  0.01564102],\n",
              "       [ 0.        ,  0.        ,  0.        , ...,  0.        ,\n",
              "         0.        ,  0.        ],\n",
              "       [-0.04311869, -0.23144376,  0.7724704 , ..., -0.16317604,\n",
              "         0.8550257 ,  0.32174668],\n",
              "       ...,\n",
              "       [-0.05088813,  0.05933478,  0.0443586 , ..., -0.0467894 ,\n",
              "         0.05384191,  0.0554083 ],\n",
              "       [-0.04405241,  0.04896298,  0.04176657, ..., -0.03685854,\n",
              "         0.04123592,  0.04414182],\n",
              "       [ 0.03333949, -0.03438727, -0.03096041, ...,  0.02885388,\n",
              "        -0.02427114, -0.03518065]], dtype=float32)>"
            ]
          },
          "metadata": {},
          "execution_count": 75
        }
      ]
    },
    {
      "cell_type": "code",
      "source": [
        "%matplotlib inline\n",
        "fig=plt.figure(figsize=(10,5))\n",
        "x1=np.array([i for i in range(1,11)])\n",
        "\n",
        "\n",
        "l1=plt.plot(x1,history.history[\"accuracy\"], color=\"r\")\n",
        "l2=plt.plot(x1,history.history[\"val_accuracy\"], color=\"b\", linestyle=\"dashed\")\n",
        "plt.title(\"Accuracy vs epochs\")\n",
        "plt.xlabel(\"Number of epochs\")\n",
        "plt.ylabel(\"Accuracy in %\")\n",
        "plt.legend([\"Training accuracy\",\"Validation accuracy\"])\n",
        "plt.show()"
      ],
      "metadata": {
        "colab": {
          "base_uri": "https://localhost:8080/",
          "height": 354
        },
        "id": "dGULIs3tw9tJ",
        "outputId": "d91d6abc-d6de-4d67-d392-f39d211a8c2b"
      },
      "execution_count": null,
      "outputs": [
        {
          "output_type": "display_data",
          "data": {
            "text/plain": [
              "<Figure size 720x360 with 1 Axes>"
            ],
            "image/png": "[encoded data removed]"
          },
          "metadata": {
            "needs_background": "light"
          }
        }
      ]
    },
    {
      "cell_type": "code",
      "source": [
        "%matplotlib inline\n",
        "fig=plt.figure(figsize=(10,5))\n",
        "x1=np.array([i for i in range(1,11)])\n",
        "\n",
        "\n",
        "l1=plt.plot(x1,history.history[\"loss\"], color=\"r\")\n",
        "l2=plt.plot(x1,history.history[\"val_loss\"], color=\"b\", linestyle=\"dashed\")\n",
        "plt.title(\"Loss vs epochs\")\n",
        "plt.xlabel(\"Number of epochs\")\n",
        "plt.ylabel(\"Loss\")\n",
        "plt.legend([\"Training loss\",\"Validation loss\"])\n",
        "plt.show()"
      ],
      "metadata": {
        "colab": {
          "base_uri": "https://localhost:8080/",
          "height": 354
        },
        "id": "qAleKHCrzVTf",
        "outputId": "3df3e439-e5d7-47a4-f907-71f9f4b87449"
      },
      "execution_count": null,
      "outputs": [
        {
          "output_type": "display_data",
          "data": {
            "text/plain": [
              "<Figure size 720x360 with 1 Axes>"
            ],
            "image/png": "[encoded data removed]"
          },
          "metadata": {
            "needs_background": "light"
          }
        }
      ]
    },
    {
      "cell_type": "markdown",
      "source": [
        "## Validation data load"
      ],
      "metadata": {
        "id": "KTGZcjgr0PV-"
      }
    },
    {
      "cell_type": "code",
      "execution_count": null,
      "metadata": {
        "id": "6Bo-h9gj0SUp"
      },
      "outputs": [],
      "source": [
        "import json\n",
        "import pandas as pd\n",
        "import matplotlib.pyplot as plt\n",
        "plt.style.use(\"ggplot\")"
      ]
    },
    {
      "cell_type": "code",
      "execution_count": null,
      "metadata": {
        "id": "Ub2DYTL10SUr"
      },
      "outputs": [],
      "source": [
        "df = pd.DataFrame([],columns=['bibcode', 'label_studio_id', 'section',\n",
        "       'tokens', 'unique_id'])"
      ]
    },
    {
      "cell_type": "code",
      "execution_count": null,
      "metadata": {
        "id": "xLf-qrcZ0SUs"
      },
      "outputs": [],
      "source": [
        "with open(\"/content/WIESP2022-NER-VALIDATION-NO-LABELS (1).jsonl\", 'r') as f:\n",
        "    wiesp_dev_json = [json.loads(l) for l in list(f)]"
      ]
    },
    {
      "cell_type": "code",
      "execution_count": null,
      "metadata": {
        "id": "mZg9fB510SUt"
      },
      "outputs": [],
      "source": [
        "for i in wiesp_dev_json:\n",
        "  df=df.append(pd.DataFrame(i))"
      ]
    },
    {
      "cell_type": "code",
      "execution_count": null,
      "metadata": {
        "colab": {
          "base_uri": "https://localhost:8080/",
          "height": 206
        },
        "outputId": "049e2b3b-fe06-4288-9cc8-78414337e63c",
        "id": "0cia01-t0SUu"
      },
      "outputs": [
        {
          "output_type": "execute_result",
          "data": {
            "text/plain": [
              "               bibcode label_studio_id   section   tokens  \\\n",
              "0  2016A&A...586A.140P            1778  fulltext     that   \n",
              "1  2016A&A...586A.140P            1778  fulltext      gas   \n",
              "2  2016A&A...586A.140P            1778  fulltext  outside   \n",
              "3  2016A&A...586A.140P            1778  fulltext   halos,   \n",
              "4  2016A&A...586A.140P            1778  fulltext      not   \n",
              "\n",
              "                           unique_id  \n",
              "0  fulltext_1778_2016A&A...586A.140P  \n",
              "1  fulltext_1778_2016A&A...586A.140P  \n",
              "2  fulltext_1778_2016A&A...586A.140P  \n",
              "3  fulltext_1778_2016A&A...586A.140P  \n",
              "4  fulltext_1778_2016A&A...586A.140P  "
            ],
            "text/html": [
              "\n",
              "  <div id=\"df-03b08ab5-0136-44dc-86db-0450724aa4e0\">\n",
              "    <div class=\"colab-df-container\">\n",
              "      <div>\n",
              "<style scoped>\n",
              "    .dataframe tbody tr th:only-of-type {\n",
              "        vertical-align: middle;\n",
              "    }\n",
              "\n",
              "    .dataframe tbody tr th {\n",
              "        vertical-align: top;\n",
              "    }\n",
              "\n",
              "    .dataframe thead th {\n",
              "        text-align: right;\n",
              "    }\n",
              "</style>\n",
              "<table border=\"1\" class=\"dataframe\">\n",
              "  <thead>\n",
              "    <tr style=\"text-align: right;\">\n",
              "      <th></th>\n",
              "      <th>bibcode</th>\n",
              "      <th>label_studio_id</th>\n",
              "      <th>section</th>\n",
              "      <th>tokens</th>\n",
              "      <th>unique_id</th>\n",
              "    </tr>\n",
              "  </thead>\n",
              "  <tbody>\n",
              "    <tr>\n",
              "      <th>0</th>\n",
              "      <td>2016A&amp;A...586A.140P</td>\n",
              "      <td>1778</td>\n",
              "      <td>fulltext</td>\n",
              "      <td>that</td>\n",
              "      <td>fulltext_1778_2016A&amp;A...586A.140P</td>\n",
              "    </tr>\n",
              "    <tr>\n",
              "      <th>1</th>\n",
              "      <td>2016A&amp;A...586A.140P</td>\n",
              "      <td>1778</td>\n",
              "      <td>fulltext</td>\n",
              "      <td>gas</td>\n",
              "      <td>fulltext_1778_2016A&amp;A...586A.140P</td>\n",
              "    </tr>\n",
              "    <tr>\n",
              "      <th>2</th>\n",
              "      <td>2016A&amp;A...586A.140P</td>\n",
              "      <td>1778</td>\n",
              "      <td>fulltext</td>\n",
              "      <td>outside</td>\n",
              "      <td>fulltext_1778_2016A&amp;A...586A.140P</td>\n",
              "    </tr>\n",
              "    <tr>\n",
              "      <th>3</th>\n",
              "      <td>2016A&amp;A...586A.140P</td>\n",
              "      <td>1778</td>\n",
              "      <td>fulltext</td>\n",
              "      <td>halos,</td>\n",
              "      <td>fulltext_1778_2016A&amp;A...586A.140P</td>\n",
              "    </tr>\n",
              "    <tr>\n",
              "      <th>4</th>\n",
              "      <td>2016A&amp;A...586A.140P</td>\n",
              "      <td>1778</td>\n",
              "      <td>fulltext</td>\n",
              "      <td>not</td>\n",
              "      <td>fulltext_1778_2016A&amp;A...586A.140P</td>\n",
              "    </tr>\n",
              "  </tbody>\n",
              "</table>\n",
              "</div>\n",
              "      <button class=\"colab-df-convert\" onclick=\"convertToInteractive('df-03b08ab5-0136-44dc-86db-0450724aa4e0')\"\n",
              "              title=\"Convert this dataframe to an interactive table.\"\n",
              "              style=\"display:none;\">\n",
              "        \n",
              "  <svg xmlns=\"http://www.w3.org/2000/svg\" height=\"24px\"viewBox=\"0 0 24 24\"\n",
              "       width=\"24px\">\n",
              "    <path d=\"M0 0h24v24H0V0z\" fill=\"none\"/>\n",
              "    <path d=\"M18.56 5.44l.94 2.06.94-2.06 2.06-.94-2.06-.94-.94-2.06-.94 2.06-2.06.94zm-11 1L8.5 8.5l.94-2.06 2.06-.94-2.06-.94L8.5 2.5l-.94 2.06-2.06.94zm10 10l.94 2.06.94-2.06 2.06-.94-2.06-.94-.94-2.06-.94 2.06-2.06.94z\"/><path d=\"M17.41 7.96l-1.37-1.37c-.4-.4-.92-.59-1.43-.59-.52 0-1.04.2-1.43.59L10.3 9.45l-7.72 7.72c-.78.78-.78 2.05 0 2.83L4 21.41c.39.39.9.59 1.41.59.51 0 1.02-.2 1.41-.59l7.78-7.78 2.81-2.81c.8-.78.8-2.07 0-2.86zM5.41 20L4 18.59l7.72-7.72 1.47 1.35L5.41 20z\"/>\n",
              "  </svg>\n",
              "      </button>\n",
              "      \n",
              "  <style>\n",
              "    .colab-df-container {\n",
              "      display:flex;\n",
              "      flex-wrap:wrap;\n",
              "      gap: 12px;\n",
              "    }\n",
              "\n",
              "    .colab-df-convert {\n",
              "      background-color: #E8F0FE;\n",
              "      border: none;\n",
              "      border-radius: 50%;\n",
              "      cursor: pointer;\n",
              "      display: none;\n",
              "      fill: #1967D2;\n",
              "      height: 32px;\n",
              "      padding: 0 0 0 0;\n",
              "      width: 32px;\n",
              "    }\n",
              "\n",
              "    .colab-df-convert:hover {\n",
              "      background-color: #E2EBFA;\n",
              "      box-shadow: 0px 1px 2px rgba(60, 64, 67, 0.3), 0px 1px 3px 1px rgba(60, 64, 67, 0.15);\n",
              "      fill: #174EA6;\n",
              "    }\n",
              "\n",
              "    [theme=dark] .colab-df-convert {\n",
              "      background-color: #3B4455;\n",
              "      fill: #D2E3FC;\n",
              "    }\n",
              "\n",
              "    [theme=dark] .colab-df-convert:hover {\n",
              "      background-color: #434B5C;\n",
              "      box-shadow: 0px 1px 3px 1px rgba(0, 0, 0, 0.15);\n",
              "      filter: drop-shadow(0px 1px 2px rgba(0, 0, 0, 0.3));\n",
              "      fill: #FFFFFF;\n",
              "    }\n",
              "  </style>\n",
              "\n",
              "      <script>\n",
              "        const buttonEl =\n",
              "          document.querySelector('#df-03b08ab5-0136-44dc-86db-0450724aa4e0 button.colab-df-convert');\n",
              "        buttonEl.style.display =\n",
              "          google.colab.kernel.accessAllowed ? 'block' : 'none';\n",
              "\n",
              "        async function convertToInteractive(key) {\n",
              "          const element = document.querySelector('#df-03b08ab5-0136-44dc-86db-0450724aa4e0');\n",
              "          const dataTable =\n",
              "            await google.colab.kernel.invokeFunction('convertToInteractive',\n",
              "                                                     [key], {});\n",
              "          if (!dataTable) return;\n",
              "\n",
              "          const docLinkHtml = 'Like what you see? Visit the ' +\n",
              "            '<a target=\"_blank\" href=https://colab.research.google.com/notebooks/data_table.ipynb>data table notebook</a>'\n",
              "            + ' to learn more about interactive tables.';\n",
              "          element.innerHTML = '';\n",
              "          dataTable['output_type'] = 'display_data';\n",
              "          await google.colab.output.renderOutput(dataTable, element);\n",
              "          const docLink = document.createElement('div');\n",
              "          docLink.innerHTML = docLinkHtml;\n",
              "          element.appendChild(docLink);\n",
              "        }\n",
              "      </script>\n",
              "    </div>\n",
              "  </div>\n",
              "  "
            ]
          },
          "metadata": {},
          "execution_count": 112
        }
      ],
      "source": [
        "df.head()"
      ]
    },
    {
      "cell_type": "code",
      "execution_count": null,
      "metadata": {
        "id": "fq1I_Ulo0SUv"
      },
      "outputs": [],
      "source": [
        "sent=list(df['unique_id'].unique())"
      ]
    },
    {
      "cell_type": "code",
      "execution_count": null,
      "metadata": {
        "colab": {
          "base_uri": "https://localhost:8080/"
        },
        "outputId": "867a1f54-5cf9-45df-a8bc-1e851fcc5b40",
        "id": "ee54Mu5R0SUw"
      },
      "outputs": [
        {
          "output_type": "stream",
          "name": "stdout",
          "text": [
            "fulltext_1778_2016A&A...586A.140P\n"
          ]
        }
      ],
      "source": [
        "print(sent[0])"
      ]
    },
    {
      "cell_type": "code",
      "execution_count": null,
      "metadata": {
        "colab": {
          "base_uri": "https://localhost:8080/"
        },
        "outputId": "5308669b-bf01-4ba4-e13b-13b7de9034e0",
        "id": "Oop4hAmQ0SUw"
      },
      "outputs": [
        {
          "output_type": "execute_result",
          "data": {
            "text/plain": [
              "42035"
            ]
          },
          "metadata": {},
          "execution_count": 115
        }
      ],
      "source": [
        "words = set(list(df['tokens'].values))\n",
        "words.add('PAD')\n",
        "n_words = len(words)\n",
        "n_words"
      ]
    },
    {
      "cell_type": "code",
      "execution_count": null,
      "metadata": {
        "id": "tnGjG73u0SUx"
      },
      "outputs": [],
      "source": [
        "# tags = list(set(df[\"ner_tags\"].values))\n",
        "# n_tags = len(tags)\n",
        "# n_tags"
      ]
    },
    {
      "cell_type": "code",
      "execution_count": null,
      "metadata": {
        "id": "-OTDDPbs0SUz"
      },
      "outputs": [],
      "source": [
        "sentences_test = pd.DataFrame(df[['unique_id','tokens']].groupby('unique_id')['tokens'].apply(list))[\"tokens\"]"
      ]
    },
    {
      "cell_type": "code",
      "execution_count": null,
      "metadata": {
        "colab": {
          "base_uri": "https://localhost:8080/"
        },
        "outputId": "c1a28458-050e-4da3-f890-56afc2338603",
        "id": "wcSgNlk70SUz"
      },
      "outputs": [
        {
          "output_type": "stream",
          "name": "stdout",
          "text": [
            "biggest sentence has 913 words\n"
          ]
        }
      ],
      "source": [
        "largest_sen = max(len(sen) for sen in sentences_test)\n",
        "print('biggest sentence has {} words'.format(largest_sen))"
      ]
    },
    {
      "cell_type": "code",
      "execution_count": null,
      "metadata": {
        "colab": {
          "base_uri": "https://localhost:8080/",
          "height": 265
        },
        "outputId": "954f04c1-5c08-49a6-a829-998bdddbeb80",
        "id": "bTEfDH190SUz"
      },
      "outputs": [
        {
          "output_type": "display_data",
          "data": {
            "text/plain": [
              "<Figure size 432x288 with 1 Axes>"
            ],
            "image/png": "[encoded data removed]"
          },
          "metadata": {
            "needs_background": "light"
          }
        }
      ],
      "source": [
        "%matplotlib inline\n",
        "plt.hist([len(sen) for sen in sentences_test], bins= 50)\n",
        "plt.show()"
      ]
    },
    {
      "cell_type": "code",
      "execution_count": null,
      "metadata": {
        "colab": {
          "base_uri": "https://localhost:8080/"
        },
        "outputId": "70fdb529-aacf-4721-dd40-b90b8eb850bf",
        "id": "rQ6MdzB-0SU0"
      },
      "outputs": [
        {
          "output_type": "stream",
          "name": "stdout",
          "text": [
            "22785\n"
          ]
        }
      ],
      "source": [
        "words2index_test = {w:i for i,w in enumerate(words)}\n",
        "# tags2index_test = {t:i for i,t in enumerate(tags)}\n",
        "print(words2index_test['combine'])\n",
        "# print(tags2index_test['B-Instrument'])"
      ]
    },
    {
      "cell_type": "code",
      "execution_count": null,
      "metadata": {
        "colab": {
          "base_uri": "https://localhost:8080/",
          "height": 206
        },
        "outputId": "d4da699d-141a-4f21-823c-f5ad9f00c01d",
        "id": "R1kkM5Vz0SU0"
      },
      "outputs": [
        {
          "output_type": "execute_result",
          "data": {
            "text/plain": [
              "               bibcode label_studio_id   section   tokens  \\\n",
              "0  2016A&A...586A.140P            1778  fulltext     that   \n",
              "1  2016A&A...586A.140P            1778  fulltext      gas   \n",
              "2  2016A&A...586A.140P            1778  fulltext  outside   \n",
              "3  2016A&A...586A.140P            1778  fulltext   halos,   \n",
              "4  2016A&A...586A.140P            1778  fulltext      not   \n",
              "\n",
              "                           unique_id  tokens_idx  \n",
              "0  fulltext_1778_2016A&A...586A.140P       12718  \n",
              "1  fulltext_1778_2016A&A...586A.140P       13151  \n",
              "2  fulltext_1778_2016A&A...586A.140P        9416  \n",
              "3  fulltext_1778_2016A&A...586A.140P       28525  \n",
              "4  fulltext_1778_2016A&A...586A.140P       42027  "
            ],
            "text/html": [
              "\n",
              "  <div id=\"df-109a59fc-ea55-4f19-a005-411c90fffcfb\">\n",
              "    <div class=\"colab-df-container\">\n",
              "      <div>\n",
              "<style scoped>\n",
              "    .dataframe tbody tr th:only-of-type {\n",
              "        vertical-align: middle;\n",
              "    }\n",
              "\n",
              "    .dataframe tbody tr th {\n",
              "        vertical-align: top;\n",
              "    }\n",
              "\n",
              "    .dataframe thead th {\n",
              "        text-align: right;\n",
              "    }\n",
              "</style>\n",
              "<table border=\"1\" class=\"dataframe\">\n",
              "  <thead>\n",
              "    <tr style=\"text-align: right;\">\n",
              "      <th></th>\n",
              "      <th>bibcode</th>\n",
              "      <th>label_studio_id</th>\n",
              "      <th>section</th>\n",
              "      <th>tokens</th>\n",
              "      <th>unique_id</th>\n",
              "      <th>tokens_idx</th>\n",
              "    </tr>\n",
              "  </thead>\n",
              "  <tbody>\n",
              "    <tr>\n",
              "      <th>0</th>\n",
              "      <td>2016A&amp;A...586A.140P</td>\n",
              "      <td>1778</td>\n",
              "      <td>fulltext</td>\n",
              "      <td>that</td>\n",
              "      <td>fulltext_1778_2016A&amp;A...586A.140P</td>\n",
              "      <td>12718</td>\n",
              "    </tr>\n",
              "    <tr>\n",
              "      <th>1</th>\n",
              "      <td>2016A&amp;A...586A.140P</td>\n",
              "      <td>1778</td>\n",
              "      <td>fulltext</td>\n",
              "      <td>gas</td>\n",
              "      <td>fulltext_1778_2016A&amp;A...586A.140P</td>\n",
              "      <td>13151</td>\n",
              "    </tr>\n",
              "    <tr>\n",
              "      <th>2</th>\n",
              "      <td>2016A&amp;A...586A.140P</td>\n",
              "      <td>1778</td>\n",
              "      <td>fulltext</td>\n",
              "      <td>outside</td>\n",
              "      <td>fulltext_1778_2016A&amp;A...586A.140P</td>\n",
              "      <td>9416</td>\n",
              "    </tr>\n",
              "    <tr>\n",
              "      <th>3</th>\n",
              "      <td>2016A&amp;A...586A.140P</td>\n",
              "      <td>1778</td>\n",
              "      <td>fulltext</td>\n",
              "      <td>halos,</td>\n",
              "      <td>fulltext_1778_2016A&amp;A...586A.140P</td>\n",
              "      <td>28525</td>\n",
              "    </tr>\n",
              "    <tr>\n",
              "      <th>4</th>\n",
              "      <td>2016A&amp;A...586A.140P</td>\n",
              "      <td>1778</td>\n",
              "      <td>fulltext</td>\n",
              "      <td>not</td>\n",
              "      <td>fulltext_1778_2016A&amp;A...586A.140P</td>\n",
              "      <td>42027</td>\n",
              "    </tr>\n",
              "  </tbody>\n",
              "</table>\n",
              "</div>\n",
              "      <button class=\"colab-df-convert\" onclick=\"convertToInteractive('df-109a59fc-ea55-4f19-a005-411c90fffcfb')\"\n",
              "              title=\"Convert this dataframe to an interactive table.\"\n",
              "              style=\"display:none;\">\n",
              "        \n",
              "  <svg xmlns=\"http://www.w3.org/2000/svg\" height=\"24px\"viewBox=\"0 0 24 24\"\n",
              "       width=\"24px\">\n",
              "    <path d=\"M0 0h24v24H0V0z\" fill=\"none\"/>\n",
              "    <path d=\"M18.56 5.44l.94 2.06.94-2.06 2.06-.94-2.06-.94-.94-2.06-.94 2.06-2.06.94zm-11 1L8.5 8.5l.94-2.06 2.06-.94-2.06-.94L8.5 2.5l-.94 2.06-2.06.94zm10 10l.94 2.06.94-2.06 2.06-.94-2.06-.94-.94-2.06-.94 2.06-2.06.94z\"/><path d=\"M17.41 7.96l-1.37-1.37c-.4-.4-.92-.59-1.43-.59-.52 0-1.04.2-1.43.59L10.3 9.45l-7.72 7.72c-.78.78-.78 2.05 0 2.83L4 21.41c.39.39.9.59 1.41.59.51 0 1.02-.2 1.41-.59l7.78-7.78 2.81-2.81c.8-.78.8-2.07 0-2.86zM5.41 20L4 18.59l7.72-7.72 1.47 1.35L5.41 20z\"/>\n",
              "  </svg>\n",
              "      </button>\n",
              "      \n",
              "  <style>\n",
              "    .colab-df-container {\n",
              "      display:flex;\n",
              "      flex-wrap:wrap;\n",
              "      gap: 12px;\n",
              "    }\n",
              "\n",
              "    .colab-df-convert {\n",
              "      background-color: #E8F0FE;\n",
              "      border: none;\n",
              "      border-radius: 50%;\n",
              "      cursor: pointer;\n",
              "      display: none;\n",
              "      fill: #1967D2;\n",
              "      height: 32px;\n",
              "      padding: 0 0 0 0;\n",
              "      width: 32px;\n",
              "    }\n",
              "\n",
              "    .colab-df-convert:hover {\n",
              "      background-color: #E2EBFA;\n",
              "      box-shadow: 0px 1px 2px rgba(60, 64, 67, 0.3), 0px 1px 3px 1px rgba(60, 64, 67, 0.15);\n",
              "      fill: #174EA6;\n",
              "    }\n",
              "\n",
              "    [theme=dark] .colab-df-convert {\n",
              "      background-color: #3B4455;\n",
              "      fill: #D2E3FC;\n",
              "    }\n",
              "\n",
              "    [theme=dark] .colab-df-convert:hover {\n",
              "      background-color: #434B5C;\n",
              "      box-shadow: 0px 1px 3px 1px rgba(0, 0, 0, 0.15);\n",
              "      filter: drop-shadow(0px 1px 2px rgba(0, 0, 0, 0.3));\n",
              "      fill: #FFFFFF;\n",
              "    }\n",
              "  </style>\n",
              "\n",
              "      <script>\n",
              "        const buttonEl =\n",
              "          document.querySelector('#df-109a59fc-ea55-4f19-a005-411c90fffcfb button.colab-df-convert');\n",
              "        buttonEl.style.display =\n",
              "          google.colab.kernel.accessAllowed ? 'block' : 'none';\n",
              "\n",
              "        async function convertToInteractive(key) {\n",
              "          const element = document.querySelector('#df-109a59fc-ea55-4f19-a005-411c90fffcfb');\n",
              "          const dataTable =\n",
              "            await google.colab.kernel.invokeFunction('convertToInteractive',\n",
              "                                                     [key], {});\n",
              "          if (!dataTable) return;\n",
              "\n",
              "          const docLinkHtml = 'Like what you see? Visit the ' +\n",
              "            '<a target=\"_blank\" href=https://colab.research.google.com/notebooks/data_table.ipynb>data table notebook</a>'\n",
              "            + ' to learn more about interactive tables.';\n",
              "          element.innerHTML = '';\n",
              "          dataTable['output_type'] = 'display_data';\n",
              "          await google.colab.output.renderOutput(dataTable, element);\n",
              "          const docLink = document.createElement('div');\n",
              "          docLink.innerHTML = docLinkHtml;\n",
              "          element.appendChild(docLink);\n",
              "        }\n",
              "      </script>\n",
              "    </div>\n",
              "  </div>\n",
              "  "
            ]
          },
          "metadata": {},
          "execution_count": 121
        }
      ],
      "source": [
        "df['tokens_idx'] = df['tokens'].map(words2index_test)\n",
        "df.head()"
      ]
    },
    {
      "cell_type": "code",
      "source": [
        "sentences_test[0][:5]"
      ],
      "metadata": {
        "colab": {
          "base_uri": "https://localhost:8080/"
        },
        "id": "Klfx4xrP6RCu",
        "outputId": "19b256b7-0d33-417c-abcd-33444888e761"
      },
      "execution_count": null,
      "outputs": [
        {
          "output_type": "execute_result",
          "data": {
            "text/plain": [
              "['ACKNOWLEDGEMENTS', 'The', 'authors', 'thank', 'Charlie']"
            ]
          },
          "metadata": {},
          "execution_count": 122
        }
      ]
    },
    {
      "cell_type": "code",
      "execution_count": null,
      "metadata": {
        "id": "VPVp0EOs0SU1"
      },
      "outputs": [],
      "source": [
        "max_len = 800\n",
        "X_test = [s for s in sentences_test]\n"
      ]
    },
    {
      "cell_type": "code",
      "source": [
        "len(X_test),len(X_test[0]),max([len(i) for i in X_test])"
      ],
      "metadata": {
        "colab": {
          "base_uri": "https://localhost:8080/"
        },
        "outputId": "cc8d04d5-0b98-41f4-e2bf-abf60eb70237",
        "id": "rdTCGwkw0SU1"
      },
      "execution_count": null,
      "outputs": [
        {
          "output_type": "execute_result",
          "data": {
            "text/plain": [
              "(1366, 185, 913)"
            ]
          },
          "metadata": {},
          "execution_count": 124
        }
      ]
    },
    {
      "cell_type": "code",
      "source": [
        "max_len = 800\n",
        "j=0\n",
        "test_X = []\n",
        "for i in range(len(X_test)):\n",
        "    a = X_test[i].copy()\n",
        "    if len(X_test[i])==max_len:\n",
        "      continue\n",
        "    for k in range(max_len-len(a)):\n",
        "      a.append(\"PAD\")\n",
        "    if len(a)==max_len:\n",
        "      test_X.append(a)\n",
        "      pass\n",
        "    else:\n",
        "      print(\"nope\")\n",
        "      print(len(X_test[i]))\n",
        "    "
      ],
      "metadata": {
        "colab": {
          "base_uri": "https://localhost:8080/"
        },
        "id": "CXhPd3_z4ykR",
        "outputId": "3bab81ce-7a45-4804-9696-db8a2463593f"
      },
      "execution_count": null,
      "outputs": [
        {
          "output_type": "stream",
          "name": "stdout",
          "text": [
            "nope\n",
            "913\n"
          ]
        }
      ]
    },
    {
      "cell_type": "code",
      "source": [
        "len(test_X),len(test_X[0]),max([len(i) for i in test_X])\n",
        "# \\sentences_test"
      ],
      "metadata": {
        "colab": {
          "base_uri": "https://localhost:8080/"
        },
        "id": "_zdPvLKj3QSW",
        "outputId": "481ecd7e-4879-4fba-ec60-cdb6c05c242c"
      },
      "execution_count": null,
      "outputs": [
        {
          "output_type": "execute_result",
          "data": {
            "text/plain": [
              "(1365, 800, 800)"
            ]
          },
          "metadata": {},
          "execution_count": 29
        }
      ]
    },
    {
      "cell_type": "code",
      "execution_count": null,
      "metadata": {
        "id": "wBR0Ar7M0SU2"
      },
      "outputs": [],
      "source": [
        "# from tensorflow.keras.preprocessing.sequence import pad_sequences\n",
        "# y = [[tags2index[w[1]] for w in s] for s in sentences]\n",
        "# y = pad_sequences(maxlen=max_len, sequences=y, padding=\"post\", value=tags2index[\"O\"])\n",
        "# # y[15]"
      ]
    },
    {
      "cell_type": "code",
      "source": [
        "# depth=n_tags\n",
        "# y = tf.one_hot(y, depth)\n",
        "# y2 = np.eye(depth)[y]"
      ],
      "metadata": {
        "id": "A5i53oZy0SU2"
      },
      "execution_count": null,
      "outputs": []
    },
    {
      "cell_type": "code",
      "execution_count": null,
      "metadata": {
        "id": "B9qX7oBw0SU6"
      },
      "outputs": [],
      "source": [
        "batch_size=1024"
      ]
    },
    {
      "cell_type": "code",
      "source": [
        "# from tensorflow.keras.preprocessing.text import Tokenizer\n",
        "# from tensorflow.keras.preprocessing.sequence import pad_sequences\n",
        "# tok_test = Tokenizer(oov_token=\"<OOV>\")"
      ],
      "metadata": {
        "id": "LWSAxM780SU7"
      },
      "execution_count": null,
      "outputs": []
    },
    {
      "cell_type": "code",
      "source": [
        "# tok_test.fit_on_texts(test_X)\n",
        "X_test_tokens = tok.texts_to_sequences(X_test)\n",
        "padded_X_test = pad_sequences(X_test_tokens,padding=\"post\",maxlen=800)"
      ],
      "metadata": {
        "id": "oMmaHA8p0SU7"
      },
      "execution_count": null,
      "outputs": []
    },
    {
      "cell_type": "code",
      "source": [
        "# from sklearn.model_selection import train_test_split\n",
        "# X_tr, X_val, y_tr, y_val = train_test_split(X_test_tokens, y, test_size=0.1, random_state=2021)"
      ],
      "metadata": {
        "id": "t0e40VIT0SU9"
      },
      "execution_count": null,
      "outputs": []
    },
    {
      "cell_type": "code",
      "source": [
        "import tensorflow as tf\n",
        "X_test_tokens = tf.convert_to_tensor(padded_X_test)"
      ],
      "metadata": {
        "id": "wT1brIRC0SU-"
      },
      "execution_count": null,
      "outputs": []
    },
    {
      "cell_type": "code",
      "source": [
        "X_test_tokens.shape"
      ],
      "metadata": {
        "colab": {
          "base_uri": "https://localhost:8080/"
        },
        "outputId": "c00dbeb7-d9bb-48c5-853a-ad26d9782b3f",
        "id": "9p2aOomM0SU_"
      },
      "execution_count": null,
      "outputs": [
        {
          "output_type": "execute_result",
          "data": {
            "text/plain": [
              "TensorShape([1366, 800])"
            ]
          },
          "metadata": {},
          "execution_count": 127
        }
      ]
    },
    {
      "cell_type": "code",
      "source": [
        "X_test[0][:5]"
      ],
      "metadata": {
        "colab": {
          "base_uri": "https://localhost:8080/"
        },
        "id": "Me2nLvzbxYzf",
        "outputId": "6ac3c6a1-6ac4-4307-8a5b-25f42784c3a7"
      },
      "execution_count": null,
      "outputs": [
        {
          "output_type": "execute_result",
          "data": {
            "text/plain": [
              "['ACKNOWLEDGEMENTS', 'The', 'authors', 'thank', 'Charlie']"
            ]
          },
          "metadata": {},
          "execution_count": 144
        }
      ]
    },
    {
      "cell_type": "markdown",
      "source": [
        "## Model predict "
      ],
      "metadata": {
        "id": "3-44S0ff7eDQ"
      }
    },
    {
      "cell_type": "code",
      "source": [
        "model.load_weights(\"10epochs_glove_embeddings.h5\")"
      ],
      "metadata": {
        "id": "iztAkocAC1Na"
      },
      "execution_count": null,
      "outputs": []
    },
    {
      "cell_type": "code",
      "source": [
        "preds=model.predict(X_test_tokens)"
      ],
      "metadata": {
        "id": "CtDlQ2v17c_m"
      },
      "execution_count": null,
      "outputs": []
    },
    {
      "cell_type": "code",
      "source": [
        "inv_words2index = {v: k  for k,v in words2index.items()}\n",
        "inv_tags2index = {v: k  for k,v in tags2index.items()}"
      ],
      "metadata": {
        "id": "MoNo_hStuwHO"
      },
      "execution_count": null,
      "outputs": []
    },
    {
      "cell_type": "code",
      "source": [
        "pred1 = [i.argmax() for i in preds[0]]\n",
        "pred2 = [i.argmax() for i in preds[1]]\n",
        "pred3 = [i.argmax() for i in preds[2]]\n",
        "pred4 = [i.argmax() for i in preds[3]]\n",
        "pred5 = [i.argmax() for i in preds[4]]"
      ],
      "metadata": {
        "id": "GC4c2halvWzc"
      },
      "execution_count": null,
      "outputs": []
    },
    {
      "cell_type": "code",
      "source": [
        "pre1_ner_tags = [inv_tags2index[i] for i in pred1]\n",
        "pre2_ner_tags = [inv_tags2index[i] for i in pred2]\n",
        "pre3_ner_tags = [inv_tags2index[i] for i in pred3]\n",
        "pre4_ner_tags = [inv_tags2index[i] for i in pred4]\n",
        "pre5_ner_tags = [inv_tags2index[i] for i in pred5]"
      ],
      "metadata": {
        "id": "uRHZKoGBvriH"
      },
      "execution_count": null,
      "outputs": []
    },
    {
      "cell_type": "code",
      "source": [
        "from collections import Counter\n",
        "counter1=Counter(pre1_ner_tags)"
      ],
      "metadata": {
        "id": "x-Mcc52BwDBl"
      },
      "execution_count": null,
      "outputs": []
    },
    {
      "cell_type": "code",
      "source": [
        "counter2=Counter(pre2_ner_tags)\n",
        "counter3=Counter(pre3_ner_tags)\n",
        "counter4=Counter(pre4_ner_tags)\n",
        "counter5=Counter(pre5_ner_tags)"
      ],
      "metadata": {
        "id": "DwyeDyIWwWea"
      },
      "execution_count": null,
      "outputs": []
    },
    {
      "cell_type": "code",
      "source": [
        "len(X_test[0])"
      ],
      "metadata": {
        "colab": {
          "base_uri": "https://localhost:8080/"
        },
        "id": "DwZJPfrhynsg",
        "outputId": "141e0a02-c35f-4137-9562-d306026ff748"
      },
      "execution_count": null,
      "outputs": [
        {
          "output_type": "execute_result",
          "data": {
            "text/plain": [
              "185"
            ]
          },
          "metadata": {},
          "execution_count": 147
        }
      ]
    },
    {
      "cell_type": "code",
      "source": [
        "len(pre1_ner_tags)"
      ],
      "metadata": {
        "colab": {
          "base_uri": "https://localhost:8080/"
        },
        "id": "N3Mvp4pkytY5",
        "outputId": "e6203c00-905f-4e1b-a7be-73bbe02957b8"
      },
      "execution_count": null,
      "outputs": [
        {
          "output_type": "execute_result",
          "data": {
            "text/plain": [
              "800"
            ]
          },
          "metadata": {},
          "execution_count": 148
        }
      ]
    },
    {
      "cell_type": "code",
      "source": [
        "for i in range(len(X_test[0])):\n",
        "  print(\"Word:\",X_test[0][i],\" \",\"Prediction:\",pre1_ner_tags[i])"
      ],
      "metadata": {
        "colab": {
          "base_uri": "https://localhost:8080/"
        },
        "id": "j_4B-HXfyXtW",
        "outputId": "fa15b6a2-4239-426d-d836-dd3eb222d1ca"
      },
      "execution_count": null,
      "outputs": [
        {
          "output_type": "stream",
          "name": "stdout",
          "text": [
            "Word: ACKNOWLEDGEMENTS   Prediction: O\n",
            "Word: The   Prediction: O\n",
            "Word: authors   Prediction: O\n",
            "Word: thank   Prediction: O\n",
            "Word: Charlie   Prediction: B-Person\n",
            "Word: Conroy   Prediction: I-Person\n",
            "Word: for   Prediction: O\n",
            "Word: useful   Prediction: O\n",
            "Word: discussions   Prediction: O\n",
            "Word: and   Prediction: O\n",
            "Word: for   Prediction: O\n",
            "Word: providing   Prediction: O\n",
            "Word: comments   Prediction: O\n",
            "Word: on   Prediction: O\n",
            "Word: a   Prediction: O\n",
            "Word: draft   Prediction: O\n",
            "Word: of   Prediction: O\n",
            "Word: this   Prediction: O\n",
            "Word: paper.   Prediction: O\n",
            "Word: We   Prediction: O\n",
            "Word: thank   Prediction: O\n",
            "Word: Steve   Prediction: B-Person\n",
            "Word: Finkelstein,   Prediction: I-Person\n",
            "Word: Fred   Prediction: B-Person\n",
            "Word: Davies,   Prediction: I-Person\n",
            "Word: and   Prediction: O\n",
            "Word: Brad   Prediction: B-Person\n",
            "Word: Greig   Prediction: I-Person\n",
            "Word: for   Prediction: O\n",
            "Word: useful   Prediction: O\n",
            "Word: discussions   Prediction: O\n",
            "Word: and   Prediction: O\n",
            "Word: for   Prediction: O\n",
            "Word: providing:   Prediction: O\n",
            "Word: the   Prediction: O\n",
            "Word: model   Prediction: O\n",
            "Word: from   Prediction: O\n",
            "Word: Finkelstein   Prediction: B-Citation\n",
            "Word: et   Prediction: I-Citation\n",
            "Word: al.   Prediction: I-Citation\n",
            "Word: (   Prediction: I-Citation\n",
            "Word: 2019   Prediction: I-Citation\n",
            "Word: ),   Prediction: I-Citation\n",
            "Word: and   Prediction: O\n",
            "Word: posteriors   Prediction: O\n",
            "Word: from   Prediction: O\n",
            "Word: Davies   Prediction: B-Citation\n",
            "Word: et   Prediction: I-Citation\n",
            "Word: al.   Prediction: I-Citation\n",
            "Word: (   Prediction: I-Citation\n",
            "Word: 2018   Prediction: I-Citation\n",
            "Word: )   Prediction: I-Citation\n",
            "Word: and   Prediction: O\n",
            "Word: Greig   Prediction: B-Citation\n",
            "Word: et   Prediction: I-Citation\n",
            "Word: al.   Prediction: I-Citation\n",
            "Word: (   Prediction: I-Citation\n",
            "Word: 2019   Prediction: I-Citation\n",
            "Word: ),   Prediction: O\n",
            "Word: respectively.   Prediction: O\n",
            "Word: We   Prediction: O\n",
            "Word: thank   Prediction: O\n",
            "Word: Austin   Prediction: B-Citation\n",
            "Word: Hoag   Prediction: I-Citation\n",
            "Word: for   Prediction: O\n",
            "Word: sharing   Prediction: O\n",
            "Word: the   Prediction: O\n",
            "Word: posterior   Prediction: O\n",
            "Word: from   Prediction: O\n",
            "Word: Hoag   Prediction: B-Citation\n",
            "Word: et   Prediction: I-Citation\n",
            "Word: al.   Prediction: I-Citation\n",
            "Word: (   Prediction: I-Citation\n",
            "Word: 2019   Prediction: I-Citation\n",
            "Word: ).   Prediction: I-Citation\n",
            "Word: CAM   Prediction: B-Person\n",
            "Word: acknowledges   Prediction: O\n",
            "Word: support   Prediction: O\n",
            "Word: by   Prediction: O\n",
            "Word: NASA   Prediction: B-Organization\n",
            "Word: Headquarters   Prediction: O\n",
            "Word: through   Prediction: O\n",
            "Word: the   Prediction: O\n",
            "Word: NASA   Prediction: B-Organization\n",
            "Word: Hubble   Prediction: I-Fellowship\n",
            "Word: Fellowship   Prediction: I-Fellowship\n",
            "Word: grant   Prediction: I-Fellowship\n",
            "Word: HST-HF2-51413.001-A   Prediction: B-Person\n",
            "Word: awarded   Prediction: O\n",
            "Word: by   Prediction: O\n",
            "Word: the   Prediction: O\n",
            "Word: Space   Prediction: B-Organization\n",
            "Word: Telescope   Prediction: I-Organization\n",
            "Word: Science   Prediction: I-Organization\n",
            "Word: Institute,   Prediction: I-Organization\n",
            "Word: which   Prediction: O\n",
            "Word: is   Prediction: O\n",
            "Word: operated   Prediction: O\n",
            "Word: by   Prediction: O\n",
            "Word: the   Prediction: O\n",
            "Word: Association   Prediction: B-Organization\n",
            "Word: of   Prediction: I-Organization\n",
            "Word: Universities   Prediction: I-Organization\n",
            "Word: for   Prediction: I-Organization\n",
            "Word: Research   Prediction: I-Organization\n",
            "Word: in   Prediction: I-Organization\n",
            "Word: Astronomy,   Prediction: I-Organization\n",
            "Word: Inc.,   Prediction: I-Organization\n",
            "Word: for   Prediction: O\n",
            "Word: NASA,   Prediction: B-Organization\n",
            "Word: under   Prediction: O\n",
            "Word: contract   Prediction: O\n",
            "Word: NAS5-26555.   Prediction: B-Grant\n",
            "Word: RPN   Prediction: B-Person\n",
            "Word: gratefully   Prediction: O\n",
            "Word: acknowledges   Prediction: O\n",
            "Word: an   Prediction: O\n",
            "Word: Ashford   Prediction: B-Citation\n",
            "Word: Fellowship   Prediction: I-Fellowship\n",
            "Word: and   Prediction: O\n",
            "Word: Peirce   Prediction: B-Fellowship\n",
            "Word: Fellowship   Prediction: I-Fellowship\n",
            "Word: granted   Prediction: O\n",
            "Word: by   Prediction: O\n",
            "Word: Harvard   Prediction: B-Organization\n",
            "Word: University.   Prediction: I-Organization\n",
            "Word: ST   Prediction: I-Organization\n",
            "Word: is   Prediction: O\n",
            "Word: supported   Prediction: O\n",
            "Word: by   Prediction: O\n",
            "Word: the   Prediction: O\n",
            "Word: Smithsonian   Prediction: B-Organization\n",
            "Word: Astrophysical   Prediction: I-Observatory\n",
            "Word: Observatory   Prediction: I-Observatory\n",
            "Word: through   Prediction: O\n",
            "Word: the   Prediction: O\n",
            "Word: CfA   Prediction: B-Organization\n",
            "Word: Fellowship.   Prediction: B-Person\n",
            "Word: JL   Prediction: B-Person\n",
            "Word: is   Prediction: O\n",
            "Word: supported   Prediction: O\n",
            "Word: by   Prediction: O\n",
            "Word: an   Prediction: O\n",
            "Word: NSF   Prediction: B-Organization\n",
            "Word: Astronomy   Prediction: I-Organization\n",
            "Word: and   Prediction: I-Organization\n",
            "Word: Astrophysics   Prediction: I-Organization\n",
            "Word: Postdoctoral   Prediction: I-Fellowship\n",
            "Word: Fellowship   Prediction: I-Fellowship\n",
            "Word: under   Prediction: O\n",
            "Word: award   Prediction: O\n",
            "Word: AST-1701487.   Prediction: B-Person\n",
            "Word: Software   Prediction: O\n",
            "Word: :   Prediction: O\n",
            "Word: ipython   Prediction: B-Grant\n",
            "Word: (Pérez   Prediction: I-Fellowship\n",
            "Word: Granger   Prediction: I-Citation\n",
            "Word: 2007   Prediction: I-Citation\n",
            "Word: ),   Prediction: O\n",
            "Word: matplotlib   Prediction: B-Software\n",
            "Word: (Hunter   Prediction: B-Citation\n",
            "Word: 2007   Prediction: I-Citation\n",
            "Word: ),   Prediction: O\n",
            "Word: numpy   Prediction: B-Software\n",
            "Word: (Van   Prediction: B-Citation\n",
            "Word: Der   Prediction: I-Citation\n",
            "Word: Walt,   Prediction: I-Citation\n",
            "Word: Colbert   Prediction: I-Citation\n",
            "Word: Varoquaux   Prediction: I-Citation\n",
            "Word: 2011   Prediction: I-Citation\n",
            "Word: ),   Prediction: O\n",
            "Word: scipy   Prediction: B-Software\n",
            "Word: (Oliphant   Prediction: B-Citation\n",
            "Word: 2007   Prediction: I-Citation\n",
            "Word: ),   Prediction: O\n",
            "Word: astropy   Prediction: B-Software\n",
            "Word: (Robitaille   Prediction: B-Citation\n",
            "Word: et   Prediction: I-Citation\n",
            "Word: al.   Prediction: I-Citation\n",
            "Word: 2013   Prediction: I-Citation\n",
            "Word: ),   Prediction: O\n",
            "Word: dynesty   Prediction: O\n",
            "Word: (Speagle   Prediction: O\n",
            "Word: 2019   Prediction: O\n",
            "Word: ).   Prediction: O\n"
          ]
        }
      ]
    },
    {
      "cell_type": "code",
      "source": [
        "%matplotlib inline\n",
        "fig=plt.figure(figsize=(20,5))\n",
        "plt.bar(list(counter1.keys()),list(counter1.values()),)\n",
        "plt.show()"
      ],
      "metadata": {
        "colab": {
          "base_uri": "https://localhost:8080/",
          "height": 309
        },
        "id": "07xSm45Pwqy_",
        "outputId": "0887faaf-5ed9-41f8-d3ee-b3c51f3c4d48"
      },
      "execution_count": null,
      "outputs": [
        {
          "output_type": "display_data",
          "data": {
            "text/plain": [
              "<Figure size 1440x360 with 1 Axes>"
            ],
            "image/png": "[encoded data removed]"
          },
          "metadata": {
            "needs_background": "light"
          }
        }
      ]
    },
    {
      "cell_type": "code",
      "source": [
        "%matplotlib inline\n",
        "fig=plt.figure(figsize=(10,5))\n",
        "plt.bar(list(counter2.keys()),list(counter2.values()),)\n",
        "plt.show()"
      ],
      "metadata": {
        "colab": {
          "base_uri": "https://localhost:8080/",
          "height": 320
        },
        "id": "KLxxzWjfw2oW",
        "outputId": "75eb147f-ac19-4622-8648-191f8d7eebf9"
      },
      "execution_count": null,
      "outputs": [
        {
          "output_type": "display_data",
          "data": {
            "text/plain": [
              "<Figure size 720x360 with 1 Axes>"
            ],
            "image/png": "[encoded data removed]"
          },
          "metadata": {
            "needs_background": "light"
          }
        }
      ]
    },
    {
      "cell_type": "code",
      "source": [
        "%matplotlib inline\n",
        "fig=plt.figure(figsize=(10,5))\n",
        "plt.bar(list(counter3.keys()),list(counter3.values()),)\n",
        "plt.show()"
      ],
      "metadata": {
        "colab": {
          "base_uri": "https://localhost:8080/",
          "height": 320
        },
        "id": "zMRpKH3aw8SD",
        "outputId": "e4053e3e-716f-4bf8-cdbc-07adebc40243"
      },
      "execution_count": null,
      "outputs": [
        {
          "output_type": "display_data",
          "data": {
            "text/plain": [
              "<Figure size 720x360 with 1 Axes>"
            ],
            "image/png": "[encoded data removed]"
          },
          "metadata": {
            "needs_background": "light"
          }
        }
      ]
    },
    {
      "cell_type": "code",
      "source": [
        "%matplotlib inline\n",
        "fig=plt.figure(figsize=(20,5))\n",
        "plt.bar(list(counter4.keys()),list(counter4.values()),)\n",
        "plt.show()"
      ],
      "metadata": {
        "colab": {
          "base_uri": "https://localhost:8080/",
          "height": 309
        },
        "id": "AK6wu2C3xM4T",
        "outputId": "a073add6-0be4-4f5a-8c6b-afee45b767e0"
      },
      "execution_count": null,
      "outputs": [
        {
          "output_type": "display_data",
          "data": {
            "text/plain": [
              "<Figure size 1440x360 with 1 Axes>"
            ],
            "image/png": "[encoded data removed]"
          },
          "metadata": {
            "needs_background": "light"
          }
        }
      ]
    },
    {
      "cell_type": "code",
      "source": [
        "%matplotlib inline\n",
        "fig=plt.figure(figsize=(20,5))\n",
        "plt.bar(list(counter5.keys()),list(counter5.values()),)\n",
        "plt.show()"
      ],
      "metadata": {
        "colab": {
          "base_uri": "https://localhost:8080/",
          "height": 309
        },
        "id": "O39i-fzKxvN6",
        "outputId": "675395f4-fad5-412e-8176-c755b98220f5"
      },
      "execution_count": null,
      "outputs": [
        {
          "output_type": "display_data",
          "data": {
            "text/plain": [
              "<Figure size 1440x360 with 1 Axes>"
            ],
            "image/png": "[encoded data removed]"
          },
          "metadata": {
            "needs_background": "light"
          }
        }
      ]
    }
  ],
  "metadata": {
    "colab": {
      "name": "Univ_ner_Bilstm.ipynb",
      "provenance": [],
      "collapsed_sections": [],
      "toc_visible": true
    },
    "kernelspec": {
      "display_name": "Python 3",
      "name": "python3"
    },
    "language_info": {
      "name": "python"
    }
  },
  "nbformat": 4,
  "nbformat_minor": 0
}